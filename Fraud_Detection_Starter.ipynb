{
 "cells": [
  {
   "cell_type": "markdown",
   "metadata": {
    "id": "RqLQ-hbyb5jH"
   },
   "source": [
    "# Fraud Detection in Electricity and Gas Consumption Challenge\n",
    "\n",
    "This is a simple starter notebook based on the tutorial prepared by Joy Wawira. Check out the article [here](https://zindi.africa/learn/fraud-detection-in-electricity-and-gas-consumption-challenge-tutorial) for a more detailed description of the steps taken.\n",
    "\n",
    "This notebook covers:\n",
    "- Downloading the data straight from Zindi and onto colab\n",
    "- Loading the data and carrying out simple EDA to understand the data and prepare for modelling \n",
    "- Preprocessing the data and feature engineering \n",
    "- Creating a simple LGBM model and predicting on the test set\n",
    "- Prepare submission file and save as csv\n",
    "- Some tips on how to improve model performance and your score"
   ]
  },
  {
   "cell_type": "markdown",
   "metadata": {},
   "source": [
    "Client dataset columns:\n",
    "\n",
    "- Client_id: Unique id for client\n",
    "- District: District where the client is\n",
    "- Client_catg: Category client belongs to\n",
    "- Region: Area where the client is\n",
    "- Creation_date: Date client joined\n",
    "- Target: fraud:1 , not fraud: 0\n"
   ]
  },
  {
   "cell_type": "markdown",
   "metadata": {},
   "source": [
    "Invoice data\n",
    "\n",
    "- Client_id: Unique id for the client\n",
    "- Invoice_date: Date of the invoice\n",
    "- Tarif_type: Type of tax\n",
    "- Counter_number: the meter's ID\n",
    "- Counter_statue: takes up to 5 values such as working fine, not working, on hold statue, ect\n",
    "- Counter_code:\n",
    "- Reading_remarque: notes that the STEG agent takes during his visit to the client (e.g: If the counter shows something wrong, the agent gives a bad score)\n",
    "- Counter_coefficient: An additional coefficient to be added when standard consumption is exceeded\n",
    "- Consommation_level_1: consuption band 1\n",
    "- Consommation_level_2: consuption band 2\n",
    "- Consommation_level_3: consuption band 3\n",
    "- Consommation_level_4: consuption band 4\n",
    "- Old_index: Old index\n",
    "- New_index: New index\n",
    "- Months_number: time since last reading, in months\n",
    "- Counter_type: Type of counter, whether is electricity (ELEC) meter or gas (GAZ) meter, later we shall encode it as `{ELEC : 0, GAZ : 1}`"
   ]
  },
  {
   "cell_type": "markdown",
   "metadata": {
    "id": "GKfpS4UVJ4Wj"
   },
   "source": [
    "# Libraries set up"
   ]
  },
  {
   "cell_type": "code",
   "execution_count": 1,
   "metadata": {
    "id": "OJMD_I3EJWP4",
    "tags": []
   },
   "outputs": [],
   "source": [
    "#libraries for data handling and EDA\n",
    "import numpy as np\n",
    "import pandas as pd\n",
    "import matplotlib.pyplot as plt\n",
    "import seaborn as sns\n",
    "\n",
    "\n",
    "#libraries for modelling\n",
    "from sklearn.preprocessing import StandardScaler\n",
    "from sklearn.impute import (\n",
    "    SimpleImputer, \n",
    "    KNNImputer)\n",
    "from sklearn.preprocessing import (\n",
    "    OneHotEncoder,\n",
    "    StandardScaler,\n",
    "    MinMaxScaler,\n",
    "    PolynomialFeatures,\n",
    "    KBinsDiscretizer\n",
    ")\n",
    "from sklearn.model_selection import train_test_split, cross_val_score\n",
    "from sklearn.compose import ColumnTransformer\n",
    "from sklearn.pipeline import Pipeline\n",
    "from sklearn.model_selection import GridSearchCV, RandomizedSearchCV\n",
    "from sklearn.tree import DecisionTreeClassifier\n",
    "from sklearn.neighbors import KNeighborsClassifier\n",
    "from sklearn.linear_model import LogisticRegression\n",
    "from sklearn.linear_model import SGDClassifier\n",
    "from sklearn.metrics import classification_report\n",
    "from sklearn.metrics import accuracy_score, confusion_matrix, ConfusionMatrixDisplay\n",
    "\n",
    "\n",
    "#hide warnings\n",
    "import warnings\n",
    "warnings.simplefilter('ignore')\n",
    "\n",
    "RSEED = 42"
   ]
  },
  {
   "cell_type": "markdown",
   "metadata": {
    "id": "Jy_tdygDJm-k",
    "tags": []
   },
   "source": [
    "# Data Preparation"
   ]
  },
  {
   "cell_type": "markdown",
   "metadata": {
    "id": "exEGyf6vJ_4T"
   },
   "source": [
    "**import the data into a dataframe**"
   ]
  },
  {
   "cell_type": "code",
   "execution_count": 2,
   "metadata": {
    "id": "I2oIx7IuKCJm",
    "tags": []
   },
   "outputs": [],
   "source": [
    "client = pd.read_csv('data/client_train.csv')\n",
    "invoice = pd.read_csv('data/invoice_train.csv')"
   ]
  },
  {
   "cell_type": "markdown",
   "metadata": {
    "id": "cDRp9i5ZO9mz"
   },
   "source": [
    "**brief data exploration**"
   ]
  },
  {
   "cell_type": "code",
   "execution_count": 3,
   "metadata": {
    "colab": {
     "base_uri": "https://localhost:8080/"
    },
    "id": "h4zQzvLjKZ6E",
    "outputId": "deb14c51-2f5d-40cd-aa35-771477e044e0",
    "tags": []
   },
   "outputs": [
    {
     "name": "stdout",
     "output_type": "stream",
     "text": [
      "client dataset: (135493, 6)\n",
      "invoice dataset (4476749, 16)\n"
     ]
    }
   ],
   "source": [
    "#compare size of the two datasets\n",
    "print('client dataset:', client.shape)\n",
    "print('invoice dataset', invoice.shape)"
   ]
  },
  {
   "cell_type": "markdown",
   "metadata": {
    "tags": []
   },
   "source": [
    "We have a number of invoices per client."
   ]
  },
  {
   "cell_type": "code",
   "execution_count": 4,
   "metadata": {
    "colab": {
     "base_uri": "https://localhost:8080/",
     "height": 270
    },
    "id": "Tw1On2leQsxU",
    "outputId": "4bbe6376-2007-4ea4-cd6f-e53e4c0bcb33",
    "tags": []
   },
   "outputs": [
    {
     "data": {
      "text/html": [
       "<div>\n",
       "<style scoped>\n",
       "    .dataframe tbody tr th:only-of-type {\n",
       "        vertical-align: middle;\n",
       "    }\n",
       "\n",
       "    .dataframe tbody tr th {\n",
       "        vertical-align: top;\n",
       "    }\n",
       "\n",
       "    .dataframe thead th {\n",
       "        text-align: right;\n",
       "    }\n",
       "</style>\n",
       "<table border=\"1\" class=\"dataframe\">\n",
       "  <thead>\n",
       "    <tr style=\"text-align: right;\">\n",
       "      <th></th>\n",
       "      <th>disrict</th>\n",
       "      <th>client_id</th>\n",
       "      <th>client_catg</th>\n",
       "      <th>region</th>\n",
       "      <th>creation_date</th>\n",
       "      <th>target</th>\n",
       "    </tr>\n",
       "  </thead>\n",
       "  <tbody>\n",
       "    <tr>\n",
       "      <th>0</th>\n",
       "      <td>60</td>\n",
       "      <td>train_Client_0</td>\n",
       "      <td>11</td>\n",
       "      <td>101</td>\n",
       "      <td>31/12/1994</td>\n",
       "      <td>0.0</td>\n",
       "    </tr>\n",
       "    <tr>\n",
       "      <th>1</th>\n",
       "      <td>69</td>\n",
       "      <td>train_Client_1</td>\n",
       "      <td>11</td>\n",
       "      <td>107</td>\n",
       "      <td>29/05/2002</td>\n",
       "      <td>0.0</td>\n",
       "    </tr>\n",
       "    <tr>\n",
       "      <th>2</th>\n",
       "      <td>62</td>\n",
       "      <td>train_Client_10</td>\n",
       "      <td>11</td>\n",
       "      <td>301</td>\n",
       "      <td>13/03/1986</td>\n",
       "      <td>0.0</td>\n",
       "    </tr>\n",
       "    <tr>\n",
       "      <th>3</th>\n",
       "      <td>69</td>\n",
       "      <td>train_Client_100</td>\n",
       "      <td>11</td>\n",
       "      <td>105</td>\n",
       "      <td>11/07/1996</td>\n",
       "      <td>0.0</td>\n",
       "    </tr>\n",
       "    <tr>\n",
       "      <th>4</th>\n",
       "      <td>62</td>\n",
       "      <td>train_Client_1000</td>\n",
       "      <td>11</td>\n",
       "      <td>303</td>\n",
       "      <td>14/10/2014</td>\n",
       "      <td>0.0</td>\n",
       "    </tr>\n",
       "  </tbody>\n",
       "</table>\n",
       "</div>"
      ],
      "text/plain": [
       "   disrict          client_id  client_catg  region creation_date  target\n",
       "0       60     train_Client_0           11     101    31/12/1994     0.0\n",
       "1       69     train_Client_1           11     107    29/05/2002     0.0\n",
       "2       62    train_Client_10           11     301    13/03/1986     0.0\n",
       "3       69   train_Client_100           11     105    11/07/1996     0.0\n",
       "4       62  train_Client_1000           11     303    14/10/2014     0.0"
      ]
     },
     "execution_count": 4,
     "metadata": {},
     "output_type": "execute_result"
    }
   ],
   "source": [
    "#display the client dataset\n",
    "client.head()"
   ]
  },
  {
   "cell_type": "code",
   "execution_count": 5,
   "metadata": {
    "tags": []
   },
   "outputs": [
    {
     "data": {
      "text/html": [
       "<div>\n",
       "<style scoped>\n",
       "    .dataframe tbody tr th:only-of-type {\n",
       "        vertical-align: middle;\n",
       "    }\n",
       "\n",
       "    .dataframe tbody tr th {\n",
       "        vertical-align: top;\n",
       "    }\n",
       "\n",
       "    .dataframe thead th {\n",
       "        text-align: right;\n",
       "    }\n",
       "</style>\n",
       "<table border=\"1\" class=\"dataframe\">\n",
       "  <thead>\n",
       "    <tr style=\"text-align: right;\">\n",
       "      <th></th>\n",
       "      <th>client_id</th>\n",
       "      <th>invoice_date</th>\n",
       "      <th>tarif_type</th>\n",
       "      <th>counter_number</th>\n",
       "      <th>counter_statue</th>\n",
       "      <th>counter_code</th>\n",
       "      <th>reading_remarque</th>\n",
       "      <th>counter_coefficient</th>\n",
       "      <th>consommation_level_1</th>\n",
       "      <th>consommation_level_2</th>\n",
       "      <th>consommation_level_3</th>\n",
       "      <th>consommation_level_4</th>\n",
       "      <th>old_index</th>\n",
       "      <th>new_index</th>\n",
       "      <th>months_number</th>\n",
       "      <th>counter_type</th>\n",
       "    </tr>\n",
       "  </thead>\n",
       "  <tbody>\n",
       "    <tr>\n",
       "      <th>0</th>\n",
       "      <td>train_Client_0</td>\n",
       "      <td>2014-03-24</td>\n",
       "      <td>11</td>\n",
       "      <td>1335667</td>\n",
       "      <td>0</td>\n",
       "      <td>203</td>\n",
       "      <td>8</td>\n",
       "      <td>1</td>\n",
       "      <td>82</td>\n",
       "      <td>0</td>\n",
       "      <td>0</td>\n",
       "      <td>0</td>\n",
       "      <td>14302</td>\n",
       "      <td>14384</td>\n",
       "      <td>4</td>\n",
       "      <td>ELEC</td>\n",
       "    </tr>\n",
       "    <tr>\n",
       "      <th>1</th>\n",
       "      <td>train_Client_0</td>\n",
       "      <td>2013-03-29</td>\n",
       "      <td>11</td>\n",
       "      <td>1335667</td>\n",
       "      <td>0</td>\n",
       "      <td>203</td>\n",
       "      <td>6</td>\n",
       "      <td>1</td>\n",
       "      <td>1200</td>\n",
       "      <td>184</td>\n",
       "      <td>0</td>\n",
       "      <td>0</td>\n",
       "      <td>12294</td>\n",
       "      <td>13678</td>\n",
       "      <td>4</td>\n",
       "      <td>ELEC</td>\n",
       "    </tr>\n",
       "    <tr>\n",
       "      <th>2</th>\n",
       "      <td>train_Client_0</td>\n",
       "      <td>2015-03-23</td>\n",
       "      <td>11</td>\n",
       "      <td>1335667</td>\n",
       "      <td>0</td>\n",
       "      <td>203</td>\n",
       "      <td>8</td>\n",
       "      <td>1</td>\n",
       "      <td>123</td>\n",
       "      <td>0</td>\n",
       "      <td>0</td>\n",
       "      <td>0</td>\n",
       "      <td>14624</td>\n",
       "      <td>14747</td>\n",
       "      <td>4</td>\n",
       "      <td>ELEC</td>\n",
       "    </tr>\n",
       "    <tr>\n",
       "      <th>3</th>\n",
       "      <td>train_Client_0</td>\n",
       "      <td>2015-07-13</td>\n",
       "      <td>11</td>\n",
       "      <td>1335667</td>\n",
       "      <td>0</td>\n",
       "      <td>207</td>\n",
       "      <td>8</td>\n",
       "      <td>1</td>\n",
       "      <td>102</td>\n",
       "      <td>0</td>\n",
       "      <td>0</td>\n",
       "      <td>0</td>\n",
       "      <td>14747</td>\n",
       "      <td>14849</td>\n",
       "      <td>4</td>\n",
       "      <td>ELEC</td>\n",
       "    </tr>\n",
       "    <tr>\n",
       "      <th>4</th>\n",
       "      <td>train_Client_0</td>\n",
       "      <td>2016-11-17</td>\n",
       "      <td>11</td>\n",
       "      <td>1335667</td>\n",
       "      <td>0</td>\n",
       "      <td>207</td>\n",
       "      <td>9</td>\n",
       "      <td>1</td>\n",
       "      <td>572</td>\n",
       "      <td>0</td>\n",
       "      <td>0</td>\n",
       "      <td>0</td>\n",
       "      <td>15066</td>\n",
       "      <td>15638</td>\n",
       "      <td>12</td>\n",
       "      <td>ELEC</td>\n",
       "    </tr>\n",
       "  </tbody>\n",
       "</table>\n",
       "</div>"
      ],
      "text/plain": [
       "        client_id invoice_date  tarif_type  counter_number counter_statue   \n",
       "0  train_Client_0   2014-03-24          11         1335667              0  \\\n",
       "1  train_Client_0   2013-03-29          11         1335667              0   \n",
       "2  train_Client_0   2015-03-23          11         1335667              0   \n",
       "3  train_Client_0   2015-07-13          11         1335667              0   \n",
       "4  train_Client_0   2016-11-17          11         1335667              0   \n",
       "\n",
       "   counter_code  reading_remarque  counter_coefficient  consommation_level_1   \n",
       "0           203                 8                    1                    82  \\\n",
       "1           203                 6                    1                  1200   \n",
       "2           203                 8                    1                   123   \n",
       "3           207                 8                    1                   102   \n",
       "4           207                 9                    1                   572   \n",
       "\n",
       "   consommation_level_2  consommation_level_3  consommation_level_4   \n",
       "0                     0                     0                     0  \\\n",
       "1                   184                     0                     0   \n",
       "2                     0                     0                     0   \n",
       "3                     0                     0                     0   \n",
       "4                     0                     0                     0   \n",
       "\n",
       "   old_index  new_index  months_number counter_type  \n",
       "0      14302      14384              4         ELEC  \n",
       "1      12294      13678              4         ELEC  \n",
       "2      14624      14747              4         ELEC  \n",
       "3      14747      14849              4         ELEC  \n",
       "4      15066      15638             12         ELEC  "
      ]
     },
     "execution_count": 5,
     "metadata": {},
     "output_type": "execute_result"
    }
   ],
   "source": [
    "#display the invoice dataset\n",
    "invoice.head()"
   ]
  },
  {
   "cell_type": "code",
   "execution_count": 6,
   "metadata": {
    "tags": []
   },
   "outputs": [
    {
     "name": "stdout",
     "output_type": "stream",
     "text": [
      "<class 'pandas.core.frame.DataFrame'>\n",
      "RangeIndex: 135493 entries, 0 to 135492\n",
      "Data columns (total 6 columns):\n",
      " #   Column         Non-Null Count   Dtype  \n",
      "---  ------         --------------   -----  \n",
      " 0   disrict        135493 non-null  int64  \n",
      " 1   client_id      135493 non-null  object \n",
      " 2   client_catg    135493 non-null  int64  \n",
      " 3   region         135493 non-null  int64  \n",
      " 4   creation_date  135493 non-null  object \n",
      " 5   target         135493 non-null  float64\n",
      "dtypes: float64(1), int64(3), object(2)\n",
      "memory usage: 6.2+ MB\n"
     ]
    }
   ],
   "source": [
    "#info about the client dataset\n",
    "client.info()"
   ]
  },
  {
   "cell_type": "code",
   "execution_count": 7,
   "metadata": {
    "tags": []
   },
   "outputs": [
    {
     "name": "stdout",
     "output_type": "stream",
     "text": [
      "<class 'pandas.core.frame.DataFrame'>\n",
      "RangeIndex: 4476749 entries, 0 to 4476748\n",
      "Data columns (total 16 columns):\n",
      " #   Column                Dtype \n",
      "---  ------                ----- \n",
      " 0   client_id             object\n",
      " 1   invoice_date          object\n",
      " 2   tarif_type            int64 \n",
      " 3   counter_number        int64 \n",
      " 4   counter_statue        object\n",
      " 5   counter_code          int64 \n",
      " 6   reading_remarque      int64 \n",
      " 7   counter_coefficient   int64 \n",
      " 8   consommation_level_1  int64 \n",
      " 9   consommation_level_2  int64 \n",
      " 10  consommation_level_3  int64 \n",
      " 11  consommation_level_4  int64 \n",
      " 12  old_index             int64 \n",
      " 13  new_index             int64 \n",
      " 14  months_number         int64 \n",
      " 15  counter_type          object\n",
      "dtypes: int64(12), object(4)\n",
      "memory usage: 546.5+ MB\n"
     ]
    }
   ],
   "source": [
    "#info about the client dataset\n",
    "invoice.info()"
   ]
  },
  {
   "cell_type": "markdown",
   "metadata": {},
   "source": [
    "**checking for missing values in the datasets**"
   ]
  },
  {
   "cell_type": "code",
   "execution_count": 8,
   "metadata": {
    "colab": {
     "base_uri": "https://localhost:8080/"
    },
    "id": "b3XyoiIbVO-b",
    "outputId": "9200e12f-66fd-43a4-edf4-daa1e1cfdd11",
    "tags": []
   },
   "outputs": [
    {
     "data": {
      "text/plain": [
       "disrict          0\n",
       "client_id        0\n",
       "client_catg      0\n",
       "region           0\n",
       "creation_date    0\n",
       "target           0\n",
       "dtype: int64"
      ]
     },
     "execution_count": 8,
     "metadata": {},
     "output_type": "execute_result"
    }
   ],
   "source": [
    "#check for missing values in client\n",
    "client.isnull().sum()"
   ]
  },
  {
   "cell_type": "code",
   "execution_count": 9,
   "metadata": {
    "colab": {
     "base_uri": "https://localhost:8080/"
    },
    "id": "h10LPXsfVHhu",
    "outputId": "332ac9e1-02e3-4a3a-a8d6-1c8d706b9601",
    "tags": []
   },
   "outputs": [
    {
     "data": {
      "text/plain": [
       "client_id               0\n",
       "invoice_date            0\n",
       "tarif_type              0\n",
       "counter_number          0\n",
       "counter_statue          0\n",
       "counter_code            0\n",
       "reading_remarque        0\n",
       "counter_coefficient     0\n",
       "consommation_level_1    0\n",
       "consommation_level_2    0\n",
       "consommation_level_3    0\n",
       "consommation_level_4    0\n",
       "old_index               0\n",
       "new_index               0\n",
       "months_number           0\n",
       "counter_type            0\n",
       "dtype: int64"
      ]
     },
     "execution_count": 9,
     "metadata": {},
     "output_type": "execute_result"
    }
   ],
   "source": [
    "#check for missing values i ninvoice\n",
    "invoice.isnull().sum()"
   ]
  },
  {
   "cell_type": "markdown",
   "metadata": {},
   "source": [
    "There are no missing values in the datasets."
   ]
  },
  {
   "cell_type": "markdown",
   "metadata": {},
   "source": [
    "We now check where we can find zeros in the dataset as they can be a sign of missing data in columns like `invoice_date` or `counter_number`."
   ]
  },
  {
   "cell_type": "code",
   "execution_count": 10,
   "metadata": {
    "tags": []
   },
   "outputs": [
    {
     "name": "stdout",
     "output_type": "stream",
     "text": [
      "disrict - 0\n",
      "client_id - 0\n",
      "client_catg - 0\n",
      "region - 0\n",
      "creation_date - 0\n",
      "target - 127927\n"
     ]
    }
   ],
   "source": [
    "#Counting zeros in the client data\n",
    "for col in client.columns:\n",
    "    print(f\"{col} - {client[client[col] == 0.][col].size}\")"
   ]
  },
  {
   "cell_type": "markdown",
   "metadata": {
    "tags": []
   },
   "source": [
    "The client datase does not show presence of zeros da could hide missing values."
   ]
  },
  {
   "cell_type": "code",
   "execution_count": 11,
   "metadata": {
    "tags": []
   },
   "outputs": [
    {
     "name": "stdout",
     "output_type": "stream",
     "text": [
      "client_id - 0\n",
      "invoice_date - 0\n",
      "tarif_type - 0\n",
      "counter_number - 43161\n",
      "counter_statue - 4346960\n",
      "counter_code - 33\n",
      "reading_remarque - 0\n",
      "counter_coefficient - 46\n",
      "consommation_level_1 - 467553\n",
      "consommation_level_2 - 3816179\n",
      "consommation_level_3 - 4293391\n",
      "consommation_level_4 - 4383791\n",
      "old_index - 287906\n",
      "new_index - 195931\n",
      "months_number - 2\n",
      "counter_type - 0\n"
     ]
    }
   ],
   "source": [
    "#Counting zeros in the invoice data\n",
    "for col in invoice.columns:\n",
    "    print(f\"{col} - {invoice[invoice[col] == 0.][col].size}\")"
   ]
  },
  {
   "cell_type": "markdown",
   "metadata": {},
   "source": [
    "The presence of zeros in `counter_number`, `counter_code`, `old_index`, `new_index` and `months_number` could be hiding missing values. We might have to return to these columns later on, depending on what features are more relevant do determine is a observation corresponds to fraud or not. "
   ]
  },
  {
   "cell_type": "markdown",
   "metadata": {},
   "source": [
    "**diplay number of unique values in each column**"
   ]
  },
  {
   "cell_type": "code",
   "execution_count": 12,
   "metadata": {
    "colab": {
     "base_uri": "https://localhost:8080/"
    },
    "id": "uMC16gFETUAF",
    "outputId": "0e363f7b-35c4-45c2-c763-acf80585ef7c",
    "tags": []
   },
   "outputs": [
    {
     "name": "stdout",
     "output_type": "stream",
     "text": [
      "disrict - 4\n",
      "client_id - 135493\n",
      "client_catg - 3\n",
      "region - 25\n",
      "creation_date - 8088\n",
      "target - 2\n"
     ]
    }
   ],
   "source": [
    "#Count unique values on the client dataset\n",
    "for col in client.columns:\n",
    "    print(f\"{col} - {client[col].nunique()}\")"
   ]
  },
  {
   "cell_type": "markdown",
   "metadata": {},
   "source": [
    "The number of unique values in the client dataset seems to make sense."
   ]
  },
  {
   "cell_type": "code",
   "execution_count": 13,
   "metadata": {
    "colab": {
     "base_uri": "https://localhost:8080/"
    },
    "id": "iiJ3e_pFSOWg",
    "outputId": "d074cb2a-d009-471f-f124-466db367df68",
    "tags": []
   },
   "outputs": [
    {
     "name": "stdout",
     "output_type": "stream",
     "text": [
      "client_id - 135493\n",
      "invoice_date - 8275\n",
      "tarif_type - 17\n",
      "counter_number - 201893\n",
      "counter_statue - 16\n",
      "counter_code - 42\n",
      "reading_remarque - 8\n",
      "counter_coefficient - 16\n",
      "consommation_level_1 - 8295\n",
      "consommation_level_2 - 12576\n",
      "consommation_level_3 - 2253\n",
      "consommation_level_4 - 12075\n",
      "old_index - 155648\n",
      "new_index - 157980\n",
      "months_number - 1370\n",
      "counter_type - 2\n"
     ]
    }
   ],
   "source": [
    "#Count unique values on the invoice dataset\n",
    "for col in invoice.columns:\n",
    "    print(f\"{col} - {invoice[col].nunique()}\")"
   ]
  },
  {
   "cell_type": "markdown",
   "metadata": {},
   "source": [
    "- We have the same number of clients in invoice dataset as in the client dataset. \n",
    "- `client_catg` in the client dataset is not clearly related to the tarif type in the invoice dataset.\n",
    "- `counter_statue` is of the `object` type and has 16 unique values, even though it corresponds to a numerical integer grade from 0 to 5.\n",
    "- The high number of unique values in `months_number` seems to indicate that some readings are very spaced in time."
   ]
  },
  {
   "cell_type": "markdown",
   "metadata": {},
   "source": [
    "**data cleaning & formatting**"
   ]
  },
  {
   "cell_type": "markdown",
   "metadata": {},
   "source": [
    "The `target` column in client is of the float type. We will change it to int."
   ]
  },
  {
   "cell_type": "code",
   "execution_count": 14,
   "metadata": {
    "tags": []
   },
   "outputs": [],
   "source": [
    "client['target'] = client['target'].astype('int64') "
   ]
  },
  {
   "cell_type": "markdown",
   "metadata": {},
   "source": [
    "The `creation_date` in client and `invoice_date` in invoice are not of the date type and we shall encode them as such."
   ]
  },
  {
   "cell_type": "code",
   "execution_count": 15,
   "metadata": {
    "tags": []
   },
   "outputs": [],
   "source": [
    "client['creation_date'] = pd.to_datetime(client['creation_date'], format = '%d/%m/%Y')\n",
    "invoice['invoice_date'] = pd.to_datetime(invoice['invoice_date'])"
   ]
  },
  {
   "cell_type": "markdown",
   "metadata": {},
   "source": [
    "The `counter_statue` display more unique values than it should have and is not of the numerical type."
   ]
  },
  {
   "cell_type": "code",
   "execution_count": 16,
   "metadata": {
    "tags": []
   },
   "outputs": [
    {
     "data": {
      "text/plain": [
       "array([0, 1, 5, 4, 3, 2, 769, '0', '5', '1', '4', 'A', 618, 269375, 46,\n",
       "       420], dtype=object)"
      ]
     },
     "execution_count": 16,
     "metadata": {},
     "output_type": "execute_result"
    }
   ],
   "source": [
    "#display unique values in counter_statue column of invoice \n",
    "pd.unique(invoice['counter_statue'])"
   ]
  },
  {
   "cell_type": "markdown",
   "metadata": {},
   "source": [
    "It is a mix of numbers and strings from 0 to 5 and numbers and letters that do not fit in that grade scale."
   ]
  },
  {
   "cell_type": "code",
   "execution_count": 17,
   "metadata": {
    "tags": []
   },
   "outputs": [
    {
     "data": {
      "text/plain": [
       "counter_statue\n",
       "0         4346960\n",
       "1           73496\n",
       "0           32048\n",
       "5           20495\n",
       "4            2706\n",
       "1             540\n",
       "3             258\n",
       "5             144\n",
       "2              32\n",
       "4              23\n",
       "46             14\n",
       "A              13\n",
       "618            12\n",
       "769             6\n",
       "269375          1\n",
       "420             1\n",
       "Name: count, dtype: int64"
      ]
     },
     "execution_count": 17,
     "metadata": {},
     "output_type": "execute_result"
    }
   ],
   "source": [
    "#count the number of occurences of each unique value in counter_statue\n",
    "pd.value_counts(invoice['counter_statue'])"
   ]
  },
  {
   "cell_type": "code",
   "execution_count": 18,
   "metadata": {
    "tags": []
   },
   "outputs": [
    {
     "name": "stdout",
     "output_type": "stream",
     "text": [
      "Number of non-frauds: 767562\n",
      "Number of frauds: 45396\n",
      "Number of anomalous entries in counter_statue: 47\n"
     ]
    }
   ],
   "source": [
    "anomalies_counter_statue = [769, 'A', 618, 269375, 46, 420]\n",
    "print('Number of non-frauds:', client[client['target']==0].size)\n",
    "print('Number of frauds:', client[client['target']==1].size)\n",
    "print('Number of anomalous entries in counter_statue:', invoice[invoice['counter_statue'].isin(anomalies_counter_statue)].groupby('client_id').size().sum())"
   ]
  },
  {
   "cell_type": "markdown",
   "metadata": {},
   "source": [
    "Hence the number of anomalies in `counter_statue` is small enough to be dropped without affecting much the dataset. Before dropping these anomalies, let us first check if they are related to fraud cases."
   ]
  },
  {
   "cell_type": "code",
   "execution_count": 19,
   "metadata": {
    "tags": []
   },
   "outputs": [
    {
     "data": {
      "text/html": [
       "<div>\n",
       "<style scoped>\n",
       "    .dataframe tbody tr th:only-of-type {\n",
       "        vertical-align: middle;\n",
       "    }\n",
       "\n",
       "    .dataframe tbody tr th {\n",
       "        vertical-align: top;\n",
       "    }\n",
       "\n",
       "    .dataframe thead th {\n",
       "        text-align: right;\n",
       "    }\n",
       "</style>\n",
       "<table border=\"1\" class=\"dataframe\">\n",
       "  <thead>\n",
       "    <tr style=\"text-align: right;\">\n",
       "      <th></th>\n",
       "      <th>disrict</th>\n",
       "      <th>client_id</th>\n",
       "      <th>client_catg</th>\n",
       "      <th>region</th>\n",
       "      <th>creation_date</th>\n",
       "      <th>target</th>\n",
       "    </tr>\n",
       "  </thead>\n",
       "  <tbody>\n",
       "    <tr>\n",
       "      <th>0</th>\n",
       "      <td>62</td>\n",
       "      <td>train_Client_13203</td>\n",
       "      <td>11</td>\n",
       "      <td>301</td>\n",
       "      <td>2010-01-04</td>\n",
       "      <td>0</td>\n",
       "    </tr>\n",
       "    <tr>\n",
       "      <th>1</th>\n",
       "      <td>60</td>\n",
       "      <td>train_Client_30467</td>\n",
       "      <td>11</td>\n",
       "      <td>101</td>\n",
       "      <td>1979-05-21</td>\n",
       "      <td>0</td>\n",
       "    </tr>\n",
       "    <tr>\n",
       "      <th>2</th>\n",
       "      <td>63</td>\n",
       "      <td>train_Client_47780</td>\n",
       "      <td>11</td>\n",
       "      <td>306</td>\n",
       "      <td>2015-05-08</td>\n",
       "      <td>0</td>\n",
       "    </tr>\n",
       "    <tr>\n",
       "      <th>3</th>\n",
       "      <td>60</td>\n",
       "      <td>train_Client_53725</td>\n",
       "      <td>11</td>\n",
       "      <td>101</td>\n",
       "      <td>1982-11-15</td>\n",
       "      <td>0</td>\n",
       "    </tr>\n",
       "    <tr>\n",
       "      <th>4</th>\n",
       "      <td>62</td>\n",
       "      <td>train_Client_78338</td>\n",
       "      <td>11</td>\n",
       "      <td>304</td>\n",
       "      <td>1980-10-13</td>\n",
       "      <td>0</td>\n",
       "    </tr>\n",
       "    <tr>\n",
       "      <th>5</th>\n",
       "      <td>69</td>\n",
       "      <td>train_Client_79075</td>\n",
       "      <td>11</td>\n",
       "      <td>107</td>\n",
       "      <td>2011-11-28</td>\n",
       "      <td>0</td>\n",
       "    </tr>\n",
       "  </tbody>\n",
       "</table>\n",
       "</div>"
      ],
      "text/plain": [
       "   disrict           client_id  client_catg  region creation_date  target\n",
       "0       62  train_Client_13203           11     301    2010-01-04       0\n",
       "1       60  train_Client_30467           11     101    1979-05-21       0\n",
       "2       63  train_Client_47780           11     306    2015-05-08       0\n",
       "3       60  train_Client_53725           11     101    1982-11-15       0\n",
       "4       62  train_Client_78338           11     304    1980-10-13       0\n",
       "5       69  train_Client_79075           11     107    2011-11-28       0"
      ]
     },
     "execution_count": 19,
     "metadata": {},
     "output_type": "execute_result"
    }
   ],
   "source": [
    "aux_df = invoice[invoice['counter_statue'].isin(anomalies_counter_statue)].groupby('client_id', as_index = False).size()['client_id']\n",
    "client.merge(aux_df, left_on='client_id', right_on='client_id')"
   ]
  },
  {
   "cell_type": "markdown",
   "metadata": {},
   "source": [
    "So there are not any relation between these anomalies and fraud cases and we shall dop then."
   ]
  },
  {
   "cell_type": "code",
   "execution_count": 20,
   "metadata": {
    "tags": []
   },
   "outputs": [],
   "source": [
    "#screen the invoice dataframe for the rows whose counter_statue cell does not assume an anomalous value. \n",
    "invoice = invoice[~invoice['counter_statue'].isin(anomalies_counter_statue)]"
   ]
  },
  {
   "cell_type": "code",
   "execution_count": 21,
   "metadata": {
    "tags": []
   },
   "outputs": [],
   "source": [
    "#chage the tye os the numbers coded as strings to int64\n",
    "invoice['counter_statue'] = invoice['counter_statue'].astype('int64')"
   ]
  },
  {
   "cell_type": "code",
   "execution_count": 22,
   "metadata": {
    "tags": []
   },
   "outputs": [
    {
     "data": {
      "text/plain": [
       "array([0, 1, 5, 4, 3, 2], dtype=int64)"
      ]
     },
     "execution_count": 22,
     "metadata": {},
     "output_type": "execute_result"
    }
   ],
   "source": [
    "#display current unique values\n",
    "pd.unique(invoice['counter_statue'])"
   ]
  },
  {
   "cell_type": "markdown",
   "metadata": {},
   "source": [
    "**data formatting and merge of the datasets**"
   ]
  },
  {
   "cell_type": "markdown",
   "metadata": {},
   "source": [
    "We format the name of some of the columns in the dataset for more intuitive names in English. We also shall format the date features in both datasets. We remove the day of the month, as this informations is not relevant for seasonal comparisons within the time spam of years. We also split the dates into two columns, one for month and another year. "
   ]
  },
  {
   "cell_type": "code",
   "execution_count": 23,
   "metadata": {
    "tags": []
   },
   "outputs": [],
   "source": [
    "import calendar\n",
    "\n",
    "#formatting the client dataset column names\n",
    "client.rename(columns = {'target' : 'fraud', 'disrict' : 'district'}, inplace = True)\n",
    "#remove day of the month for when the contract was created\n",
    "client['creation_date'] = pd.to_datetime(client['creation_date'].apply(lambda x: x.strftime('%Y-%m')), format = '%Y-%m')\n",
    "client['creation_month'] = client['creation_date'].apply(lambda x: x.strftime('%m')).astype('int64').apply(lambda x: calendar.month_abbr[x])\n",
    "client['creation_year'] = client['creation_date'].apply(lambda x: x.strftime('%Y'))\n",
    "client.drop(columns = 'creation_date', inplace = True)"
   ]
  },
  {
   "cell_type": "code",
   "execution_count": 24,
   "metadata": {
    "tags": []
   },
   "outputs": [
    {
     "data": {
      "text/html": [
       "<div>\n",
       "<style scoped>\n",
       "    .dataframe tbody tr th:only-of-type {\n",
       "        vertical-align: middle;\n",
       "    }\n",
       "\n",
       "    .dataframe tbody tr th {\n",
       "        vertical-align: top;\n",
       "    }\n",
       "\n",
       "    .dataframe thead th {\n",
       "        text-align: right;\n",
       "    }\n",
       "</style>\n",
       "<table border=\"1\" class=\"dataframe\">\n",
       "  <thead>\n",
       "    <tr style=\"text-align: right;\">\n",
       "      <th></th>\n",
       "      <th>district</th>\n",
       "      <th>client_id</th>\n",
       "      <th>client_catg</th>\n",
       "      <th>region</th>\n",
       "      <th>fraud</th>\n",
       "      <th>creation_month</th>\n",
       "      <th>creation_year</th>\n",
       "    </tr>\n",
       "  </thead>\n",
       "  <tbody>\n",
       "    <tr>\n",
       "      <th>0</th>\n",
       "      <td>60</td>\n",
       "      <td>train_Client_0</td>\n",
       "      <td>11</td>\n",
       "      <td>101</td>\n",
       "      <td>0</td>\n",
       "      <td>Dec</td>\n",
       "      <td>1994</td>\n",
       "    </tr>\n",
       "    <tr>\n",
       "      <th>1</th>\n",
       "      <td>69</td>\n",
       "      <td>train_Client_1</td>\n",
       "      <td>11</td>\n",
       "      <td>107</td>\n",
       "      <td>0</td>\n",
       "      <td>May</td>\n",
       "      <td>2002</td>\n",
       "    </tr>\n",
       "    <tr>\n",
       "      <th>2</th>\n",
       "      <td>62</td>\n",
       "      <td>train_Client_10</td>\n",
       "      <td>11</td>\n",
       "      <td>301</td>\n",
       "      <td>0</td>\n",
       "      <td>Mar</td>\n",
       "      <td>1986</td>\n",
       "    </tr>\n",
       "    <tr>\n",
       "      <th>3</th>\n",
       "      <td>69</td>\n",
       "      <td>train_Client_100</td>\n",
       "      <td>11</td>\n",
       "      <td>105</td>\n",
       "      <td>0</td>\n",
       "      <td>Jul</td>\n",
       "      <td>1996</td>\n",
       "    </tr>\n",
       "    <tr>\n",
       "      <th>4</th>\n",
       "      <td>62</td>\n",
       "      <td>train_Client_1000</td>\n",
       "      <td>11</td>\n",
       "      <td>303</td>\n",
       "      <td>0</td>\n",
       "      <td>Oct</td>\n",
       "      <td>2014</td>\n",
       "    </tr>\n",
       "  </tbody>\n",
       "</table>\n",
       "</div>"
      ],
      "text/plain": [
       "   district          client_id  client_catg  region  fraud creation_month   \n",
       "0        60     train_Client_0           11     101      0            Dec  \\\n",
       "1        69     train_Client_1           11     107      0            May   \n",
       "2        62    train_Client_10           11     301      0            Mar   \n",
       "3        69   train_Client_100           11     105      0            Jul   \n",
       "4        62  train_Client_1000           11     303      0            Oct   \n",
       "\n",
       "  creation_year  \n",
       "0          1994  \n",
       "1          2002  \n",
       "2          1986  \n",
       "3          1996  \n",
       "4          2014  "
      ]
     },
     "execution_count": 24,
     "metadata": {},
     "output_type": "execute_result"
    }
   ],
   "source": [
    "client.head()"
   ]
  },
  {
   "cell_type": "code",
   "execution_count": 26,
   "metadata": {
    "tags": []
   },
   "outputs": [],
   "source": [
    "#write the formatted client dataset into a file \n",
    "client.to_csv('data/client_formatted.csv', index = False)"
   ]
  },
  {
   "cell_type": "code",
   "execution_count": 25,
   "metadata": {
    "tags": []
   },
   "outputs": [],
   "source": [
    "#formatting the client dataset column names\n",
    "invoice.rename(columns = {'counter_number' : 'meter_id', \n",
    "                 'counter_statue' : 'meter_state', 'counter_code' : 'meter_code', \n",
    "                 'reading_remarque' : 'reading_remark', 'counter_coefficient' : 'meter_coeff', \n",
    "                 'consommation_level_1' : 'consum_band_1','consommation_level_2' : 'consum_band_2',\n",
    "                 'consommation_level_3' : 'consum_band_3', 'consommation_level_4' : 'consum_band_4', \n",
    "                 'months_number' : 'months_since_last_reading', 'counter_type' : 'meter_type'}, inplace = True)"
   ]
  },
  {
   "cell_type": "code",
   "execution_count": 28,
   "metadata": {
    "tags": []
   },
   "outputs": [],
   "source": [
    "#encode the meter_type classes \n",
    "invoice['meter_type'] = invoice['meter_type'].map({'ELEC' : 0, 'GAZ' : 1})"
   ]
  },
  {
   "cell_type": "code",
   "execution_count": 33,
   "metadata": {
    "tags": []
   },
   "outputs": [],
   "source": [
    "#remove day of the moth from invoice_date\n",
    "invoice['invoice_date'] = pd.to_datetime(invoice['invoice_date'].apply(lambda x: x.strftime('%Y-%m')), format = '%Y-%m')\n",
    "invoice['invoice_month'] = invoice['invoice_date'].apply(lambda x: x.strftime('%m')).astype('int64').apply(lambda x: calendar.month_abbr[x])\n",
    "invoice['invoice_year'] = invoice['invoice_date'].apply(lambda x: x.strftime('%Y'))\n",
    "invoice.drop(columns = 'invoice_date', inplace = True)"
   ]
  },
  {
   "cell_type": "code",
   "execution_count": 36,
   "metadata": {
    "tags": []
   },
   "outputs": [],
   "source": [
    "#reorganise the order of the columns\n",
    "invoice = invoice[['client_id', 'tarif_type', 'meter_id', 'meter_code', 'meter_type',\n",
    "                   'meter_state', 'reading_remark', 'meter_coeff', 'months_since_last_reading', \n",
    "                   'invoice_month', 'invoice_year', 'consum_band_1', 'consum_band_2', \n",
    "                   'consum_band_3', 'consum_band_4', 'old_index', 'new_index']]"
   ]
  },
  {
   "cell_type": "code",
   "execution_count": 38,
   "metadata": {
    "tags": []
   },
   "outputs": [],
   "source": [
    "#write the formatted invoice dataset into a file \n",
    "invoice.to_csv('data/invoice_formatted.csv', index = False)"
   ]
  },
  {
   "cell_type": "markdown",
   "metadata": {},
   "source": [
    "We merge both datasets on `client_id`"
   ]
  },
  {
   "cell_type": "code",
   "execution_count": 39,
   "metadata": {
    "tags": []
   },
   "outputs": [
    {
     "data": {
      "text/html": [
       "<div>\n",
       "<style scoped>\n",
       "    .dataframe tbody tr th:only-of-type {\n",
       "        vertical-align: middle;\n",
       "    }\n",
       "\n",
       "    .dataframe tbody tr th {\n",
       "        vertical-align: top;\n",
       "    }\n",
       "\n",
       "    .dataframe thead th {\n",
       "        text-align: right;\n",
       "    }\n",
       "</style>\n",
       "<table border=\"1\" class=\"dataframe\">\n",
       "  <thead>\n",
       "    <tr style=\"text-align: right;\">\n",
       "      <th></th>\n",
       "      <th>client_id</th>\n",
       "      <th>tarif_type</th>\n",
       "      <th>meter_id</th>\n",
       "      <th>meter_code</th>\n",
       "      <th>meter_type</th>\n",
       "      <th>meter_state</th>\n",
       "      <th>reading_remark</th>\n",
       "      <th>meter_coeff</th>\n",
       "      <th>months_since_last_reading</th>\n",
       "      <th>invoice_month</th>\n",
       "      <th>...</th>\n",
       "      <th>consum_band_3</th>\n",
       "      <th>consum_band_4</th>\n",
       "      <th>old_index</th>\n",
       "      <th>new_index</th>\n",
       "      <th>district</th>\n",
       "      <th>client_catg</th>\n",
       "      <th>region</th>\n",
       "      <th>fraud</th>\n",
       "      <th>creation_month</th>\n",
       "      <th>creation_year</th>\n",
       "    </tr>\n",
       "  </thead>\n",
       "  <tbody>\n",
       "    <tr>\n",
       "      <th>0</th>\n",
       "      <td>train_Client_0</td>\n",
       "      <td>11</td>\n",
       "      <td>1335667</td>\n",
       "      <td>203</td>\n",
       "      <td>0</td>\n",
       "      <td>0</td>\n",
       "      <td>8</td>\n",
       "      <td>1</td>\n",
       "      <td>4</td>\n",
       "      <td>Mar</td>\n",
       "      <td>...</td>\n",
       "      <td>0</td>\n",
       "      <td>0</td>\n",
       "      <td>14302</td>\n",
       "      <td>14384</td>\n",
       "      <td>60</td>\n",
       "      <td>11</td>\n",
       "      <td>101</td>\n",
       "      <td>0</td>\n",
       "      <td>Dec</td>\n",
       "      <td>1994</td>\n",
       "    </tr>\n",
       "    <tr>\n",
       "      <th>1</th>\n",
       "      <td>train_Client_0</td>\n",
       "      <td>11</td>\n",
       "      <td>1335667</td>\n",
       "      <td>203</td>\n",
       "      <td>0</td>\n",
       "      <td>0</td>\n",
       "      <td>6</td>\n",
       "      <td>1</td>\n",
       "      <td>4</td>\n",
       "      <td>Mar</td>\n",
       "      <td>...</td>\n",
       "      <td>0</td>\n",
       "      <td>0</td>\n",
       "      <td>12294</td>\n",
       "      <td>13678</td>\n",
       "      <td>60</td>\n",
       "      <td>11</td>\n",
       "      <td>101</td>\n",
       "      <td>0</td>\n",
       "      <td>Dec</td>\n",
       "      <td>1994</td>\n",
       "    </tr>\n",
       "    <tr>\n",
       "      <th>2</th>\n",
       "      <td>train_Client_0</td>\n",
       "      <td>11</td>\n",
       "      <td>1335667</td>\n",
       "      <td>203</td>\n",
       "      <td>0</td>\n",
       "      <td>0</td>\n",
       "      <td>8</td>\n",
       "      <td>1</td>\n",
       "      <td>4</td>\n",
       "      <td>Mar</td>\n",
       "      <td>...</td>\n",
       "      <td>0</td>\n",
       "      <td>0</td>\n",
       "      <td>14624</td>\n",
       "      <td>14747</td>\n",
       "      <td>60</td>\n",
       "      <td>11</td>\n",
       "      <td>101</td>\n",
       "      <td>0</td>\n",
       "      <td>Dec</td>\n",
       "      <td>1994</td>\n",
       "    </tr>\n",
       "    <tr>\n",
       "      <th>3</th>\n",
       "      <td>train_Client_0</td>\n",
       "      <td>11</td>\n",
       "      <td>1335667</td>\n",
       "      <td>207</td>\n",
       "      <td>0</td>\n",
       "      <td>0</td>\n",
       "      <td>8</td>\n",
       "      <td>1</td>\n",
       "      <td>4</td>\n",
       "      <td>Jul</td>\n",
       "      <td>...</td>\n",
       "      <td>0</td>\n",
       "      <td>0</td>\n",
       "      <td>14747</td>\n",
       "      <td>14849</td>\n",
       "      <td>60</td>\n",
       "      <td>11</td>\n",
       "      <td>101</td>\n",
       "      <td>0</td>\n",
       "      <td>Dec</td>\n",
       "      <td>1994</td>\n",
       "    </tr>\n",
       "    <tr>\n",
       "      <th>4</th>\n",
       "      <td>train_Client_0</td>\n",
       "      <td>11</td>\n",
       "      <td>1335667</td>\n",
       "      <td>207</td>\n",
       "      <td>0</td>\n",
       "      <td>0</td>\n",
       "      <td>9</td>\n",
       "      <td>1</td>\n",
       "      <td>12</td>\n",
       "      <td>Nov</td>\n",
       "      <td>...</td>\n",
       "      <td>0</td>\n",
       "      <td>0</td>\n",
       "      <td>15066</td>\n",
       "      <td>15638</td>\n",
       "      <td>60</td>\n",
       "      <td>11</td>\n",
       "      <td>101</td>\n",
       "      <td>0</td>\n",
       "      <td>Dec</td>\n",
       "      <td>1994</td>\n",
       "    </tr>\n",
       "  </tbody>\n",
       "</table>\n",
       "<p>5 rows × 23 columns</p>\n",
       "</div>"
      ],
      "text/plain": [
       "        client_id  tarif_type  meter_id  meter_code  meter_type  meter_state   \n",
       "0  train_Client_0          11   1335667         203           0            0  \\\n",
       "1  train_Client_0          11   1335667         203           0            0   \n",
       "2  train_Client_0          11   1335667         203           0            0   \n",
       "3  train_Client_0          11   1335667         207           0            0   \n",
       "4  train_Client_0          11   1335667         207           0            0   \n",
       "\n",
       "   reading_remark  meter_coeff  months_since_last_reading invoice_month  ...   \n",
       "0               8            1                          4           Mar  ...  \\\n",
       "1               6            1                          4           Mar  ...   \n",
       "2               8            1                          4           Mar  ...   \n",
       "3               8            1                          4           Jul  ...   \n",
       "4               9            1                         12           Nov  ...   \n",
       "\n",
       "  consum_band_3  consum_band_4  old_index  new_index  district  client_catg   \n",
       "0             0              0      14302      14384        60           11  \\\n",
       "1             0              0      12294      13678        60           11   \n",
       "2             0              0      14624      14747        60           11   \n",
       "3             0              0      14747      14849        60           11   \n",
       "4             0              0      15066      15638        60           11   \n",
       "\n",
       "   region  fraud  creation_month  creation_year  \n",
       "0     101      0             Dec           1994  \n",
       "1     101      0             Dec           1994  \n",
       "2     101      0             Dec           1994  \n",
       "3     101      0             Dec           1994  \n",
       "4     101      0             Dec           1994  \n",
       "\n",
       "[5 rows x 23 columns]"
      ]
     },
     "execution_count": 39,
     "metadata": {},
     "output_type": "execute_result"
    }
   ],
   "source": [
    "#we merge the two datasets\n",
    "invoice_client_merge_df = pd.merge(invoice, client, left_on='client_id', right_on='client_id')\n",
    "invoice_client_merge_df.head()"
   ]
  },
  {
   "cell_type": "code",
   "execution_count": 40,
   "metadata": {
    "tags": []
   },
   "outputs": [],
   "source": [
    "#write the merged dataset into a file \n",
    "invoice_client_merge_df.to_csv('data/invoice_client_merge.csv', index = False)"
   ]
  },
  {
   "cell_type": "code",
   "execution_count": 41,
   "metadata": {
    "tags": []
   },
   "outputs": [],
   "source": [
    "#separate the dataframes in farud and normal occurences\n",
    "normal_df = invoice_client_merge_df[invoice_client_merge_df['fraud'] == 0].drop(columns = 'fraud')\n",
    "fraud_df = invoice_client_merge_df[invoice_client_merge_df['fraud'] == 1].drop(columns = 'fraud')"
   ]
  },
  {
   "cell_type": "code",
   "execution_count": 42,
   "metadata": {
    "tags": []
   },
   "outputs": [],
   "source": [
    "#write the normal and fraud occurences dataset into files \n",
    "normal_df.to_csv('data/normal_occurences.csv', index = False)\n",
    "fraud_df.to_csv('data/fraud_occurences.csv', index = False)"
   ]
  },
  {
   "cell_type": "markdown",
   "metadata": {},
   "source": [
    "# EDA"
   ]
  },
  {
   "cell_type": "code",
   "execution_count": null,
   "metadata": {
    "tags": []
   },
   "outputs": [],
   "source": [
    "#load the prepared data\n",
    "client = pd.read_csv('data/client_formatted.csv')\n",
    "invoice = pd.read_csv('data/invoice_formatted.csv')\n",
    "fraud_df = pd.read_csv('data/fraud_occurences.csv')\n",
    "normal_df = pd.read_csv('data/normal_occurences.csv')\n",
    "invoice_client_merge = pd.read_csv('data/invoice_client_merge_df.csv')"
   ]
  },
  {
   "cell_type": "markdown",
   "metadata": {},
   "source": [
    "## Sample balance"
   ]
  },
  {
   "cell_type": "code",
   "execution_count": 43,
   "metadata": {
    "colab": {
     "base_uri": "https://localhost:8080/",
     "height": 281
    },
    "id": "JOzSAlEWTR3j",
    "outputId": "97a46548-924e-44a4-9b85-e40d01979b99",
    "tags": []
   },
   "outputs": [
    {
     "data": {
      "image/png": "[encoded data removed]",
      "text/plain": [
       "<Figure size 640x480 with 1 Axes>"
      ]
     },
     "metadata": {},
     "output_type": "display_data"
    }
   ],
   "source": [
    "p0, p1 = (pd.value_counts(client['fraud'], normalize=True)*100).round(1)\n",
    "#Visualize fraudulent activities\n",
    "fraudactivities = client.groupby(['fraud'])['client_id'].count()\n",
    "plt.bar(x=fraudactivities.index, height=fraudactivities.values, tick_label = ['normal','fraud'])\n",
    "plt.ylabel('frequency')\n",
    "plt.title('Fraud - Target Distribution')\n",
    "plt.text(x=-.1,y=130000,s=f'{p0}%')\n",
    "plt.text(x=0.95,y=10000,s=f'{p1}%')\n",
    "plt.show()"
   ]
  },
  {
   "cell_type": "markdown",
   "metadata": {
    "id": "fQb7RZf_Ufn9"
   },
   "source": [
    "Target is highly imbalanced with fewer cases of fraudulent activities. Fraud is a rare event so that is expected."
   ]
  },
  {
   "cell_type": "code",
   "execution_count": 44,
   "metadata": {
    "colab": {
     "base_uri": "https://localhost:8080/",
     "height": 545
    },
    "id": "v8G8BPgMUrVW",
    "outputId": "886941f9-3a90-48c2-ddac-75728bd7b935",
    "tags": []
   },
   "outputs": [
    {
     "data": {
      "image/png": "[encoded data removed]",
      "text/plain": [
       "<Figure size 640x480 with 1 Axes>"
      ]
     },
     "metadata": {},
     "output_type": "display_data"
    },
    {
     "data": {
      "image/png": "[encoded data removed]",
      "text/plain": [
       "<Figure size 640x480 with 1 Axes>"
      ]
     },
     "metadata": {},
     "output_type": "display_data"
    }
   ],
   "source": [
    "#Visualize client distribution across districts and regions\n",
    "for col in ['district','region']:\n",
    "    region = client.groupby([col])['client_id'].count()\n",
    "    plt.bar(x=region.index, height=region.values)\n",
    "    plt.title(col+' distribution')\n",
    "    plt.show()"
   ]
  },
  {
   "cell_type": "markdown",
   "metadata": {},
   "source": [
    "The sample is no too imbalanced with respect to the distribution in `distric`, but it is clearly imbalanced in the distribution in `region`."
   ]
  },
  {
   "cell_type": "markdown",
   "metadata": {},
   "source": [
    "We now check the balance of the electricity and gas readings."
   ]
  },
  {
   "cell_type": "code",
   "execution_count": 45,
   "metadata": {},
   "outputs": [
    {
     "data": {
      "image/png": "[encoded data removed]",
      "text/plain": [
       "<Figure size 640x480 with 1 Axes>"
      ]
     },
     "metadata": {},
     "output_type": "display_data"
    }
   ],
   "source": [
    "#Visualize fraudulent activities\n",
    "elec_gas_readings = invoice.groupby(['meter_type'])['meter_type'].size()\n",
    "r0, r1 = (pd.value_counts(invoice['meter_type'], normalize=True)*100).round(1)\n",
    "plt.bar(x=elec_gas_readings.index, height=elec_gas_readings.values, tick_label = ['ELEC', 'GAS'])\n",
    "plt.title('Electricity and gas meter reading distribution')\n",
    "plt.text(x=-.05,y=3100000,s=f'{r0}%')\n",
    "plt.text(x=0.95,y=1420000,s=f'{r1}%')\n",
    "plt.show()"
   ]
  },
  {
   "cell_type": "markdown",
   "metadata": {},
   "source": [
    "The samples are also imbalanced with respect to gas and electricity readings, gas readings are less than halh of the electricity readings."
   ]
  },
  {
   "cell_type": "code",
   "execution_count": 64,
   "metadata": {
    "tags": []
   },
   "outputs": [
    {
     "data": {
      "image/png": "[encoded data removed]",
      "text/plain": [
       "<Figure size 640x480 with 1 Axes>"
      ]
     },
     "metadata": {},
     "output_type": "display_data"
    }
   ],
   "source": [
    "fraud_per_district = client.groupby('district', as_index = False)[['fraud']].value_counts()\n",
    "plt.bar(x = fraud_per_district[fraud_per_district['fraud']==0]['district'], \n",
    "        height = fraud_per_district[fraud_per_district['fraud']==0]['count']/fraud_per_district[fraud_per_district['fraud']==0]['count'].sum(), alpha = 0.5)\n",
    "plt.bar(x = fraud_per_district[fraud_per_district['fraud']==1]['district'], \n",
    "        height = fraud_per_district[fraud_per_district['fraud']==1]['count']/fraud_per_district[fraud_per_district['fraud']==1]['count'].sum(), alpha = 0.5)\n",
    "plt.xlabel('district')\n",
    "plt.ylabel('density')\n",
    "plt.title('Distribution of fraud and normal occurences in each district')\n",
    "plt.show()"
   ]
  },
  {
   "cell_type": "code",
   "execution_count": 76,
   "metadata": {
    "tags": []
   },
   "outputs": [
    {
     "data": {
      "image/png": "[encoded data removed]",
      "text/plain": [
       "<Figure size 640x480 with 1 Axes>"
      ]
     },
     "metadata": {},
     "output_type": "display_data"
    }
   ],
   "source": [
    "fraud_per_region = client.groupby('region', as_index = False)[['fraud']].value_counts()\n",
    "plt.bar(x = fraud_per_region[fraud_per_region['fraud']==0]['region'], \n",
    "        height = fraud_per_region[fraud_per_region['fraud']==0]['count']/fraud_per_region[fraud_per_region['fraud']==0]['count'].sum(), alpha = 0.5)\n",
    "plt.bar(x = fraud_per_region[fraud_per_region['fraud']==1]['region'], \n",
    "        height = fraud_per_region[fraud_per_region['fraud']==1]['count']/fraud_per_region[fraud_per_region['fraud']==1]['count'].sum(), alpha = 0.5)\n",
    "plt.xlabel('region')\n",
    "plt.ylabel('density')\n",
    "plt.title('Distribution of fraud and normal occurences in each region')\n",
    "plt.show()"
   ]
  },
  {
   "cell_type": "code",
   "execution_count": 72,
   "metadata": {
    "tags": []
   },
   "outputs": [
    {
     "data": {
      "image/png": "[encoded data removed]",
      "text/plain": [
       "<Figure size 640x480 with 1 Axes>"
      ]
     },
     "metadata": {},
     "output_type": "display_data"
    }
   ],
   "source": [
    "fraud_per_client_cat = client.groupby('client_catg', as_index = False)[['fraud']].value_counts()\n",
    "width = 0.5\n",
    "plt.bar(x = fraud_per_client_cat[fraud_per_client_cat['fraud']==0]['client_catg'], \n",
    "        height = fraud_per_client_cat[fraud_per_client_cat['fraud']==0]['count']/fraud_per_client_cat[fraud_per_client_cat['fraud']==0]['count'].sum(), width = width)\n",
    "plt.bar(x = fraud_per_client_cat[fraud_per_client_cat['fraud']==1]['client_catg'] + width, \n",
    "        height = fraud_per_client_cat[fraud_per_client_cat['fraud']==1]['count']/fraud_per_client_cat[fraud_per_client_cat['fraud']==1]['count'].sum(), width = width)\n",
    "plt.xlabel('client category')\n",
    "plt.ylabel('density')\n",
    "plt.title('Distribution of fraud and normal occurences in each region')\n",
    "plt.show()"
   ]
  },
  {
   "cell_type": "code",
   "execution_count": 78,
   "metadata": {
    "tags": []
   },
   "outputs": [
    {
     "data": {
      "text/plain": [
       "array([11, 12, 51], dtype=int64)"
      ]
     },
     "execution_count": 78,
     "metadata": {},
     "output_type": "execute_result"
    }
   ],
   "source": [
    "pd.unique(client['client_catg'])"
   ]
  },
  {
   "cell_type": "markdown",
   "metadata": {
    "tags": []
   },
   "source": [
    "## EDA Hypothesis\n",
    "\n",
    "- A: Fraudulent comsumption pattern presents more variance over time.\n",
    "- B: Electricity consumption is more prone to show fraud than gas, as it is tecnically simpler to steal electricity than gas.\n",
    "- C: Fraud occurences involve higher comsumption of energy.\n",
    "- D: The more spaced the readings the more likely its to have fraud.\n",
    "- E: Meters in poorer conditions are more prone to fraud."
   ]
  },
  {
   "cell_type": "markdown",
   "metadata": {
    "tags": []
   },
   "source": [
    "## EDA on consumption partterns"
   ]
  },
  {
   "cell_type": "markdown",
   "metadata": {
    "tags": []
   },
   "source": [
    "**comsumption time series**"
   ]
  },
  {
   "cell_type": "markdown",
   "metadata": {},
   "source": [
    "Let us randomly select two clients in the same category, one a fraudist and the other a normal client, have around the same number of invoices."
   ]
  },
  {
   "cell_type": "code",
   "execution_count": null,
   "metadata": {},
   "outputs": [],
   "source": [
    "consum_bands = ['consum_band_1', 'consum_band_2', 'consum_band_3', 'consum_band_4']\n",
    "months = [\"Jan\", \"Feb\", \"Mar\", \"Apr\", \"May\", \"Jun\", \n",
    "          \"Jul\", \"Aug\", \"Sep\", \"Oct\", \"Nov\", \"Dec\"]\n",
    "meter_type = 0 #ELEC : 0, GAS : 1"
   ]
  },
  {
   "cell_type": "code",
   "execution_count": 108,
   "metadata": {
    "tags": []
   },
   "outputs": [],
   "source": [
    "av_consum_time_series = invoice[invoice['meter_type'] == meter_type].groupby('invoice_month', as_index = False)[consum_bands].mean()\n",
    "av_consum_time_series['invoice_month'] = pd.Categorical(av_consum_time_series['invoice_month'], categories=months, ordered=True)\n",
    "av_consum_time_series = av_consum_time_series.sort_values(by = 'invoice_month').reset_index(drop = True)"
   ]
  },
  {
   "cell_type": "code",
   "execution_count": 114,
   "metadata": {
    "tags": []
   },
   "outputs": [
    {
     "name": "stdout",
     "output_type": "stream",
     "text": [
      "train_Client_3870 30\n",
      "train_Client_131625 28\n"
     ]
    }
   ],
   "source": [
    "import random\n",
    "\n",
    "ratio = 0.\n",
    "c_catg = 11 #category with most clients in both fraud and normal\n",
    "n_clients_0, n_clients_1 = pd.value_counts(client[client['client_catg']==c_catg]['fraud'])\n",
    "\n",
    "while (ratio < 0.80): #we take a imbalance of at most 20% in the number of invoices  \n",
    "    client_id_normal = client[(client['fraud']==0) & (client['client_catg']==c_catg)].reset_index()['client_id'][random.randrange(n_clients_0)]\n",
    "    client_id_fraud = client[(client['fraud']==1) & (client['client_catg']==c_catg)].reset_index()['client_id'][random.randrange(n_clients_1)]\n",
    "    readings_n = invoice[(invoice['client_id'] == client_id_normal) & (invoice['meter_type'] == meter_type)].shape[0]\n",
    "    readings_f = invoice[(invoice['client_id'] == client_id_fraud) & (invoice['meter_type'] == meter_type)].shape[0]\n",
    "    if readings_n >= readings_f: \n",
    "        ratio = readings_n and readings_f/readings_n or 0 #avoids division by 0\n",
    "    else:\n",
    "        ratio = readings_f and readings_n/readings_f or 0\n",
    "        \n",
    "print(client_id_fraud, invoice[(invoice['client_id'] == client_id_fraud) & (invoice['meter_type'] == meter_type)].shape[0])\n",
    "print(client_id_normal, invoice[(invoice['client_id'] == client_id_normal) & (invoice['meter_type'] == meter_type)].shape[0])"
   ]
  },
  {
   "cell_type": "code",
   "execution_count": 115,
   "metadata": {
    "tags": []
   },
   "outputs": [],
   "source": [
    "invoice_client_normal = invoice[(invoice['client_id'] == client_id_normal) & (invoice['meter_type'] == meter_type)]\n",
    "invoice_client_fraud = invoice[(invoice['client_id'] == client_id_fraud) & (invoice['meter_type'] == meter_type)]\n",
    "\n",
    "consum_time_series_normal = invoice_client_normal.groupby('invoice_month', as_index = False)[consum_bands].mean()\n",
    "consum_time_series_normal['invoice_month'] = pd.Categorical(consum_time_series_normal['invoice_month'], categories=months, ordered=True)\n",
    "consum_time_series_normal = consum_time_series_normal.sort_values(by = 'invoice_month').reset_index(drop = True)\n",
    "\n",
    "consum_time_series_fraud = invoice_client_fraud.groupby('invoice_month', as_index = False)[consum_bands].mean()\n",
    "consum_time_series_fraud['invoice_month'] = pd.Categorical(consum_time_series_fraud['invoice_month'], categories=months, ordered=True)\n",
    "consum_time_series_fraud = consum_time_series_fraud.sort_values(by = 'invoice_month').reset_index(drop = True)"
   ]
  },
  {
   "cell_type": "code",
   "execution_count": 116,
   "metadata": {
    "tags": []
   },
   "outputs": [
    {
     "data": {
      "image/png": "[encoded data removed]",
      "text/plain": [
       "<Figure size 640x480 with 1 Axes>"
      ]
     },
     "metadata": {},
     "output_type": "display_data"
    }
   ],
   "source": [
    "band = consum_bands[0]\n",
    "\n",
    "sns.lineplot(data = consum_time_series_normal, x = 'invoice_month', y = band, label = 'normal')\n",
    "sns.lineplot(data = consum_time_series_fraud, x = 'invoice_month', y = band, label = 'fraud')\n",
    "sns.lineplot(data = av_consum_time_series, x = 'invoice_month', y = band, label = 'average')\n",
    "plt.xlabel('month')\n",
    "plt.ylabel('consumption')\n",
    "plt.title('Average time series for electricity consumption at band 1')\n",
    "plt.show()"
   ]
  },
  {
   "cell_type": "markdown",
   "metadata": {},
   "source": [
    "This averaged time series indicates that the seasonal electricity consumption variance for fraudist clients seems to be larger than the one of honest clients.   "
   ]
  },
  {
   "cell_type": "markdown",
   "metadata": {
    "tags": []
   },
   "source": [
    "Let us investigate the seasonal variance distributions."
   ]
  },
  {
   "cell_type": "code",
   "execution_count": 136,
   "metadata": {
    "tags": []
   },
   "outputs": [],
   "source": [
    "consum_time_avg_normal = normal_df.groupby(['client_id', 'client_catg', 'meter_type', 'invoice_month'], as_index = False)[consum_bands].mean()\n",
    "consum_time_avg_fraud = fraud_df.groupby(['client_id', 'client_catg', 'meter_type', 'invoice_month'], as_index = False)[consum_bands].mean()"
   ]
  },
  {
   "cell_type": "code",
   "execution_count": 137,
   "metadata": {
    "tags": []
   },
   "outputs": [],
   "source": [
    "var_season_consum_normal = consum_time_avg_normal.groupby(['client_id', 'client_catg', 'meter_type'], as_index = False)[consum_bands].var().dropna()\n",
    "var_season_consum_fraud = consum_time_avg_fraud.groupby(['client_id', 'client_catg', 'meter_type'], as_index = False)[consum_bands].var().dropna()"
   ]
  },
  {
   "cell_type": "code",
   "execution_count": 138,
   "metadata": {
    "tags": []
   },
   "outputs": [
    {
     "data": {
      "image/png": "[encoded data removed]",
      "text/plain": [
       "<Figure size 640x480 with 1 Axes>"
      ]
     },
     "metadata": {},
     "output_type": "display_data"
    },
    {
     "data": {
      "image/png": "[encoded data removed]",
      "text/plain": [
       "<Figure size 640x480 with 1 Axes>"
      ]
     },
     "metadata": {},
     "output_type": "display_data"
    },
    {
     "data": {
      "image/png": "[encoded data removed]",
      "text/plain": [
       "<Figure size 640x480 with 1 Axes>"
      ]
     },
     "metadata": {},
     "output_type": "display_data"
    },
    {
     "data": {
      "image/png": "[encoded data removed]",
      "text/plain": [
       "<Figure size 640x480 with 1 Axes>"
      ]
     },
     "metadata": {},
     "output_type": "display_data"
    },
    {
     "data": {
      "image/png": "[encoded data removed]",
      "text/plain": [
       "<Figure size 640x480 with 1 Axes>"
      ]
     },
     "metadata": {},
     "output_type": "display_data"
    },
    {
     "data": {
      "image/png": "[encoded data removed]",
      "text/plain": [
       "<Figure size 640x480 with 1 Axes>"
      ]
     },
     "metadata": {},
     "output_type": "display_data"
    },
    {
     "data": {
      "image/png": "[encoded data removed]",
      "text/plain": [
       "<Figure size 640x480 with 1 Axes>"
      ]
     },
     "metadata": {},
     "output_type": "display_data"
    },
    {
     "data": {
      "image/png": "[encoded data removed]",
      "text/plain": [
       "<Figure size 640x480 with 1 Axes>"
      ]
     },
     "metadata": {},
     "output_type": "display_data"
    }
   ],
   "source": [
    "for i, band in enumerate(consum_bands):\n",
    "    plt.hist(var_season_consum_normal[(var_season_consum_normal['meter_type'] == 0)\n",
    "                                    & (var_season_consum_normal['client_catg'] == 11)][band]/100000, bins = 110, range = (0,6/(i+1)), density = True, alpha = 0.5)\n",
    "    plt.hist(var_season_consum_fraud[(var_season_consum_fraud['meter_type'] == 0)\n",
    "                                    & (var_season_consum_fraud['client_catg'] == 11)][band]/100000, bins = 110, range = (0,6/(i+1)), density = True, alpha = 0.5)\n",
    "    plt.ylabel('density')\n",
    "    plt.xlabel('consumption variance ($10^5$)')\n",
    "    plt.title(f'Distribution of variance for electricity consumption in band {i+1} for categ. 11')\n",
    "    plt.show()\n",
    "    \n",
    "for i, band in enumerate(consum_bands):\n",
    "    plt.hist(var_season_consum_normal[(var_season_consum_normal['meter_type'] == 1)\n",
    "                                    & (var_season_consum_normal['client_catg'] == 11)][band]/100000, bins = 110, range = (0,6/(i+1)), density = True, alpha = 0.5)\n",
    "    plt.hist(var_season_consum_fraud[(var_season_consum_fraud['meter_type'] == 1)\n",
    "                                    & (var_season_consum_fraud['client_catg'] == 11)][band]/100000, bins = 110, range = (0,6/(i+1)), density = True, alpha = 0.5)\n",
    "    plt.ylabel('density')\n",
    "    plt.xlabel('consumption variance ($10^5$)')\n",
    "    plt.title(f'Distribution of variance for gas consumption in band {i+1} for categ. 11')\n",
    "    plt.show()"
   ]
  },
  {
   "cell_type": "markdown",
   "metadata": {},
   "source": [
    "The distribution to look at is for the varaince of seasonal electricty consumption, all the other look pretty much the same. For that one, even though they look different, the shape of he distributions for fraud and not froud are very similar still. "
   ]
  },
  {
   "cell_type": "markdown",
   "metadata": {
    "tags": []
   },
   "source": [
    "**consumption variance**"
   ]
  },
  {
   "cell_type": "markdown",
   "metadata": {},
   "source": [
    "Electricity consumption variance seems to be a insteresting candidate as a feature that we can use to distinguish between fraud and no fraud. Thus, let us take a look at the variance of the consumption at each band. "
   ]
  },
  {
   "cell_type": "code",
   "execution_count": 146,
   "metadata": {
    "tags": []
   },
   "outputs": [],
   "source": [
    "consum_var_normal = normal_df.groupby(['client_id', 'client_catg', 'meter_type',], as_index = False)[consum_bands].var().dropna()\n",
    "consum_var_fraud = fraud_df.groupby(['client_id', 'client_catg', 'meter_type'], as_index = False)[consum_bands].var().dropna()"
   ]
  },
  {
   "cell_type": "code",
   "execution_count": 151,
   "metadata": {
    "tags": []
   },
   "outputs": [
    {
     "data": {
      "image/png": "[encoded data removed]",
      "text/plain": [
       "<Figure size 640x480 with 1 Axes>"
      ]
     },
     "metadata": {},
     "output_type": "display_data"
    },
    {
     "data": {
      "image/png": "[encoded data removed]",
      "text/plain": [
       "<Figure size 640x480 with 1 Axes>"
      ]
     },
     "metadata": {},
     "output_type": "display_data"
    },
    {
     "data": {
      "image/png": "[encoded data removed]",
      "text/plain": [
       "<Figure size 640x480 with 1 Axes>"
      ]
     },
     "metadata": {},
     "output_type": "display_data"
    },
    {
     "data": {
      "image/png": "[encoded data removed]",
      "text/plain": [
       "<Figure size 640x480 with 1 Axes>"
      ]
     },
     "metadata": {},
     "output_type": "display_data"
    },
    {
     "data": {
      "image/png": "[encoded data removed]",
      "text/plain": [
       "<Figure size 640x480 with 1 Axes>"
      ]
     },
     "metadata": {},
     "output_type": "display_data"
    },
    {
     "data": {
      "image/png": "[encoded data removed]",
      "text/plain": [
       "<Figure size 640x480 with 1 Axes>"
      ]
     },
     "metadata": {},
     "output_type": "display_data"
    },
    {
     "data": {
      "image/png": "[encoded data removed]",
      "text/plain": [
       "<Figure size 640x480 with 1 Axes>"
      ]
     },
     "metadata": {},
     "output_type": "display_data"
    },
    {
     "data": {
      "image/png": "[encoded data removed]",
      "text/plain": [
       "<Figure size 640x480 with 1 Axes>"
      ]
     },
     "metadata": {},
     "output_type": "display_data"
    }
   ],
   "source": [
    "c_catg = 11\n",
    "for i, band in enumerate(consum_bands):\n",
    "    plt.hist(consum_var_normal[(consum_var_normal['meter_type'] == 0)\n",
    "                              & (consum_var_normal['client_catg'] == c_catg)][band]/100000, bins = 110, range = (0,6/(i+1)), density = True, alpha = 0.5)\n",
    "    plt.hist(consum_var_fraud[(consum_var_fraud['meter_type'] == 0)\n",
    "                             & (consum_var_fraud['client_catg'] == c_catg)][band]/100000, bins = 110, range = (0,6/(i+1)), density = True, alpha = 0.5)\n",
    "    plt.ylabel('density')\n",
    "    plt.xlabel('consumption variance ($10^5$)')\n",
    "    plt.title(f'Distribution of variance for electricity consumption in band {i+1} and catg. {c_catg}')\n",
    "    plt.show()\n",
    "    \n",
    "for i, band in enumerate(consum_bands):\n",
    "    plt.hist(consum_var_normal[(consum_var_normal['meter_type'] == 1)\n",
    "                              & (consum_var_normal['client_catg'] == c_catg)][band]/100000, bins = 110, range = (0,6/(i+1)), density = True, alpha = 0.5)\n",
    "    plt.hist(consum_var_fraud[(consum_var_fraud['meter_type'] == 1)\n",
    "                             & (consum_var_fraud['client_catg'] == c_catg)][band]/100000, bins = 110, range = (0,6/(i+1)), density = True, alpha = 0.5)\n",
    "    plt.ylabel('density')\n",
    "    plt.xlabel('consumption variance ($10^5$)')\n",
    "    plt.title(f'Distribution of variance for gas consumption in band {i+1} and catg. {c_catg}')\n",
    "    plt.show()"
   ]
  },
  {
   "cell_type": "markdown",
   "metadata": {},
   "source": [
    "Hence, fraud occurences have higher consumption variance at the electricity consumption band 1. "
   ]
  },
  {
   "cell_type": "markdown",
   "metadata": {
    "tags": []
   },
   "source": [
    "**total consumption accross bands**"
   ]
  },
  {
   "cell_type": "markdown",
   "metadata": {},
   "source": [
    "Create a new feature for the total consumption accross bands."
   ]
  },
  {
   "cell_type": "code",
   "execution_count": null,
   "metadata": {
    "tags": []
   },
   "outputs": [],
   "source": [
    "normal_df['reading_total_consum'] = normal_df['consum_band_1'] + normal_df['consum_band_2'] + normal_df['consum_band_3'] + normal_df['consum_band_4']\n",
    "fraud_df['reading_total_consum'] = fraud_df['consum_band_1'] + fraud_df['consum_band_2'] + fraud_df['consum_band_3'] + fraud_df['consum_band_4']"
   ]
  },
  {
   "cell_type": "code",
   "execution_count": null,
   "metadata": {
    "tags": []
   },
   "outputs": [],
   "source": [
    "plt.hist(normal_df[normal_df['meter_type'] == 0]['reading_total_consum']/1000, bins = 80, range = (0,5), density = True, alpha = 0.5)\n",
    "plt.hist(fraud_df[fraud_df['meter_type'] == 0]['reading_total_consum']/1000, bins = 80, range = (0,5), density = True, alpha = 0.5)\n",
    "plt.show()\n",
    "\n",
    "plt.hist(normal_df[normal_df['meter_type'] == 1]['reading_total_consum']/1000, bins = 80, range = (0,5), density = True, alpha = 0.5)\n",
    "plt.hist(fraud_df[fraud_df['meter_type'] == 1]['reading_total_consum']/1000, bins = 80, range = (0,5), density = True, alpha = 0.5)\n",
    "plt.show()"
   ]
  },
  {
   "cell_type": "markdown",
   "metadata": {},
   "source": [
    "We see the distribution for total energy consumption is different for electricity and gas but there is no difference between fraud and normal occurences for each type."
   ]
  },
  {
   "cell_type": "markdown",
   "metadata": {
    "tags": []
   },
   "source": [
    "## EDA on reading patterns"
   ]
  },
  {
   "cell_type": "markdown",
   "metadata": {},
   "source": [
    "We check the distribution of total number of months since last reading"
   ]
  },
  {
   "cell_type": "code",
   "execution_count": null,
   "metadata": {
    "tags": []
   },
   "outputs": [],
   "source": [
    "total_consum_normal = normal_df.groupby(['client_id', 'meter_type'], as_index = False).aggregate({'consum_band_1' : 'sum', 'consum_band_2' : 'sum', \n",
    "                                                                                                'consum_band_3' : 'sum', 'consum_band_4' : 'sum',\n",
    "                                                                                                'reading_total_consum' : 'sum', \n",
    "                                                                                                'months_since_last_reading' : 'sum', 'client_id': 'size'})\n",
    "total_consum_normal.rename(columns = {'consum_band_1' : 'tot_consum_band_1', \n",
    "                           'consum_band_2' : 'tot_consum_band_1', \n",
    "                           'consum_band_3' : 'tot_consum_band_1', \n",
    "                           'consum_band_4' : 'tot_consum_band_1', \n",
    "                           'reading_total_consum' : 'tot_consum', \n",
    "                           'months_since_last_reading' : 'tot_months', \n",
    "                           'client_id': 'tot_readings'}, inplace = True)\n",
    "total_consum_normal.head()"
   ]
  },
  {
   "cell_type": "code",
   "execution_count": null,
   "metadata": {
    "tags": []
   },
   "outputs": [],
   "source": [
    "total_consum_fraud = fraud_df.groupby(['client_id', 'meter_type'], as_index = False).aggregate({'consum_band_1' : 'sum', 'consum_band_2' : 'sum', \n",
    "                                                                                                'consum_band_3' : 'sum', 'consum_band_4' : 'sum',\n",
    "                                                                                                'reading_total_consum' : 'sum', \n",
    "                                                                                                'months_since_last_reading' : 'sum', 'client_id': 'size'})\n",
    "total_consum_fraud.rename(columns = {'consum_band_1' : 'tot_consum_band_1', \n",
    "                           'consum_band_2' : 'tot_consum_band_1', \n",
    "                           'consum_band_3' : 'tot_consum_band_1', \n",
    "                           'consum_band_4' : 'tot_consum_band_1', \n",
    "                           'reading_total_consum' : 'tot_consum', \n",
    "                           'months_since_last_reading' : 'tot_months', \n",
    "                           'client_id': 'tot_readings'}, inplace = True)\n",
    "total_consum_fraud.head()"
   ]
  },
  {
   "cell_type": "code",
   "execution_count": null,
   "metadata": {
    "tags": []
   },
   "outputs": [],
   "source": [
    "plt.title('Density of total number of months since last electricity reading')\n",
    "plt.hist(total_consum_normal[total_consum_normal['meter_type'] == 0]['tot_months'], density = True, bins = 100, range = (0, 200), label = 'normal', alpha = 0.5)\n",
    "plt.hist(total_consum_fraud[total_consum_fraud['meter_type'] == 0]['tot_months'], density = True, bins = 100, range = (0, 200), label = 'fraud', alpha = 0.5)\n",
    "plt.ylabel('density')\n",
    "plt.xlabel('total number of months')\n",
    "plt.legend()\n",
    "plt.show()"
   ]
  },
  {
   "cell_type": "markdown",
   "metadata": {},
   "source": [
    "There is a clear distinction between fraud and normal occurences signaling that on average the total number of months since last **electricity** reading is higher for fraud occurences."
   ]
  },
  {
   "cell_type": "code",
   "execution_count": null,
   "metadata": {
    "tags": []
   },
   "outputs": [],
   "source": [
    "plt.title('Density of total number of months since last gas reading')\n",
    "plt.hist(total_consum_normal[total_consum_normal['meter_type'] == 1]['tot_months'], density = True, bins = 100, range = (0, 200), label = 'normal', alpha = 0.5)\n",
    "plt.hist(total_consum_fraud[total_consum_fraud['meter_type'] == 1]['tot_months'], density = True, bins = 100, range = (0, 200), label = 'fraud', alpha = 0.5)\n",
    "plt.ylabel('density')\n",
    "plt.xlabel('total number of months')\n",
    "plt.legend()\n",
    "plt.show()"
   ]
  },
  {
   "cell_type": "markdown",
   "metadata": {},
   "source": [
    "There is no clear distinction between fraud and normal occurences for the total number of months since last **gas** reading."
   ]
  },
  {
   "cell_type": "code",
   "execution_count": null,
   "metadata": {
    "tags": []
   },
   "outputs": [],
   "source": [
    "plt.title('Distribution of numbers of months since last reading')\n",
    "plt.hist(normal_df[normal_df['meter_type'] == 0]['months_since_last_reading'], density = True, range = (0, 20), label = 'normal', alpha = 0.5)\n",
    "plt.hist(fraud_df[fraud_df['meter_type'] == 0]['months_since_last_reading'], density = True, range = (0, 20), label = 'fraud', alpha = 0.5)\n",
    "plt.ylabel('density')\n",
    "plt.xlabel('total number of months')\n",
    "plt.legend()\n",
    "plt.show()"
   ]
  },
  {
   "cell_type": "markdown",
   "metadata": {},
   "source": [
    "The distribution of the number of months since last electricity reading for fraud and normal occurence are very similar. We have also check that this is the case for gas reading and electricity and gas combined. "
   ]
  },
  {
   "cell_type": "markdown",
   "metadata": {},
   "source": [
    "We now compute the number of readings for each client and compute the mean time since last reading."
   ]
  },
  {
   "cell_type": "code",
   "execution_count": null,
   "metadata": {
    "tags": []
   },
   "outputs": [],
   "source": [
    "#compute mean time since last reading\n",
    "total_consum_normal['mean_time_between_readings'] = total_consum_normal['tot_months']/total_consum_normal['tot_readings']\n",
    "total_consum_fraud['mean_time_between_readings'] = total_consum_fraud['tot_months']/total_consum_fraud['tot_readings']"
   ]
  },
  {
   "cell_type": "code",
   "execution_count": null,
   "metadata": {
    "tags": []
   },
   "outputs": [],
   "source": [
    "plt.title('Distribution of the mean time since last electricity reading ')\n",
    "plt.hist(total_consum_normal[total_consum_normal['meter_type'] == 0]['tot_readings'], density = True, bins = 50, range = (0, 50), label = 'normal', alpha = 0.5)\n",
    "plt.hist(total_consum_fraud[total_consum_fraud['meter_type'] == 0]['tot_readings'], density = True, bins = 50, range = (0, 50), label = 'fraud', alpha = 0.5)\n",
    "plt.ylabel('density')\n",
    "plt.xlabel('number of meter readings')\n",
    "plt.legend()\n",
    "plt.show()"
   ]
  },
  {
   "cell_type": "markdown",
   "metadata": {},
   "source": [
    "This distribution has a very similar shape as the distribution for the total number of months since last electricity reading. Hence this two dsitribution only show that a fraud occurence is more likely to be detected if the household is inspected several times over time."
   ]
  },
  {
   "cell_type": "code",
   "execution_count": null,
   "metadata": {
    "tags": []
   },
   "outputs": [],
   "source": [
    "plt.title('Distribution of the mean time in between readinds')\n",
    "plt.hist(total_consum_normal[total_consum_normal['meter_type'] == 0]['mean_time_between_readings'], density = True, bins = 40, range = (0, 10), label = 'normal', alpha = 0.5)\n",
    "plt.hist(total_consum_fraud[total_consum_fraud['meter_type'] == 0]['mean_time_between_readings'], density = True, bins = 40, range = (0, 10), label = 'fraud', alpha = 0.5)\n",
    "plt.ylabel('density')\n",
    "plt.xlabel('mean number of months')\n",
    "plt.legend()\n",
    "plt.show()"
   ]
  },
  {
   "cell_type": "markdown",
   "metadata": {},
   "source": [
    "The distribution of mean time since last electricty reading are very similar for fraud and normal occurences, hence it is no possible to state that long times between readings influence in an occurence correspond to a fraud or not."
   ]
  },
  {
   "cell_type": "markdown",
   "metadata": {
    "tags": []
   },
   "source": [
    "**meter state**"
   ]
  },
  {
   "cell_type": "code",
   "execution_count": 144,
   "metadata": {
    "tags": []
   },
   "outputs": [
    {
     "data": {
      "image/png": "[encoded data removed]",
      "text/plain": [
       "<Figure size 640x480 with 1 Axes>"
      ]
     },
     "metadata": {},
     "output_type": "display_data"
    }
   ],
   "source": [
    "plt.title('Distribution of meter score')\n",
    "plt.hist([normal_df[normal_df['meter_type'] == 0]['meter_state'], fraud_df[fraud_df['meter_type'] == 0]['meter_state']], label = ['normal', 'fraud'], density = True)\n",
    "plt.ylabel('density')\n",
    "plt.xlabel('meter score')\n",
    "plt.legend()\n",
    "plt.show()"
   ]
  },
  {
   "cell_type": "code",
   "execution_count": 145,
   "metadata": {
    "tags": []
   },
   "outputs": [
    {
     "data": {
      "image/png": "[encoded data removed]",
      "text/plain": [
       "<Figure size 640x480 with 1 Axes>"
      ]
     },
     "metadata": {},
     "output_type": "display_data"
    }
   ],
   "source": [
    "plt.title('Distribution of reading remarks')\n",
    "plt.hist([normal_df[normal_df['meter_type'] == 0]['reading_remark'], fraud_df[fraud_df['meter_type'] == 0]['reading_remark']], density = True, range = (0, 9), label = ['normal', 'fraud'])\n",
    "plt.ylabel('density')\n",
    "plt.xlabel('remark score')\n",
    "plt.legend()\n",
    "plt.show()"
   ]
  },
  {
   "cell_type": "markdown",
   "metadata": {},
   "source": [
    "From the two types of meter scores we cannot really distinguish normal occurences from fraud."
   ]
  },
  {
   "cell_type": "markdown",
   "metadata": {
    "tags": []
   },
   "source": [
    "**regional patterns**"
   ]
  },
  {
   "cell_type": "code",
   "execution_count": 143,
   "metadata": {
    "tags": []
   },
   "outputs": [
    {
     "data": {
      "text/html": [
       "<div>\n",
       "<style scoped>\n",
       "    .dataframe tbody tr th:only-of-type {\n",
       "        vertical-align: middle;\n",
       "    }\n",
       "\n",
       "    .dataframe tbody tr th {\n",
       "        vertical-align: top;\n",
       "    }\n",
       "\n",
       "    .dataframe thead th {\n",
       "        text-align: right;\n",
       "    }\n",
       "</style>\n",
       "<table border=\"1\" class=\"dataframe\">\n",
       "  <thead>\n",
       "    <tr style=\"text-align: right;\">\n",
       "      <th></th>\n",
       "      <th>region</th>\n",
       "      <th>fraud</th>\n",
       "      <th>count</th>\n",
       "    </tr>\n",
       "  </thead>\n",
       "  <tbody>\n",
       "    <tr>\n",
       "      <th>0</th>\n",
       "      <td>101</td>\n",
       "      <td>0</td>\n",
       "      <td>32557</td>\n",
       "    </tr>\n",
       "    <tr>\n",
       "      <th>1</th>\n",
       "      <td>101</td>\n",
       "      <td>1</td>\n",
       "      <td>1213</td>\n",
       "    </tr>\n",
       "    <tr>\n",
       "      <th>2</th>\n",
       "      <td>103</td>\n",
       "      <td>0</td>\n",
       "      <td>8041</td>\n",
       "    </tr>\n",
       "    <tr>\n",
       "      <th>3</th>\n",
       "      <td>103</td>\n",
       "      <td>1</td>\n",
       "      <td>923</td>\n",
       "    </tr>\n",
       "    <tr>\n",
       "      <th>4</th>\n",
       "      <td>104</td>\n",
       "      <td>0</td>\n",
       "      <td>12145</td>\n",
       "    </tr>\n",
       "    <tr>\n",
       "      <th>5</th>\n",
       "      <td>104</td>\n",
       "      <td>1</td>\n",
       "      <td>720</td>\n",
       "    </tr>\n",
       "    <tr>\n",
       "      <th>6</th>\n",
       "      <td>105</td>\n",
       "      <td>0</td>\n",
       "      <td>1553</td>\n",
       "    </tr>\n",
       "    <tr>\n",
       "      <th>7</th>\n",
       "      <td>105</td>\n",
       "      <td>1</td>\n",
       "      <td>92</td>\n",
       "    </tr>\n",
       "    <tr>\n",
       "      <th>8</th>\n",
       "      <td>106</td>\n",
       "      <td>0</td>\n",
       "      <td>653</td>\n",
       "    </tr>\n",
       "    <tr>\n",
       "      <th>9</th>\n",
       "      <td>106</td>\n",
       "      <td>1</td>\n",
       "      <td>53</td>\n",
       "    </tr>\n",
       "    <tr>\n",
       "      <th>10</th>\n",
       "      <td>107</td>\n",
       "      <td>0</td>\n",
       "      <td>9340</td>\n",
       "    </tr>\n",
       "    <tr>\n",
       "      <th>11</th>\n",
       "      <td>107</td>\n",
       "      <td>1</td>\n",
       "      <td>658</td>\n",
       "    </tr>\n",
       "    <tr>\n",
       "      <th>12</th>\n",
       "      <td>199</td>\n",
       "      <td>0</td>\n",
       "      <td>2</td>\n",
       "    </tr>\n",
       "    <tr>\n",
       "      <th>13</th>\n",
       "      <td>206</td>\n",
       "      <td>0</td>\n",
       "      <td>52</td>\n",
       "    </tr>\n",
       "    <tr>\n",
       "      <th>14</th>\n",
       "      <td>206</td>\n",
       "      <td>1</td>\n",
       "      <td>1</td>\n",
       "    </tr>\n",
       "    <tr>\n",
       "      <th>15</th>\n",
       "      <td>301</td>\n",
       "      <td>0</td>\n",
       "      <td>9229</td>\n",
       "    </tr>\n",
       "    <tr>\n",
       "      <th>16</th>\n",
       "      <td>301</td>\n",
       "      <td>1</td>\n",
       "      <td>315</td>\n",
       "    </tr>\n",
       "    <tr>\n",
       "      <th>17</th>\n",
       "      <td>302</td>\n",
       "      <td>0</td>\n",
       "      <td>4045</td>\n",
       "    </tr>\n",
       "    <tr>\n",
       "      <th>18</th>\n",
       "      <td>302</td>\n",
       "      <td>1</td>\n",
       "      <td>266</td>\n",
       "    </tr>\n",
       "    <tr>\n",
       "      <th>19</th>\n",
       "      <td>303</td>\n",
       "      <td>0</td>\n",
       "      <td>5656</td>\n",
       "    </tr>\n",
       "    <tr>\n",
       "      <th>20</th>\n",
       "      <td>303</td>\n",
       "      <td>1</td>\n",
       "      <td>326</td>\n",
       "    </tr>\n",
       "    <tr>\n",
       "      <th>21</th>\n",
       "      <td>304</td>\n",
       "      <td>0</td>\n",
       "      <td>3572</td>\n",
       "    </tr>\n",
       "    <tr>\n",
       "      <th>22</th>\n",
       "      <td>304</td>\n",
       "      <td>1</td>\n",
       "      <td>256</td>\n",
       "    </tr>\n",
       "    <tr>\n",
       "      <th>23</th>\n",
       "      <td>305</td>\n",
       "      <td>0</td>\n",
       "      <td>2559</td>\n",
       "    </tr>\n",
       "    <tr>\n",
       "      <th>24</th>\n",
       "      <td>305</td>\n",
       "      <td>1</td>\n",
       "      <td>157</td>\n",
       "    </tr>\n",
       "    <tr>\n",
       "      <th>25</th>\n",
       "      <td>306</td>\n",
       "      <td>0</td>\n",
       "      <td>5750</td>\n",
       "    </tr>\n",
       "    <tr>\n",
       "      <th>26</th>\n",
       "      <td>306</td>\n",
       "      <td>1</td>\n",
       "      <td>294</td>\n",
       "    </tr>\n",
       "    <tr>\n",
       "      <th>27</th>\n",
       "      <td>307</td>\n",
       "      <td>0</td>\n",
       "      <td>3166</td>\n",
       "    </tr>\n",
       "    <tr>\n",
       "      <th>28</th>\n",
       "      <td>307</td>\n",
       "      <td>1</td>\n",
       "      <td>210</td>\n",
       "    </tr>\n",
       "    <tr>\n",
       "      <th>29</th>\n",
       "      <td>308</td>\n",
       "      <td>0</td>\n",
       "      <td>780</td>\n",
       "    </tr>\n",
       "    <tr>\n",
       "      <th>30</th>\n",
       "      <td>308</td>\n",
       "      <td>1</td>\n",
       "      <td>61</td>\n",
       "    </tr>\n",
       "    <tr>\n",
       "      <th>31</th>\n",
       "      <td>309</td>\n",
       "      <td>0</td>\n",
       "      <td>3511</td>\n",
       "    </tr>\n",
       "    <tr>\n",
       "      <th>32</th>\n",
       "      <td>309</td>\n",
       "      <td>1</td>\n",
       "      <td>158</td>\n",
       "    </tr>\n",
       "    <tr>\n",
       "      <th>33</th>\n",
       "      <td>310</td>\n",
       "      <td>0</td>\n",
       "      <td>4604</td>\n",
       "    </tr>\n",
       "    <tr>\n",
       "      <th>34</th>\n",
       "      <td>310</td>\n",
       "      <td>1</td>\n",
       "      <td>247</td>\n",
       "    </tr>\n",
       "    <tr>\n",
       "      <th>35</th>\n",
       "      <td>311</td>\n",
       "      <td>0</td>\n",
       "      <td>11408</td>\n",
       "    </tr>\n",
       "    <tr>\n",
       "      <th>36</th>\n",
       "      <td>311</td>\n",
       "      <td>1</td>\n",
       "      <td>998</td>\n",
       "    </tr>\n",
       "    <tr>\n",
       "      <th>37</th>\n",
       "      <td>312</td>\n",
       "      <td>0</td>\n",
       "      <td>4161</td>\n",
       "    </tr>\n",
       "    <tr>\n",
       "      <th>38</th>\n",
       "      <td>312</td>\n",
       "      <td>1</td>\n",
       "      <td>218</td>\n",
       "    </tr>\n",
       "    <tr>\n",
       "      <th>39</th>\n",
       "      <td>313</td>\n",
       "      <td>0</td>\n",
       "      <td>1929</td>\n",
       "    </tr>\n",
       "    <tr>\n",
       "      <th>40</th>\n",
       "      <td>313</td>\n",
       "      <td>1</td>\n",
       "      <td>147</td>\n",
       "    </tr>\n",
       "    <tr>\n",
       "      <th>41</th>\n",
       "      <td>371</td>\n",
       "      <td>0</td>\n",
       "      <td>1917</td>\n",
       "    </tr>\n",
       "    <tr>\n",
       "      <th>42</th>\n",
       "      <td>371</td>\n",
       "      <td>1</td>\n",
       "      <td>148</td>\n",
       "    </tr>\n",
       "    <tr>\n",
       "      <th>43</th>\n",
       "      <td>372</td>\n",
       "      <td>0</td>\n",
       "      <td>579</td>\n",
       "    </tr>\n",
       "    <tr>\n",
       "      <th>44</th>\n",
       "      <td>372</td>\n",
       "      <td>1</td>\n",
       "      <td>65</td>\n",
       "    </tr>\n",
       "    <tr>\n",
       "      <th>45</th>\n",
       "      <td>379</td>\n",
       "      <td>0</td>\n",
       "      <td>544</td>\n",
       "    </tr>\n",
       "    <tr>\n",
       "      <th>46</th>\n",
       "      <td>379</td>\n",
       "      <td>1</td>\n",
       "      <td>39</td>\n",
       "    </tr>\n",
       "    <tr>\n",
       "      <th>47</th>\n",
       "      <td>399</td>\n",
       "      <td>0</td>\n",
       "      <td>174</td>\n",
       "    </tr>\n",
       "    <tr>\n",
       "      <th>48</th>\n",
       "      <td>399</td>\n",
       "      <td>1</td>\n",
       "      <td>1</td>\n",
       "    </tr>\n",
       "  </tbody>\n",
       "</table>\n",
       "</div>"
      ],
      "text/plain": [
       "    region  fraud  count\n",
       "0      101      0  32557\n",
       "1      101      1   1213\n",
       "2      103      0   8041\n",
       "3      103      1    923\n",
       "4      104      0  12145\n",
       "5      104      1    720\n",
       "6      105      0   1553\n",
       "7      105      1     92\n",
       "8      106      0    653\n",
       "9      106      1     53\n",
       "10     107      0   9340\n",
       "11     107      1    658\n",
       "12     199      0      2\n",
       "13     206      0     52\n",
       "14     206      1      1\n",
       "15     301      0   9229\n",
       "16     301      1    315\n",
       "17     302      0   4045\n",
       "18     302      1    266\n",
       "19     303      0   5656\n",
       "20     303      1    326\n",
       "21     304      0   3572\n",
       "22     304      1    256\n",
       "23     305      0   2559\n",
       "24     305      1    157\n",
       "25     306      0   5750\n",
       "26     306      1    294\n",
       "27     307      0   3166\n",
       "28     307      1    210\n",
       "29     308      0    780\n",
       "30     308      1     61\n",
       "31     309      0   3511\n",
       "32     309      1    158\n",
       "33     310      0   4604\n",
       "34     310      1    247\n",
       "35     311      0  11408\n",
       "36     311      1    998\n",
       "37     312      0   4161\n",
       "38     312      1    218\n",
       "39     313      0   1929\n",
       "40     313      1    147\n",
       "41     371      0   1917\n",
       "42     371      1    148\n",
       "43     372      0    579\n",
       "44     372      1     65\n",
       "45     379      0    544\n",
       "46     379      1     39\n",
       "47     399      0    174\n",
       "48     399      1      1"
      ]
     },
     "execution_count": 143,
     "metadata": {},
     "output_type": "execute_result"
    }
   ],
   "source": [
    "client.groupby('region', as_index = False)['fraud'].value_counts()"
   ]
  },
  {
   "cell_type": "markdown",
   "metadata": {
    "id": "iJ3KlVOCYfnZ"
   },
   "source": [
    "# Modelling"
   ]
  },
  {
   "cell_type": "markdown",
   "metadata": {},
   "source": [
    "## Feature engineering"
   ]
  },
  {
   "cell_type": "code",
   "execution_count": 180,
   "metadata": {
    "tags": []
   },
   "outputs": [
    {
     "data": {
      "text/html": [
       "<div>\n",
       "<style scoped>\n",
       "    .dataframe tbody tr th:only-of-type {\n",
       "        vertical-align: middle;\n",
       "    }\n",
       "\n",
       "    .dataframe tbody tr th {\n",
       "        vertical-align: top;\n",
       "    }\n",
       "\n",
       "    .dataframe thead th {\n",
       "        text-align: right;\n",
       "    }\n",
       "</style>\n",
       "<table border=\"1\" class=\"dataframe\">\n",
       "  <thead>\n",
       "    <tr style=\"text-align: right;\">\n",
       "      <th></th>\n",
       "      <th>client_id</th>\n",
       "      <th>client_catg</th>\n",
       "      <th>fraud</th>\n",
       "      <th>mean_meter_state</th>\n",
       "      <th>mean_reading_remark</th>\n",
       "      <th>mean_months_since_last_reading</th>\n",
       "      <th>mean_consum_band_1</th>\n",
       "      <th>mean_old_index</th>\n",
       "      <th>mean_new_index</th>\n",
       "    </tr>\n",
       "  </thead>\n",
       "  <tbody>\n",
       "    <tr>\n",
       "      <th>0</th>\n",
       "      <td>train_Client_0</td>\n",
       "      <td>11</td>\n",
       "      <td>0</td>\n",
       "      <td>0.0</td>\n",
       "      <td>6.971429</td>\n",
       "      <td>4.628571</td>\n",
       "      <td>352.400000</td>\n",
       "      <td>9444.542857</td>\n",
       "      <td>9807.514286</td>\n",
       "    </tr>\n",
       "    <tr>\n",
       "      <th>1</th>\n",
       "      <td>train_Client_1</td>\n",
       "      <td>11</td>\n",
       "      <td>0</td>\n",
       "      <td>0.0</td>\n",
       "      <td>7.216216</td>\n",
       "      <td>4.324324</td>\n",
       "      <td>557.540541</td>\n",
       "      <td>14330.756757</td>\n",
       "      <td>14888.297297</td>\n",
       "    </tr>\n",
       "    <tr>\n",
       "      <th>2</th>\n",
       "      <td>train_Client_10</td>\n",
       "      <td>11</td>\n",
       "      <td>0</td>\n",
       "      <td>0.0</td>\n",
       "      <td>7.055556</td>\n",
       "      <td>6.444444</td>\n",
       "      <td>798.611111</td>\n",
       "      <td>32873.000000</td>\n",
       "      <td>33709.500000</td>\n",
       "    </tr>\n",
       "    <tr>\n",
       "      <th>3</th>\n",
       "      <td>train_Client_100</td>\n",
       "      <td>11</td>\n",
       "      <td>0</td>\n",
       "      <td>0.0</td>\n",
       "      <td>6.150000</td>\n",
       "      <td>4.200000</td>\n",
       "      <td>1.200000</td>\n",
       "      <td>94.150000</td>\n",
       "      <td>95.350000</td>\n",
       "    </tr>\n",
       "    <tr>\n",
       "      <th>4</th>\n",
       "      <td>train_Client_1000</td>\n",
       "      <td>11</td>\n",
       "      <td>0</td>\n",
       "      <td>0.0</td>\n",
       "      <td>8.857143</td>\n",
       "      <td>3.714286</td>\n",
       "      <td>663.714286</td>\n",
       "      <td>6900.428571</td>\n",
       "      <td>7823.071429</td>\n",
       "    </tr>\n",
       "  </tbody>\n",
       "</table>\n",
       "</div>"
      ],
      "text/plain": [
       "           client_id  client_catg  fraud  mean_meter_state   \n",
       "0     train_Client_0           11      0               0.0  \\\n",
       "1     train_Client_1           11      0               0.0   \n",
       "2    train_Client_10           11      0               0.0   \n",
       "3   train_Client_100           11      0               0.0   \n",
       "4  train_Client_1000           11      0               0.0   \n",
       "\n",
       "   mean_reading_remark  mean_months_since_last_reading  mean_consum_band_1   \n",
       "0             6.971429                        4.628571          352.400000  \\\n",
       "1             7.216216                        4.324324          557.540541   \n",
       "2             7.055556                        6.444444          798.611111   \n",
       "3             6.150000                        4.200000            1.200000   \n",
       "4             8.857143                        3.714286          663.714286   \n",
       "\n",
       "   mean_old_index  mean_new_index  \n",
       "0     9444.542857     9807.514286  \n",
       "1    14330.756757    14888.297297  \n",
       "2    32873.000000    33709.500000  \n",
       "3       94.150000       95.350000  \n",
       "4     6900.428571     7823.071429  "
      ]
     },
     "execution_count": 180,
     "metadata": {},
     "output_type": "execute_result"
    }
   ],
   "source": [
    "feats_stats = ['meter_state', 'reading_remark', 'months_since_last_reading', 'consum_band_1', 'old_index', 'new_index']\n",
    "invoice_client_elec_stats = invoice_client_merge_df[invoice_client_merge_df['meter_type'] == 0].groupby(['client_id', \n",
    "                                                                                                   'client_catg',  \n",
    "                                                                                                   'fraud'], as_index = False)[feats_stats].mean()\n",
    "invoice_client_elec_stats.rename(columns = {'meter_state' : 'mean_meter_state', \n",
    "                                            'reading_remark' : 'mean_reading_remark', \n",
    "                                            'months_since_last_reading' : 'mean_months_since_last_reading', \n",
    "                                            'consum_band_1' : 'mean_consum_band_1', \n",
    "                                            'old_index' : 'mean_old_index', \n",
    "                                            'new_index' : 'mean_new_index'}, inplace = True)\n",
    "invoice_client_elec_stats.head()"
   ]
  },
  {
   "cell_type": "code",
   "execution_count": 181,
   "metadata": {
    "tags": []
   },
   "outputs": [
    {
     "data": {
      "text/html": [
       "<div>\n",
       "<style scoped>\n",
       "    .dataframe tbody tr th:only-of-type {\n",
       "        vertical-align: middle;\n",
       "    }\n",
       "\n",
       "    .dataframe tbody tr th {\n",
       "        vertical-align: top;\n",
       "    }\n",
       "\n",
       "    .dataframe thead th {\n",
       "        text-align: right;\n",
       "    }\n",
       "</style>\n",
       "<table border=\"1\" class=\"dataframe\">\n",
       "  <thead>\n",
       "    <tr style=\"text-align: right;\">\n",
       "      <th></th>\n",
       "      <th>client_id</th>\n",
       "      <th>client_catg</th>\n",
       "      <th>fraud</th>\n",
       "      <th>mean_meter_state</th>\n",
       "      <th>mean_reading_remark</th>\n",
       "      <th>mean_months_since_last_reading</th>\n",
       "      <th>mean_consum_band_1</th>\n",
       "      <th>mean_old_index</th>\n",
       "      <th>mean_new_index</th>\n",
       "      <th>var_meter_state</th>\n",
       "      <th>var_reading_remark</th>\n",
       "      <th>var_months_since_last_reading</th>\n",
       "      <th>var_consum_band_1</th>\n",
       "      <th>var_old_index</th>\n",
       "      <th>var_new_index</th>\n",
       "    </tr>\n",
       "  </thead>\n",
       "  <tbody>\n",
       "    <tr>\n",
       "      <th>0</th>\n",
       "      <td>train_Client_0</td>\n",
       "      <td>11</td>\n",
       "      <td>0</td>\n",
       "      <td>0.0</td>\n",
       "      <td>6.971429</td>\n",
       "      <td>4.628571</td>\n",
       "      <td>352.400000</td>\n",
       "      <td>9444.542857</td>\n",
       "      <td>9807.514286</td>\n",
       "      <td>0.0</td>\n",
       "      <td>1.557983</td>\n",
       "      <td>4.416807</td>\n",
       "      <td>96313.070588</td>\n",
       "      <td>2.050047e+07</td>\n",
       "      <td>2.097335e+07</td>\n",
       "    </tr>\n",
       "    <tr>\n",
       "      <th>1</th>\n",
       "      <td>train_Client_1</td>\n",
       "      <td>11</td>\n",
       "      <td>0</td>\n",
       "      <td>0.0</td>\n",
       "      <td>7.216216</td>\n",
       "      <td>4.324324</td>\n",
       "      <td>557.540541</td>\n",
       "      <td>14330.756757</td>\n",
       "      <td>14888.297297</td>\n",
       "      <td>0.0</td>\n",
       "      <td>1.896396</td>\n",
       "      <td>1.891892</td>\n",
       "      <td>39178.644144</td>\n",
       "      <td>3.750492e+07</td>\n",
       "      <td>3.745102e+07</td>\n",
       "    </tr>\n",
       "    <tr>\n",
       "      <th>2</th>\n",
       "      <td>train_Client_10</td>\n",
       "      <td>11</td>\n",
       "      <td>0</td>\n",
       "      <td>0.0</td>\n",
       "      <td>7.055556</td>\n",
       "      <td>6.444444</td>\n",
       "      <td>798.611111</td>\n",
       "      <td>32873.000000</td>\n",
       "      <td>33709.500000</td>\n",
       "      <td>0.0</td>\n",
       "      <td>1.584967</td>\n",
       "      <td>11.555556</td>\n",
       "      <td>264032.957516</td>\n",
       "      <td>2.827241e+07</td>\n",
       "      <td>3.072740e+07</td>\n",
       "    </tr>\n",
       "    <tr>\n",
       "      <th>3</th>\n",
       "      <td>train_Client_100</td>\n",
       "      <td>11</td>\n",
       "      <td>0</td>\n",
       "      <td>0.0</td>\n",
       "      <td>6.150000</td>\n",
       "      <td>4.200000</td>\n",
       "      <td>1.200000</td>\n",
       "      <td>94.150000</td>\n",
       "      <td>95.350000</td>\n",
       "      <td>0.0</td>\n",
       "      <td>0.450000</td>\n",
       "      <td>0.378947</td>\n",
       "      <td>13.010526</td>\n",
       "      <td>1.697632e+01</td>\n",
       "      <td>3.529211e+01</td>\n",
       "    </tr>\n",
       "    <tr>\n",
       "      <th>4</th>\n",
       "      <td>train_Client_1000</td>\n",
       "      <td>11</td>\n",
       "      <td>0</td>\n",
       "      <td>0.0</td>\n",
       "      <td>8.857143</td>\n",
       "      <td>3.714286</td>\n",
       "      <td>663.714286</td>\n",
       "      <td>6900.428571</td>\n",
       "      <td>7823.071429</td>\n",
       "      <td>0.0</td>\n",
       "      <td>0.131868</td>\n",
       "      <td>0.527473</td>\n",
       "      <td>50549.142857</td>\n",
       "      <td>2.239288e+07</td>\n",
       "      <td>2.069039e+07</td>\n",
       "    </tr>\n",
       "  </tbody>\n",
       "</table>\n",
       "</div>"
      ],
      "text/plain": [
       "           client_id  client_catg  fraud  mean_meter_state   \n",
       "0     train_Client_0           11      0               0.0  \\\n",
       "1     train_Client_1           11      0               0.0   \n",
       "2    train_Client_10           11      0               0.0   \n",
       "3   train_Client_100           11      0               0.0   \n",
       "4  train_Client_1000           11      0               0.0   \n",
       "\n",
       "   mean_reading_remark  mean_months_since_last_reading  mean_consum_band_1   \n",
       "0             6.971429                        4.628571          352.400000  \\\n",
       "1             7.216216                        4.324324          557.540541   \n",
       "2             7.055556                        6.444444          798.611111   \n",
       "3             6.150000                        4.200000            1.200000   \n",
       "4             8.857143                        3.714286          663.714286   \n",
       "\n",
       "   mean_old_index  mean_new_index  var_meter_state  var_reading_remark   \n",
       "0     9444.542857     9807.514286              0.0            1.557983  \\\n",
       "1    14330.756757    14888.297297              0.0            1.896396   \n",
       "2    32873.000000    33709.500000              0.0            1.584967   \n",
       "3       94.150000       95.350000              0.0            0.450000   \n",
       "4     6900.428571     7823.071429              0.0            0.131868   \n",
       "\n",
       "   var_months_since_last_reading  var_consum_band_1  var_old_index   \n",
       "0                       4.416807       96313.070588   2.050047e+07  \\\n",
       "1                       1.891892       39178.644144   3.750492e+07   \n",
       "2                      11.555556      264032.957516   2.827241e+07   \n",
       "3                       0.378947          13.010526   1.697632e+01   \n",
       "4                       0.527473       50549.142857   2.239288e+07   \n",
       "\n",
       "   var_new_index  \n",
       "0   2.097335e+07  \n",
       "1   3.745102e+07  \n",
       "2   3.072740e+07  \n",
       "3   3.529211e+01  \n",
       "4   2.069039e+07  "
      ]
     },
     "execution_count": 181,
     "metadata": {},
     "output_type": "execute_result"
    }
   ],
   "source": [
    "invoice_client_elec_stats = pd.concat([invoice_client_elec_stats, \n",
    "                                       invoice_client_merge_df[invoice_client_merge_df['meter_type'] == 0].groupby(['client_id', \n",
    "                                                                                                   'client_catg',  \n",
    "                                                                                                   'fraud'], as_index = False)[feats_stats].var()], axis = 1)\n",
    "invoice_client_elec_stats = invoice_client_elec_stats.loc[:,~invoice_client_elec_stats.columns.duplicated()]\n",
    "invoice_client_elec_stats.rename(columns = {'meter_state' : 'var_meter_state', \n",
    "                                            'reading_remark' : 'var_reading_remark', \n",
    "                                            'months_since_last_reading' : 'var_months_since_last_reading', \n",
    "                                            'consum_band_1' : 'var_consum_band_1', \n",
    "                                            'old_index' : 'var_old_index', \n",
    "                                            'new_index' : 'var_new_index'}, inplace = True)\n",
    "invoice_client_elec_stats.head()"
   ]
  },
  {
   "cell_type": "code",
   "execution_count": 182,
   "metadata": {
    "tags": []
   },
   "outputs": [
    {
     "data": {
      "text/html": [
       "<div>\n",
       "<style scoped>\n",
       "    .dataframe tbody tr th:only-of-type {\n",
       "        vertical-align: middle;\n",
       "    }\n",
       "\n",
       "    .dataframe tbody tr th {\n",
       "        vertical-align: top;\n",
       "    }\n",
       "\n",
       "    .dataframe thead th {\n",
       "        text-align: right;\n",
       "    }\n",
       "</style>\n",
       "<table border=\"1\" class=\"dataframe\">\n",
       "  <thead>\n",
       "    <tr style=\"text-align: right;\">\n",
       "      <th></th>\n",
       "      <th>client_id</th>\n",
       "      <th>client_catg</th>\n",
       "      <th>fraud</th>\n",
       "      <th>mean_meter_state</th>\n",
       "      <th>mean_reading_remark</th>\n",
       "      <th>mean_months_since_last_reading</th>\n",
       "      <th>mean_consum_band_1</th>\n",
       "      <th>mean_old_index</th>\n",
       "      <th>mean_new_index</th>\n",
       "      <th>var_meter_state</th>\n",
       "      <th>...</th>\n",
       "      <th>var_months_since_last_reading</th>\n",
       "      <th>var_consum_band_1</th>\n",
       "      <th>var_old_index</th>\n",
       "      <th>var_new_index</th>\n",
       "      <th>std_meter_state</th>\n",
       "      <th>std_reading_remark</th>\n",
       "      <th>std_months_since_last_reading</th>\n",
       "      <th>std_consum_band_1</th>\n",
       "      <th>std_old_index</th>\n",
       "      <th>std_new_index</th>\n",
       "    </tr>\n",
       "  </thead>\n",
       "  <tbody>\n",
       "    <tr>\n",
       "      <th>0</th>\n",
       "      <td>train_Client_0</td>\n",
       "      <td>11</td>\n",
       "      <td>0</td>\n",
       "      <td>0.0</td>\n",
       "      <td>6.971429</td>\n",
       "      <td>4.628571</td>\n",
       "      <td>352.400000</td>\n",
       "      <td>9444.542857</td>\n",
       "      <td>9807.514286</td>\n",
       "      <td>0.0</td>\n",
       "      <td>...</td>\n",
       "      <td>4.416807</td>\n",
       "      <td>96313.070588</td>\n",
       "      <td>2.050047e+07</td>\n",
       "      <td>2.097335e+07</td>\n",
       "      <td>0.0</td>\n",
       "      <td>1.248192</td>\n",
       "      <td>2.101620</td>\n",
       "      <td>310.343472</td>\n",
       "      <td>4527.744415</td>\n",
       "      <td>4579.666655</td>\n",
       "    </tr>\n",
       "    <tr>\n",
       "      <th>1</th>\n",
       "      <td>train_Client_1</td>\n",
       "      <td>11</td>\n",
       "      <td>0</td>\n",
       "      <td>0.0</td>\n",
       "      <td>7.216216</td>\n",
       "      <td>4.324324</td>\n",
       "      <td>557.540541</td>\n",
       "      <td>14330.756757</td>\n",
       "      <td>14888.297297</td>\n",
       "      <td>0.0</td>\n",
       "      <td>...</td>\n",
       "      <td>1.891892</td>\n",
       "      <td>39178.644144</td>\n",
       "      <td>3.750492e+07</td>\n",
       "      <td>3.745102e+07</td>\n",
       "      <td>0.0</td>\n",
       "      <td>1.377097</td>\n",
       "      <td>1.375461</td>\n",
       "      <td>197.935960</td>\n",
       "      <td>6124.126094</td>\n",
       "      <td>6119.723768</td>\n",
       "    </tr>\n",
       "    <tr>\n",
       "      <th>2</th>\n",
       "      <td>train_Client_10</td>\n",
       "      <td>11</td>\n",
       "      <td>0</td>\n",
       "      <td>0.0</td>\n",
       "      <td>7.055556</td>\n",
       "      <td>6.444444</td>\n",
       "      <td>798.611111</td>\n",
       "      <td>32873.000000</td>\n",
       "      <td>33709.500000</td>\n",
       "      <td>0.0</td>\n",
       "      <td>...</td>\n",
       "      <td>11.555556</td>\n",
       "      <td>264032.957516</td>\n",
       "      <td>2.827241e+07</td>\n",
       "      <td>3.072740e+07</td>\n",
       "      <td>0.0</td>\n",
       "      <td>1.258955</td>\n",
       "      <td>3.399346</td>\n",
       "      <td>513.841374</td>\n",
       "      <td>5317.180865</td>\n",
       "      <td>5543.230331</td>\n",
       "    </tr>\n",
       "    <tr>\n",
       "      <th>3</th>\n",
       "      <td>train_Client_100</td>\n",
       "      <td>11</td>\n",
       "      <td>0</td>\n",
       "      <td>0.0</td>\n",
       "      <td>6.150000</td>\n",
       "      <td>4.200000</td>\n",
       "      <td>1.200000</td>\n",
       "      <td>94.150000</td>\n",
       "      <td>95.350000</td>\n",
       "      <td>0.0</td>\n",
       "      <td>...</td>\n",
       "      <td>0.378947</td>\n",
       "      <td>13.010526</td>\n",
       "      <td>1.697632e+01</td>\n",
       "      <td>3.529211e+01</td>\n",
       "      <td>0.0</td>\n",
       "      <td>0.670820</td>\n",
       "      <td>0.615587</td>\n",
       "      <td>3.607011</td>\n",
       "      <td>4.120232</td>\n",
       "      <td>5.940716</td>\n",
       "    </tr>\n",
       "    <tr>\n",
       "      <th>4</th>\n",
       "      <td>train_Client_1000</td>\n",
       "      <td>11</td>\n",
       "      <td>0</td>\n",
       "      <td>0.0</td>\n",
       "      <td>8.857143</td>\n",
       "      <td>3.714286</td>\n",
       "      <td>663.714286</td>\n",
       "      <td>6900.428571</td>\n",
       "      <td>7823.071429</td>\n",
       "      <td>0.0</td>\n",
       "      <td>...</td>\n",
       "      <td>0.527473</td>\n",
       "      <td>50549.142857</td>\n",
       "      <td>2.239288e+07</td>\n",
       "      <td>2.069039e+07</td>\n",
       "      <td>0.0</td>\n",
       "      <td>0.363137</td>\n",
       "      <td>0.726273</td>\n",
       "      <td>224.831365</td>\n",
       "      <td>4732.111217</td>\n",
       "      <td>4548.668807</td>\n",
       "    </tr>\n",
       "  </tbody>\n",
       "</table>\n",
       "<p>5 rows × 21 columns</p>\n",
       "</div>"
      ],
      "text/plain": [
       "           client_id  client_catg  fraud  mean_meter_state   \n",
       "0     train_Client_0           11      0               0.0  \\\n",
       "1     train_Client_1           11      0               0.0   \n",
       "2    train_Client_10           11      0               0.0   \n",
       "3   train_Client_100           11      0               0.0   \n",
       "4  train_Client_1000           11      0               0.0   \n",
       "\n",
       "   mean_reading_remark  mean_months_since_last_reading  mean_consum_band_1   \n",
       "0             6.971429                        4.628571          352.400000  \\\n",
       "1             7.216216                        4.324324          557.540541   \n",
       "2             7.055556                        6.444444          798.611111   \n",
       "3             6.150000                        4.200000            1.200000   \n",
       "4             8.857143                        3.714286          663.714286   \n",
       "\n",
       "   mean_old_index  mean_new_index  var_meter_state  ...   \n",
       "0     9444.542857     9807.514286              0.0  ...  \\\n",
       "1    14330.756757    14888.297297              0.0  ...   \n",
       "2    32873.000000    33709.500000              0.0  ...   \n",
       "3       94.150000       95.350000              0.0  ...   \n",
       "4     6900.428571     7823.071429              0.0  ...   \n",
       "\n",
       "   var_months_since_last_reading  var_consum_band_1  var_old_index   \n",
       "0                       4.416807       96313.070588   2.050047e+07  \\\n",
       "1                       1.891892       39178.644144   3.750492e+07   \n",
       "2                      11.555556      264032.957516   2.827241e+07   \n",
       "3                       0.378947          13.010526   1.697632e+01   \n",
       "4                       0.527473       50549.142857   2.239288e+07   \n",
       "\n",
       "   var_new_index  std_meter_state  std_reading_remark   \n",
       "0   2.097335e+07              0.0            1.248192  \\\n",
       "1   3.745102e+07              0.0            1.377097   \n",
       "2   3.072740e+07              0.0            1.258955   \n",
       "3   3.529211e+01              0.0            0.670820   \n",
       "4   2.069039e+07              0.0            0.363137   \n",
       "\n",
       "   std_months_since_last_reading  std_consum_band_1  std_old_index   \n",
       "0                       2.101620         310.343472    4527.744415  \\\n",
       "1                       1.375461         197.935960    6124.126094   \n",
       "2                       3.399346         513.841374    5317.180865   \n",
       "3                       0.615587           3.607011       4.120232   \n",
       "4                       0.726273         224.831365    4732.111217   \n",
       "\n",
       "   std_new_index  \n",
       "0    4579.666655  \n",
       "1    6119.723768  \n",
       "2    5543.230331  \n",
       "3       5.940716  \n",
       "4    4548.668807  \n",
       "\n",
       "[5 rows x 21 columns]"
      ]
     },
     "execution_count": 182,
     "metadata": {},
     "output_type": "execute_result"
    }
   ],
   "source": [
    "invoice_client_elec_stats = pd.concat([invoice_client_elec_stats, \n",
    "                                       invoice_client_merge_df[invoice_client_merge_df['meter_type'] == 0].groupby(['client_id', \n",
    "                                                                                                   'client_catg',  \n",
    "                                                                                                   'fraud'], as_index = False)[feats_stats].std()], axis = 1)\n",
    "invoice_client_elec_stats = invoice_client_elec_stats.loc[:,~invoice_client_elec_stats.columns.duplicated()]\n",
    "invoice_client_elec_stats.rename(columns = {'meter_state' : 'std_meter_state', \n",
    "                                            'reading_remark' : 'std_reading_remark', \n",
    "                                            'months_since_last_reading' : 'std_months_since_last_reading', \n",
    "                                            'consum_band_1' : 'std_consum_band_1', \n",
    "                                            'old_index' : 'std_old_index', \n",
    "                                            'new_index' : 'std_new_index'}, inplace = True)\n",
    "invoice_client_elec_stats.head()"
   ]
  },
  {
   "cell_type": "code",
   "execution_count": 183,
   "metadata": {
    "tags": []
   },
   "outputs": [
    {
     "data": {
      "text/html": [
       "<div>\n",
       "<style scoped>\n",
       "    .dataframe tbody tr th:only-of-type {\n",
       "        vertical-align: middle;\n",
       "    }\n",
       "\n",
       "    .dataframe tbody tr th {\n",
       "        vertical-align: top;\n",
       "    }\n",
       "\n",
       "    .dataframe thead th {\n",
       "        text-align: right;\n",
       "    }\n",
       "</style>\n",
       "<table border=\"1\" class=\"dataframe\">\n",
       "  <thead>\n",
       "    <tr style=\"text-align: right;\">\n",
       "      <th></th>\n",
       "      <th>client_id</th>\n",
       "      <th>client_catg</th>\n",
       "      <th>fraud</th>\n",
       "      <th>mean_meter_state</th>\n",
       "      <th>mean_reading_remark</th>\n",
       "      <th>mean_months_since_last_reading</th>\n",
       "      <th>mean_consum_band_1</th>\n",
       "      <th>mean_old_index</th>\n",
       "      <th>mean_new_index</th>\n",
       "      <th>var_meter_state</th>\n",
       "      <th>...</th>\n",
       "      <th>std_months_since_last_reading</th>\n",
       "      <th>std_consum_band_1</th>\n",
       "      <th>std_old_index</th>\n",
       "      <th>std_new_index</th>\n",
       "      <th>median_meter_state</th>\n",
       "      <th>median_reading_remark</th>\n",
       "      <th>median_months_since_last_reading</th>\n",
       "      <th>median_consum_band_1</th>\n",
       "      <th>median_old_index</th>\n",
       "      <th>median_new_index</th>\n",
       "    </tr>\n",
       "  </thead>\n",
       "  <tbody>\n",
       "    <tr>\n",
       "      <th>0</th>\n",
       "      <td>train_Client_0</td>\n",
       "      <td>11</td>\n",
       "      <td>0</td>\n",
       "      <td>0.0</td>\n",
       "      <td>6.971429</td>\n",
       "      <td>4.628571</td>\n",
       "      <td>352.400000</td>\n",
       "      <td>9444.542857</td>\n",
       "      <td>9807.514286</td>\n",
       "      <td>0.0</td>\n",
       "      <td>...</td>\n",
       "      <td>2.101620</td>\n",
       "      <td>310.343472</td>\n",
       "      <td>4527.744415</td>\n",
       "      <td>4579.666655</td>\n",
       "      <td>0.0</td>\n",
       "      <td>6.0</td>\n",
       "      <td>4.0</td>\n",
       "      <td>267.0</td>\n",
       "      <td>7770.0</td>\n",
       "      <td>9156.0</td>\n",
       "    </tr>\n",
       "    <tr>\n",
       "      <th>1</th>\n",
       "      <td>train_Client_1</td>\n",
       "      <td>11</td>\n",
       "      <td>0</td>\n",
       "      <td>0.0</td>\n",
       "      <td>7.216216</td>\n",
       "      <td>4.324324</td>\n",
       "      <td>557.540541</td>\n",
       "      <td>14330.756757</td>\n",
       "      <td>14888.297297</td>\n",
       "      <td>0.0</td>\n",
       "      <td>...</td>\n",
       "      <td>1.375461</td>\n",
       "      <td>197.935960</td>\n",
       "      <td>6124.126094</td>\n",
       "      <td>6119.723768</td>\n",
       "      <td>0.0</td>\n",
       "      <td>6.0</td>\n",
       "      <td>4.0</td>\n",
       "      <td>520.0</td>\n",
       "      <td>14232.0</td>\n",
       "      <td>14680.0</td>\n",
       "    </tr>\n",
       "    <tr>\n",
       "      <th>2</th>\n",
       "      <td>train_Client_10</td>\n",
       "      <td>11</td>\n",
       "      <td>0</td>\n",
       "      <td>0.0</td>\n",
       "      <td>7.055556</td>\n",
       "      <td>6.444444</td>\n",
       "      <td>798.611111</td>\n",
       "      <td>32873.000000</td>\n",
       "      <td>33709.500000</td>\n",
       "      <td>0.0</td>\n",
       "      <td>...</td>\n",
       "      <td>3.399346</td>\n",
       "      <td>513.841374</td>\n",
       "      <td>5317.180865</td>\n",
       "      <td>5543.230331</td>\n",
       "      <td>0.0</td>\n",
       "      <td>6.0</td>\n",
       "      <td>4.0</td>\n",
       "      <td>655.5</td>\n",
       "      <td>31469.0</td>\n",
       "      <td>32158.5</td>\n",
       "    </tr>\n",
       "    <tr>\n",
       "      <th>3</th>\n",
       "      <td>train_Client_100</td>\n",
       "      <td>11</td>\n",
       "      <td>0</td>\n",
       "      <td>0.0</td>\n",
       "      <td>6.150000</td>\n",
       "      <td>4.200000</td>\n",
       "      <td>1.200000</td>\n",
       "      <td>94.150000</td>\n",
       "      <td>95.350000</td>\n",
       "      <td>0.0</td>\n",
       "      <td>...</td>\n",
       "      <td>0.615587</td>\n",
       "      <td>3.607011</td>\n",
       "      <td>4.120232</td>\n",
       "      <td>5.940716</td>\n",
       "      <td>0.0</td>\n",
       "      <td>6.0</td>\n",
       "      <td>4.0</td>\n",
       "      <td>0.0</td>\n",
       "      <td>91.0</td>\n",
       "      <td>94.5</td>\n",
       "    </tr>\n",
       "    <tr>\n",
       "      <th>4</th>\n",
       "      <td>train_Client_1000</td>\n",
       "      <td>11</td>\n",
       "      <td>0</td>\n",
       "      <td>0.0</td>\n",
       "      <td>8.857143</td>\n",
       "      <td>3.714286</td>\n",
       "      <td>663.714286</td>\n",
       "      <td>6900.428571</td>\n",
       "      <td>7823.071429</td>\n",
       "      <td>0.0</td>\n",
       "      <td>...</td>\n",
       "      <td>0.726273</td>\n",
       "      <td>224.831365</td>\n",
       "      <td>4732.111217</td>\n",
       "      <td>4548.668807</td>\n",
       "      <td>0.0</td>\n",
       "      <td>9.0</td>\n",
       "      <td>4.0</td>\n",
       "      <td>770.0</td>\n",
       "      <td>6989.5</td>\n",
       "      <td>7829.5</td>\n",
       "    </tr>\n",
       "  </tbody>\n",
       "</table>\n",
       "<p>5 rows × 27 columns</p>\n",
       "</div>"
      ],
      "text/plain": [
       "           client_id  client_catg  fraud  mean_meter_state   \n",
       "0     train_Client_0           11      0               0.0  \\\n",
       "1     train_Client_1           11      0               0.0   \n",
       "2    train_Client_10           11      0               0.0   \n",
       "3   train_Client_100           11      0               0.0   \n",
       "4  train_Client_1000           11      0               0.0   \n",
       "\n",
       "   mean_reading_remark  mean_months_since_last_reading  mean_consum_band_1   \n",
       "0             6.971429                        4.628571          352.400000  \\\n",
       "1             7.216216                        4.324324          557.540541   \n",
       "2             7.055556                        6.444444          798.611111   \n",
       "3             6.150000                        4.200000            1.200000   \n",
       "4             8.857143                        3.714286          663.714286   \n",
       "\n",
       "   mean_old_index  mean_new_index  var_meter_state  ...   \n",
       "0     9444.542857     9807.514286              0.0  ...  \\\n",
       "1    14330.756757    14888.297297              0.0  ...   \n",
       "2    32873.000000    33709.500000              0.0  ...   \n",
       "3       94.150000       95.350000              0.0  ...   \n",
       "4     6900.428571     7823.071429              0.0  ...   \n",
       "\n",
       "   std_months_since_last_reading  std_consum_band_1  std_old_index   \n",
       "0                       2.101620         310.343472    4527.744415  \\\n",
       "1                       1.375461         197.935960    6124.126094   \n",
       "2                       3.399346         513.841374    5317.180865   \n",
       "3                       0.615587           3.607011       4.120232   \n",
       "4                       0.726273         224.831365    4732.111217   \n",
       "\n",
       "   std_new_index  median_meter_state  median_reading_remark   \n",
       "0    4579.666655                 0.0                    6.0  \\\n",
       "1    6119.723768                 0.0                    6.0   \n",
       "2    5543.230331                 0.0                    6.0   \n",
       "3       5.940716                 0.0                    6.0   \n",
       "4    4548.668807                 0.0                    9.0   \n",
       "\n",
       "   median_months_since_last_reading  median_consum_band_1  median_old_index   \n",
       "0                               4.0                 267.0            7770.0  \\\n",
       "1                               4.0                 520.0           14232.0   \n",
       "2                               4.0                 655.5           31469.0   \n",
       "3                               4.0                   0.0              91.0   \n",
       "4                               4.0                 770.0            6989.5   \n",
       "\n",
       "   median_new_index  \n",
       "0            9156.0  \n",
       "1           14680.0  \n",
       "2           32158.5  \n",
       "3              94.5  \n",
       "4            7829.5  \n",
       "\n",
       "[5 rows x 27 columns]"
      ]
     },
     "execution_count": 183,
     "metadata": {},
     "output_type": "execute_result"
    }
   ],
   "source": [
    "invoice_client_elec_stats = pd.concat([invoice_client_elec_stats, \n",
    "                                       invoice_client_merge_df[invoice_client_merge_df['meter_type'] == 0].groupby(['client_id', \n",
    "                                                                                                   'client_catg',  \n",
    "                                                                                                   'fraud'], as_index = False)[feats_stats].median()], axis = 1)\n",
    "invoice_client_elec_stats = invoice_client_elec_stats.loc[:,~invoice_client_elec_stats.columns.duplicated()]\n",
    "invoice_client_elec_stats.rename(columns = {'meter_state' : 'median_meter_state', \n",
    "                                            'reading_remark' : 'median_reading_remark', \n",
    "                                            'months_since_last_reading' : 'median_months_since_last_reading', \n",
    "                                            'consum_band_1' : 'median_consum_band_1', \n",
    "                                            'old_index' : 'median_old_index', \n",
    "                                            'new_index' : 'median_new_index'}, inplace = True)\n",
    "invoice_client_elec_stats.head()"
   ]
  },
  {
   "cell_type": "code",
   "execution_count": 184,
   "metadata": {
    "tags": []
   },
   "outputs": [],
   "source": [
    "invoice_client_elec_stats.to_csv('data/invoice_client_elec_stats.csv', index = False)"
   ]
  },
  {
   "cell_type": "code",
   "execution_count": null,
   "metadata": {},
   "outputs": [],
   "source": [
    "cols_to_fill = ['var_meter_state', 'var_reading_remark', 'var_months_since_last_reading', \n",
    "                'var_consum_band_1', 'var_old_index', 'var_new_index',\n",
    "               'std_meter_state', 'std_reading_remark', 'std_months_since_last_reading', \n",
    "                'std_consum_band_1', 'std_old_index', 'std_new_index']\n",
    "for col in cols_to_fill:\n",
    "    X_train[col].fillna(X_train[col].mean())\n",
    "    X_test[col].fillna(X_test[col].mean())"
   ]
  },
  {
   "cell_type": "markdown",
   "metadata": {},
   "source": [
    "## Base-line model"
   ]
  },
  {
   "cell_type": "markdown",
   "metadata": {
    "tags": []
   },
   "source": [
    "**Raw data**"
   ]
  },
  {
   "cell_type": "code",
   "execution_count": 203,
   "metadata": {
    "tags": []
   },
   "outputs": [],
   "source": [
    "cols = invoice_client_merge_df.columns.tolist()\n",
    "target = cols.pop(-3)\n",
    "cols.remove('client_id')\n",
    "cols.remove('invoice_month')\n",
    "cols.remove('invoice_year')\n",
    "cols.remove('creation_month')\n",
    "cols.remove('creation_year')\n",
    "feats = cols"
   ]
  },
  {
   "cell_type": "code",
   "execution_count": 204,
   "metadata": {
    "tags": []
   },
   "outputs": [],
   "source": [
    "X = invoice_client_merge_df[feats]\n",
    "y = invoice_client_merge_df[target]"
   ]
  },
  {
   "cell_type": "code",
   "execution_count": 205,
   "metadata": {
    "tags": []
   },
   "outputs": [],
   "source": [
    "X_train, X_test, y_train, y_test = train_test_split(X, y, test_size = 0.20, random_state = RSEED, stratify=y)"
   ]
  },
  {
   "cell_type": "code",
   "execution_count": 226,
   "metadata": {
    "tags": []
   },
   "outputs": [
    {
     "name": "stdout",
     "output_type": "stream",
     "text": [
      "              precision    recall  f1-score   support\n",
      "\n",
      "           0       0.98      0.98      0.98    824719\n",
      "           1       0.79      0.78      0.78     70622\n",
      "\n",
      "    accuracy                           0.97    895341\n",
      "   macro avg       0.88      0.88      0.88    895341\n",
      "weighted avg       0.97      0.97      0.97    895341\n",
      "\n"
     ]
    },
    {
     "data": {
      "image/png": "[encoded data removed]",
      "text/plain": [
       "<Figure size 640x480 with 2 Axes>"
      ]
     },
     "metadata": {},
     "output_type": "display_data"
    }
   ],
   "source": [
    "fraud_detect_dec_tree = DecisionTreeClassifier(max_depth=50)\n",
    "fraud_detect_dec_tree.fit(X_train,y_train)\n",
    "y_pred = fraud_detect_dec_tree.predict(X_test)\n",
    "print(classification_report(y_test,y_pred))\n",
    "conf_matrix = ConfusionMatrixDisplay(confusion_matrix(y_test,y_pred))\n",
    "conf_matrix.plot()\n",
    "plt.show()"
   ]
  },
  {
   "cell_type": "code",
   "execution_count": 223,
   "metadata": {
    "tags": []
   },
   "outputs": [
    {
     "data": {
      "text/plain": [
       "array([0.00718998, 0.67032729, 0.02287456, 0.00111649, 0.00320749,\n",
       "       0.01136552, 0.        , 0.01180175, 0.0540544 , 0.01511439,\n",
       "       0.00386018, 0.00417255, 0.06632112, 0.07045819, 0.00707421,\n",
       "       0.00911005, 0.04195183])"
      ]
     },
     "execution_count": 223,
     "metadata": {},
     "output_type": "execute_result"
    }
   ],
   "source": [
    "fraud_detect_dec_tree.feature_importances_"
   ]
  },
  {
   "cell_type": "code",
   "execution_count": 224,
   "metadata": {
    "tags": []
   },
   "outputs": [
    {
     "data": {
      "text/plain": [
       "['tarif_type',\n",
       " 'meter_id',\n",
       " 'meter_code',\n",
       " 'meter_type',\n",
       " 'meter_state',\n",
       " 'reading_remark',\n",
       " 'meter_coeff',\n",
       " 'months_since_last_reading',\n",
       " 'consum_band_1',\n",
       " 'consum_band_2',\n",
       " 'consum_band_3',\n",
       " 'consum_band_4',\n",
       " 'old_index',\n",
       " 'new_index',\n",
       " 'district',\n",
       " 'client_catg',\n",
       " 'region']"
      ]
     },
     "execution_count": 224,
     "metadata": {},
     "output_type": "execute_result"
    }
   ],
   "source": [
    "feats"
   ]
  },
  {
   "cell_type": "markdown",
   "metadata": {},
   "source": [
    "**Mean value**"
   ]
  },
  {
   "cell_type": "code",
   "execution_count": null,
   "metadata": {
    "tags": []
   },
   "outputs": [],
   "source": [
    "col_agg = ['client_id', 'fraud', 'meter_type', ]"
   ]
  },
  {
   "cell_type": "code",
   "execution_count": null,
   "metadata": {
    "tags": []
   },
   "outputs": [],
   "source": [
    "X = mean_fraud_df[mean_fraud_df['counter_type'] == 'ELEC'][features].drop(labels=['counter_type', 'mean_consump_band_1', \n",
    "                                                                                  'mean_months_number'], axis = 1)\n",
    "y = mean_fraud_df[mean_fraud_df['counter_type'] == 'ELEC'][target]"
   ]
  },
  {
   "cell_type": "code",
   "execution_count": null,
   "metadata": {
    "tags": []
   },
   "outputs": [],
   "source": [
    "#X['counter_type'] = X['counter_type'].map({'ELEC' : 0, 'GAZ' : 1})"
   ]
  },
  {
   "cell_type": "code",
   "execution_count": null,
   "metadata": {
    "tags": []
   },
   "outputs": [],
   "source": [
    "X_train, X_test, y_train, y_test = train_test_split(X, y, test_size = 0.20, random_state = RSEED, stratify=y)"
   ]
  },
  {
   "cell_type": "code",
   "execution_count": null,
   "metadata": {
    "tags": []
   },
   "outputs": [],
   "source": [
    "fraud_detect_dec_tree = DecisionTreeClassifier(max_depth=9)\n",
    "fraud_detect_dec_tree.fit(X_train,y_train)\n",
    "y_pred = fraud_detect_dec_tree.predict(X_test)\n",
    "print(classification_report(y_test,y_pred))\n",
    "conf_matrix = ConfusionMatrixDisplay(confusion_matrix(y_test,y_pred))\n",
    "conf_matrix.plot()\n",
    "plt.show()"
   ]
  },
  {
   "cell_type": "markdown",
   "metadata": {},
   "source": [
    "**Variance"
   ]
  },
  {
   "cell_type": "code",
   "execution_count": null,
   "metadata": {
    "tags": []
   },
   "outputs": [],
   "source": [
    "var_fraud_df.isnull().sum()"
   ]
  },
  {
   "cell_type": "code",
   "execution_count": null,
   "metadata": {
    "tags": []
   },
   "outputs": [],
   "source": [
    "var_fraud_df.dropna(inplace = True)"
   ]
  },
  {
   "cell_type": "code",
   "execution_count": null,
   "metadata": {},
   "outputs": [],
   "source": [
    "cols = var_fraud_df.columns.tolist()\n",
    "target = cols.pop(0)\n",
    "features = cols"
   ]
  },
  {
   "cell_type": "code",
   "execution_count": null,
   "metadata": {},
   "outputs": [],
   "source": [
    "X = var_fraud_df[features]\n",
    "y = var_fraud_df[target]"
   ]
  },
  {
   "cell_type": "code",
   "execution_count": null,
   "metadata": {
    "tags": []
   },
   "outputs": [],
   "source": [
    "X['counter_type'] = X['counter_type'].map({'ELEC' : 0, 'GAZ' : 1})"
   ]
  },
  {
   "cell_type": "code",
   "execution_count": null,
   "metadata": {},
   "outputs": [],
   "source": [
    "X_train, X_test, y_train, y_test = train_test_split(X, y, test_size = 0.20, random_state = RSEED, stratify=y)"
   ]
  },
  {
   "cell_type": "code",
   "execution_count": null,
   "metadata": {
    "tags": []
   },
   "outputs": [],
   "source": [
    "fraud_detect_dec_tree = DecisionTreeClassifier()\n",
    "fraud_detect_dec_tree.fit(X_train,y_train)\n",
    "y_pred = fraud_detect_dec_tree.predict(X_test)\n",
    "print(classification_report(y_test,y_pred))\n",
    "conf_matrix = ConfusionMatrixDisplay(confusion_matrix(y_test,y_pred))\n",
    "conf_matrix.plot()\n",
    "plt.show()"
   ]
  },
  {
   "cell_type": "code",
   "execution_count": null,
   "metadata": {
    "tags": []
   },
   "outputs": [],
   "source": [
    "fraud_detect_dec_tree = DecisionTreeClassifier()\n",
    "fraud_detect_dec_tree.fit(X_train[['counter_coefficient']],y_train)\n",
    "y_pred = fraud_detect_dec_tree.predict(X_test[['counter_coefficient']])\n",
    "print('Classification report\\n', classification_report(y_test,y_pred))\n",
    "conf_matrix = ConfusionMatrixDisplay(confusion_matrix(y_test,y_pred))\n",
    "conf_matrix.plot()\n",
    "plt.show()"
   ]
  },
  {
   "cell_type": "markdown",
   "metadata": {
    "id": "d1qXp8jYY30X"
   },
   "source": [
    "## Train LGBM *Classifier*"
   ]
  },
  {
   "cell_type": "code",
   "execution_count": null,
   "metadata": {
    "id": "QTr8Wbu1ZKTM"
   },
   "outputs": [],
   "source": [
    "x_train = train.drop(columns=['target'])\n",
    "y_train = train['target']"
   ]
  },
  {
   "cell_type": "code",
   "execution_count": null,
   "metadata": {
    "colab": {
     "base_uri": "https://localhost:8080/"
    },
    "id": "iXjUC4PZYMgF",
    "outputId": "3f132cea-1ef5-45ce-bdf0-45c76a62c84c"
   },
   "outputs": [],
   "source": [
    "model = LGBMClassifier(boosting_type='gbdt', num_iterationss=500)\n",
    "model.fit(x_train, y_train)"
   ]
  },
  {
   "cell_type": "code",
   "execution_count": null,
   "metadata": {
    "colab": {
     "base_uri": "https://localhost:8080/"
    },
    "id": "ddn7FuuCZHqr",
    "outputId": "e6d5735b-9abf-4e99-e83d-b04b7e63ac44"
   },
   "outputs": [],
   "source": [
    "x_train.disrict.unique()"
   ]
  },
  {
   "cell_type": "markdown",
   "metadata": {
    "id": "CKsrOiePadZ7"
   },
   "source": [
    "## Make Predictions on test set"
   ]
  },
  {
   "cell_type": "code",
   "execution_count": null,
   "metadata": {
    "colab": {
     "base_uri": "https://localhost:8080/"
    },
    "id": "nBww16tEajXs",
    "outputId": "a963cd4a-4aaf-4d1b-8524-0d7e67be1c48"
   },
   "outputs": [],
   "source": [
    "test.columns"
   ]
  },
  {
   "cell_type": "code",
   "execution_count": null,
   "metadata": {
    "colab": {
     "base_uri": "https://localhost:8080/",
     "height": 206
    },
    "id": "SGIjyZfmaf7C",
    "outputId": "b4bdd7a5-a496-405c-9651-ba482afd1046"
   },
   "outputs": [],
   "source": [
    "preds = model.predict(test)\n",
    "preds = pd.DataFrame(preds, columns=['target'])\n",
    "preds.head()"
   ]
  },
  {
   "cell_type": "code",
   "execution_count": null,
   "metadata": {
    "colab": {
     "base_uri": "https://localhost:8080/",
     "height": 206
    },
    "id": "mX3rv6dwaw3-",
    "outputId": "6db1fc21-c545-4b99-a6f1-9357b2ef405d"
   },
   "outputs": [],
   "source": [
    "submission = pd.DataFrame(\n",
    "    {\n",
    "        'client_id': sub_client_id,\n",
    "        'target': preds['target']\n",
    "    }\n",
    ")\n",
    "\n",
    "submission.head()"
   ]
  },
  {
   "cell_type": "code",
   "execution_count": null,
   "metadata": {
    "id": "O7_ANcWUboUB"
   },
   "outputs": [],
   "source": [
    "submission.to_csv(f'{OUTPUT_DIR}/submission.csv', index=False)"
   ]
  },
  {
   "cell_type": "markdown",
   "metadata": {
    "id": "Msm0u0WXdQ2l"
   },
   "source": [
    "## Tips \n",
    "- Thorough EDA and incorporating domain knowledge\n",
    "- Re-grouping categorical features\n",
    "- More feature engineering(try utilizing some date-time features)\n",
    "- Target balancing - oversampling, undersampling, SMOTE, scale_pos_weight\n",
    "- Model ensembling\n",
    "- Train-test split or cross-validation\n"
   ]
  },
  {
   "cell_type": "markdown",
   "metadata": {
    "id": "fgvYxyLXeEuU"
   },
   "source": [
    "# ******************* GOOD LUCK!!! ***************************"
   ]
  }
 ],
 "metadata": {
  "colab": {
   "provenance": []
  },
  "kernelspec": {
   "display_name": "Python 3 (ipykernel)",
   "language": "python",
   "name": "python3"
  },
  "language_info": {
   "codemirror_mode": {
    "name": "ipython",
    "version": 3
   },
   "file_extension": ".py",
   "mimetype": "text/x-python",
   "name": "python",
   "nbconvert_exporter": "python",
   "pygments_lexer": "ipython3",
   "version": "3.11.3"
  }
 },
 "nbformat": 4,
 "nbformat_minor": 4
}

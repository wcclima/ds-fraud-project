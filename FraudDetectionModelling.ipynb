{
 "cells": [
  {
   "cell_type": "markdown",
   "metadata": {
    "id": "RqLQ-hbyb5jH"
   },
   "source": [
    "# Fraud Detection in Electricity and Gas Consumption Challenge\n",
    "\n",
    "This is a simple starter notebook based on the tutorial prepared by Joy Wawira. Check out the article [here](https://zindi.africa/learn/fraud-detection-in-electricity-and-gas-consumption-challenge-tutorial) for a more detailed description of the steps taken.\n",
    "\n",
    "This notebook covers:\n",
    "- Downloading the data straight from Zindi and onto colab\n",
    "- Loading the data and carrying out simple EDA to understand the data and prepare for modelling \n",
    "- Preprocessing the data and feature engineering \n",
    "- Creating a simple LGBM model and predicting on the test set\n",
    "- Prepare submission file and save as csv\n",
    "- Some tips on how to improve model performance and your score"
   ]
  },
  {
   "cell_type": "markdown",
   "metadata": {},
   "source": [
    "Client dataset columns:\n",
    "\n",
    "- Client_id: Unique id for client\n",
    "- District: District where the client is\n",
    "- Client_catg: Category client belongs to\n",
    "- Region: Area where the client is\n",
    "- Creation_date: Date client joined\n",
    "- Target: fraud:1 , not fraud: 0\n"
   ]
  },
  {
   "cell_type": "markdown",
   "metadata": {},
   "source": [
    "Invoice data\n",
    "\n",
    "- Client_id: Unique id for the client\n",
    "- Invoice_date: Date of the invoice\n",
    "- Tarif_type: Type of tax\n",
    "- Counter_number: the meter's ID\n",
    "- Counter_statue: takes up to 5 values such as working fine, not working, on hold statue, ect\n",
    "- Counter_code:\n",
    "- Reading_remarque: notes that the STEG agent takes during his visit to the client (e.g: If the counter shows something wrong, the agent gives a bad score)\n",
    "- Counter_coefficient: An additional coefficient to be added when standard consumption is exceeded\n",
    "- Consommation_level_1: consuption band 1\n",
    "- Consommation_level_2: consuption band 2\n",
    "- Consommation_level_3: consuption band 3\n",
    "- Consommation_level_4: consuption band 4\n",
    "- Old_index: Old index\n",
    "- New_index: New index\n",
    "- Months_number: time since last reading, in months\n",
    "- Counter_type: Type of counter, whether is electricity (ELEC) meter or gas (GAZ) meter, later we shall encode it as `{ELEC : 0, GAZ : 1}`"
   ]
  },
  {
   "cell_type": "markdown",
   "metadata": {
    "id": "GKfpS4UVJ4Wj",
    "tags": []
   },
   "source": [
    "# Libraries set up"
   ]
  },
  {
   "cell_type": "code",
   "execution_count": 1,
   "metadata": {
    "id": "OJMD_I3EJWP4",
    "tags": []
   },
   "outputs": [],
   "source": [
    "#libraries for data handling and EDA\n",
    "import numpy as np\n",
    "import pandas as pd\n",
    "import matplotlib.pyplot as plt\n",
    "import seaborn as sns\n",
    "\n",
    "\n",
    "#libraries for modelling\n",
    "from sklearn.preprocessing import StandardScaler\n",
    "from sklearn.impute import (\n",
    "    SimpleImputer, \n",
    "    KNNImputer)\n",
    "from sklearn.preprocessing import (\n",
    "    OneHotEncoder,\n",
    "    StandardScaler,\n",
    "    MinMaxScaler,\n",
    "    PolynomialFeatures,\n",
    "    KBinsDiscretizer\n",
    ")\n",
    "from sklearn.model_selection import train_test_split, cross_val_score\n",
    "from sklearn.compose import ColumnTransformer\n",
    "from sklearn.pipeline import Pipeline\n",
    "from sklearn.model_selection import GridSearchCV, RandomizedSearchCV\n",
    "from sklearn.tree import DecisionTreeClassifier \n",
    "from sklearn.ensemble import RandomForestClassifier\n",
    "from sklearn.neighbors import KNeighborsClassifier\n",
    "from sklearn.linear_model import LogisticRegression\n",
    "from sklearn.linear_model import SGDClassifier\n",
    "from sklearn.metrics import classification_report\n",
    "from sklearn.metrics import accuracy_score, confusion_matrix, ConfusionMatrixDisplay\n",
    "\n",
    "\n",
    "#hide warnings\n",
    "import warnings\n",
    "warnings.simplefilter('ignore')\n",
    "\n",
    "RSEED = 42"
   ]
  },
  {
   "cell_type": "markdown",
   "metadata": {
    "id": "iJ3KlVOCYfnZ"
   },
   "source": [
    "# Modelling"
   ]
  },
  {
   "cell_type": "code",
   "execution_count": 5,
   "metadata": {
    "tags": []
   },
   "outputs": [],
   "source": [
    "#load the prepared data\n",
    "client = pd.read_csv('data/client_formatted.csv')\n",
    "invoice = pd.read_csv('data/invoice_formatted.csv')\n",
    "fraud_df = pd.read_csv('data/fraud_occurences.csv')\n",
    "normal_df = pd.read_csv('data/normal_occurences.csv')\n",
    "invoice_client_merge_df = pd.read_csv('data/invoice_client_merge.csv')"
   ]
  },
  {
   "cell_type": "markdown",
   "metadata": {
    "jp-MarkdownHeadingCollapsed": true,
    "tags": []
   },
   "source": [
    "## Feature engineering"
   ]
  },
  {
   "cell_type": "code",
   "execution_count": 142,
   "metadata": {
    "tags": []
   },
   "outputs": [
    {
     "data": {
      "text/html": [
       "<div>\n",
       "<style scoped>\n",
       "    .dataframe tbody tr th:only-of-type {\n",
       "        vertical-align: middle;\n",
       "    }\n",
       "\n",
       "    .dataframe tbody tr th {\n",
       "        vertical-align: top;\n",
       "    }\n",
       "\n",
       "    .dataframe thead th {\n",
       "        text-align: right;\n",
       "    }\n",
       "</style>\n",
       "<table border=\"1\" class=\"dataframe\">\n",
       "  <thead>\n",
       "    <tr style=\"text-align: right;\">\n",
       "      <th></th>\n",
       "      <th>client_id</th>\n",
       "      <th>client_catg</th>\n",
       "      <th>fraud</th>\n",
       "      <th>mean_meter_state</th>\n",
       "      <th>mean_reading_remark</th>\n",
       "      <th>mean_months_since_last_reading</th>\n",
       "      <th>mean_consum_band_1</th>\n",
       "      <th>mean_old_index</th>\n",
       "      <th>mean_new_index</th>\n",
       "    </tr>\n",
       "  </thead>\n",
       "  <tbody>\n",
       "    <tr>\n",
       "      <th>0</th>\n",
       "      <td>train_Client_0</td>\n",
       "      <td>11</td>\n",
       "      <td>0</td>\n",
       "      <td>0.0</td>\n",
       "      <td>6.971429</td>\n",
       "      <td>4.628571</td>\n",
       "      <td>352.400000</td>\n",
       "      <td>9444.542857</td>\n",
       "      <td>9807.514286</td>\n",
       "    </tr>\n",
       "    <tr>\n",
       "      <th>1</th>\n",
       "      <td>train_Client_1</td>\n",
       "      <td>11</td>\n",
       "      <td>0</td>\n",
       "      <td>0.0</td>\n",
       "      <td>7.216216</td>\n",
       "      <td>4.324324</td>\n",
       "      <td>557.540541</td>\n",
       "      <td>14330.756757</td>\n",
       "      <td>14888.297297</td>\n",
       "    </tr>\n",
       "    <tr>\n",
       "      <th>2</th>\n",
       "      <td>train_Client_10</td>\n",
       "      <td>11</td>\n",
       "      <td>0</td>\n",
       "      <td>0.0</td>\n",
       "      <td>7.055556</td>\n",
       "      <td>6.444444</td>\n",
       "      <td>798.611111</td>\n",
       "      <td>32873.000000</td>\n",
       "      <td>33709.500000</td>\n",
       "    </tr>\n",
       "    <tr>\n",
       "      <th>3</th>\n",
       "      <td>train_Client_100</td>\n",
       "      <td>11</td>\n",
       "      <td>0</td>\n",
       "      <td>0.0</td>\n",
       "      <td>6.150000</td>\n",
       "      <td>4.200000</td>\n",
       "      <td>1.200000</td>\n",
       "      <td>94.150000</td>\n",
       "      <td>95.350000</td>\n",
       "    </tr>\n",
       "    <tr>\n",
       "      <th>4</th>\n",
       "      <td>train_Client_1000</td>\n",
       "      <td>11</td>\n",
       "      <td>0</td>\n",
       "      <td>0.0</td>\n",
       "      <td>8.857143</td>\n",
       "      <td>3.714286</td>\n",
       "      <td>663.714286</td>\n",
       "      <td>6900.428571</td>\n",
       "      <td>7823.071429</td>\n",
       "    </tr>\n",
       "  </tbody>\n",
       "</table>\n",
       "</div>"
      ],
      "text/plain": [
       "           client_id  client_catg  fraud  mean_meter_state   \n",
       "0     train_Client_0           11      0               0.0  \\\n",
       "1     train_Client_1           11      0               0.0   \n",
       "2    train_Client_10           11      0               0.0   \n",
       "3   train_Client_100           11      0               0.0   \n",
       "4  train_Client_1000           11      0               0.0   \n",
       "\n",
       "   mean_reading_remark  mean_months_since_last_reading  mean_consum_band_1   \n",
       "0             6.971429                        4.628571          352.400000  \\\n",
       "1             7.216216                        4.324324          557.540541   \n",
       "2             7.055556                        6.444444          798.611111   \n",
       "3             6.150000                        4.200000            1.200000   \n",
       "4             8.857143                        3.714286          663.714286   \n",
       "\n",
       "   mean_old_index  mean_new_index  \n",
       "0     9444.542857     9807.514286  \n",
       "1    14330.756757    14888.297297  \n",
       "2    32873.000000    33709.500000  \n",
       "3       94.150000       95.350000  \n",
       "4     6900.428571     7823.071429  "
      ]
     },
     "execution_count": 142,
     "metadata": {},
     "output_type": "execute_result"
    }
   ],
   "source": [
    "feats_stats = ['meter_state', 'reading_remark', 'months_since_last_reading', 'consum_band_1', 'old_index', 'new_index']\n",
    "invoice_client_elec_stats = invoice_client_merge_df[invoice_client_merge_df['meter_type'] == 0].groupby(['client_id', \n",
    "                                                                                                   'client_catg',  \n",
    "                                                                                                   'fraud'], as_index = False)[feats_stats].mean()\n",
    "invoice_client_elec_stats.rename(columns = {'meter_state' : 'mean_meter_state', \n",
    "                                            'reading_remark' : 'mean_reading_remark', \n",
    "                                            'months_since_last_reading' : 'mean_months_since_last_reading', \n",
    "                                            'consum_band_1' : 'mean_consum_band_1', \n",
    "                                            'old_index' : 'mean_old_index', \n",
    "                                            'new_index' : 'mean_new_index'}, inplace = True)\n",
    "invoice_client_elec_stats.head()"
   ]
  },
  {
   "cell_type": "code",
   "execution_count": 143,
   "metadata": {
    "tags": []
   },
   "outputs": [
    {
     "data": {
      "text/html": [
       "<div>\n",
       "<style scoped>\n",
       "    .dataframe tbody tr th:only-of-type {\n",
       "        vertical-align: middle;\n",
       "    }\n",
       "\n",
       "    .dataframe tbody tr th {\n",
       "        vertical-align: top;\n",
       "    }\n",
       "\n",
       "    .dataframe thead th {\n",
       "        text-align: right;\n",
       "    }\n",
       "</style>\n",
       "<table border=\"1\" class=\"dataframe\">\n",
       "  <thead>\n",
       "    <tr style=\"text-align: right;\">\n",
       "      <th></th>\n",
       "      <th>client_id</th>\n",
       "      <th>client_catg</th>\n",
       "      <th>fraud</th>\n",
       "      <th>mean_meter_state</th>\n",
       "      <th>mean_reading_remark</th>\n",
       "      <th>mean_months_since_last_reading</th>\n",
       "      <th>mean_consum_band_1</th>\n",
       "      <th>mean_old_index</th>\n",
       "      <th>mean_new_index</th>\n",
       "      <th>var_meter_state</th>\n",
       "      <th>var_reading_remark</th>\n",
       "      <th>var_months_since_last_reading</th>\n",
       "      <th>var_consum_band_1</th>\n",
       "      <th>var_old_index</th>\n",
       "      <th>var_new_index</th>\n",
       "    </tr>\n",
       "  </thead>\n",
       "  <tbody>\n",
       "    <tr>\n",
       "      <th>0</th>\n",
       "      <td>train_Client_0</td>\n",
       "      <td>11</td>\n",
       "      <td>0</td>\n",
       "      <td>0.0</td>\n",
       "      <td>6.971429</td>\n",
       "      <td>4.628571</td>\n",
       "      <td>352.400000</td>\n",
       "      <td>9444.542857</td>\n",
       "      <td>9807.514286</td>\n",
       "      <td>0.0</td>\n",
       "      <td>1.557983</td>\n",
       "      <td>4.416807</td>\n",
       "      <td>96313.070588</td>\n",
       "      <td>2.050047e+07</td>\n",
       "      <td>2.097335e+07</td>\n",
       "    </tr>\n",
       "    <tr>\n",
       "      <th>1</th>\n",
       "      <td>train_Client_1</td>\n",
       "      <td>11</td>\n",
       "      <td>0</td>\n",
       "      <td>0.0</td>\n",
       "      <td>7.216216</td>\n",
       "      <td>4.324324</td>\n",
       "      <td>557.540541</td>\n",
       "      <td>14330.756757</td>\n",
       "      <td>14888.297297</td>\n",
       "      <td>0.0</td>\n",
       "      <td>1.896396</td>\n",
       "      <td>1.891892</td>\n",
       "      <td>39178.644144</td>\n",
       "      <td>3.750492e+07</td>\n",
       "      <td>3.745102e+07</td>\n",
       "    </tr>\n",
       "    <tr>\n",
       "      <th>2</th>\n",
       "      <td>train_Client_10</td>\n",
       "      <td>11</td>\n",
       "      <td>0</td>\n",
       "      <td>0.0</td>\n",
       "      <td>7.055556</td>\n",
       "      <td>6.444444</td>\n",
       "      <td>798.611111</td>\n",
       "      <td>32873.000000</td>\n",
       "      <td>33709.500000</td>\n",
       "      <td>0.0</td>\n",
       "      <td>1.584967</td>\n",
       "      <td>11.555556</td>\n",
       "      <td>264032.957516</td>\n",
       "      <td>2.827241e+07</td>\n",
       "      <td>3.072740e+07</td>\n",
       "    </tr>\n",
       "    <tr>\n",
       "      <th>3</th>\n",
       "      <td>train_Client_100</td>\n",
       "      <td>11</td>\n",
       "      <td>0</td>\n",
       "      <td>0.0</td>\n",
       "      <td>6.150000</td>\n",
       "      <td>4.200000</td>\n",
       "      <td>1.200000</td>\n",
       "      <td>94.150000</td>\n",
       "      <td>95.350000</td>\n",
       "      <td>0.0</td>\n",
       "      <td>0.450000</td>\n",
       "      <td>0.378947</td>\n",
       "      <td>13.010526</td>\n",
       "      <td>1.697632e+01</td>\n",
       "      <td>3.529211e+01</td>\n",
       "    </tr>\n",
       "    <tr>\n",
       "      <th>4</th>\n",
       "      <td>train_Client_1000</td>\n",
       "      <td>11</td>\n",
       "      <td>0</td>\n",
       "      <td>0.0</td>\n",
       "      <td>8.857143</td>\n",
       "      <td>3.714286</td>\n",
       "      <td>663.714286</td>\n",
       "      <td>6900.428571</td>\n",
       "      <td>7823.071429</td>\n",
       "      <td>0.0</td>\n",
       "      <td>0.131868</td>\n",
       "      <td>0.527473</td>\n",
       "      <td>50549.142857</td>\n",
       "      <td>2.239288e+07</td>\n",
       "      <td>2.069039e+07</td>\n",
       "    </tr>\n",
       "  </tbody>\n",
       "</table>\n",
       "</div>"
      ],
      "text/plain": [
       "           client_id  client_catg  fraud  mean_meter_state   \n",
       "0     train_Client_0           11      0               0.0  \\\n",
       "1     train_Client_1           11      0               0.0   \n",
       "2    train_Client_10           11      0               0.0   \n",
       "3   train_Client_100           11      0               0.0   \n",
       "4  train_Client_1000           11      0               0.0   \n",
       "\n",
       "   mean_reading_remark  mean_months_since_last_reading  mean_consum_band_1   \n",
       "0             6.971429                        4.628571          352.400000  \\\n",
       "1             7.216216                        4.324324          557.540541   \n",
       "2             7.055556                        6.444444          798.611111   \n",
       "3             6.150000                        4.200000            1.200000   \n",
       "4             8.857143                        3.714286          663.714286   \n",
       "\n",
       "   mean_old_index  mean_new_index  var_meter_state  var_reading_remark   \n",
       "0     9444.542857     9807.514286              0.0            1.557983  \\\n",
       "1    14330.756757    14888.297297              0.0            1.896396   \n",
       "2    32873.000000    33709.500000              0.0            1.584967   \n",
       "3       94.150000       95.350000              0.0            0.450000   \n",
       "4     6900.428571     7823.071429              0.0            0.131868   \n",
       "\n",
       "   var_months_since_last_reading  var_consum_band_1  var_old_index   \n",
       "0                       4.416807       96313.070588   2.050047e+07  \\\n",
       "1                       1.891892       39178.644144   3.750492e+07   \n",
       "2                      11.555556      264032.957516   2.827241e+07   \n",
       "3                       0.378947          13.010526   1.697632e+01   \n",
       "4                       0.527473       50549.142857   2.239288e+07   \n",
       "\n",
       "   var_new_index  \n",
       "0   2.097335e+07  \n",
       "1   3.745102e+07  \n",
       "2   3.072740e+07  \n",
       "3   3.529211e+01  \n",
       "4   2.069039e+07  "
      ]
     },
     "execution_count": 143,
     "metadata": {},
     "output_type": "execute_result"
    }
   ],
   "source": [
    "invoice_client_elec_stats = pd.concat([invoice_client_elec_stats, \n",
    "                                       invoice_client_merge_df[invoice_client_merge_df['meter_type'] == 0].groupby(['client_id', \n",
    "                                                                                                   'client_catg',  \n",
    "                                                                                                   'fraud'], as_index = False)[feats_stats].var()], axis = 1)\n",
    "invoice_client_elec_stats = invoice_client_elec_stats.loc[:,~invoice_client_elec_stats.columns.duplicated()]\n",
    "invoice_client_elec_stats.rename(columns = {'meter_state' : 'var_meter_state', \n",
    "                                            'reading_remark' : 'var_reading_remark', \n",
    "                                            'months_since_last_reading' : 'var_months_since_last_reading', \n",
    "                                            'consum_band_1' : 'var_consum_band_1', \n",
    "                                            'old_index' : 'var_old_index', \n",
    "                                            'new_index' : 'var_new_index'}, inplace = True)\n",
    "invoice_client_elec_stats.head()"
   ]
  },
  {
   "cell_type": "code",
   "execution_count": 144,
   "metadata": {
    "tags": []
   },
   "outputs": [
    {
     "data": {
      "text/html": [
       "<div>\n",
       "<style scoped>\n",
       "    .dataframe tbody tr th:only-of-type {\n",
       "        vertical-align: middle;\n",
       "    }\n",
       "\n",
       "    .dataframe tbody tr th {\n",
       "        vertical-align: top;\n",
       "    }\n",
       "\n",
       "    .dataframe thead th {\n",
       "        text-align: right;\n",
       "    }\n",
       "</style>\n",
       "<table border=\"1\" class=\"dataframe\">\n",
       "  <thead>\n",
       "    <tr style=\"text-align: right;\">\n",
       "      <th></th>\n",
       "      <th>client_id</th>\n",
       "      <th>client_catg</th>\n",
       "      <th>fraud</th>\n",
       "      <th>mean_meter_state</th>\n",
       "      <th>mean_reading_remark</th>\n",
       "      <th>mean_months_since_last_reading</th>\n",
       "      <th>mean_consum_band_1</th>\n",
       "      <th>mean_old_index</th>\n",
       "      <th>mean_new_index</th>\n",
       "      <th>var_meter_state</th>\n",
       "      <th>...</th>\n",
       "      <th>var_months_since_last_reading</th>\n",
       "      <th>var_consum_band_1</th>\n",
       "      <th>var_old_index</th>\n",
       "      <th>var_new_index</th>\n",
       "      <th>std_meter_state</th>\n",
       "      <th>std_reading_remark</th>\n",
       "      <th>std_months_since_last_reading</th>\n",
       "      <th>std_consum_band_1</th>\n",
       "      <th>std_old_index</th>\n",
       "      <th>std_new_index</th>\n",
       "    </tr>\n",
       "  </thead>\n",
       "  <tbody>\n",
       "    <tr>\n",
       "      <th>0</th>\n",
       "      <td>train_Client_0</td>\n",
       "      <td>11</td>\n",
       "      <td>0</td>\n",
       "      <td>0.0</td>\n",
       "      <td>6.971429</td>\n",
       "      <td>4.628571</td>\n",
       "      <td>352.400000</td>\n",
       "      <td>9444.542857</td>\n",
       "      <td>9807.514286</td>\n",
       "      <td>0.0</td>\n",
       "      <td>...</td>\n",
       "      <td>4.416807</td>\n",
       "      <td>96313.070588</td>\n",
       "      <td>2.050047e+07</td>\n",
       "      <td>2.097335e+07</td>\n",
       "      <td>0.0</td>\n",
       "      <td>1.248192</td>\n",
       "      <td>2.101620</td>\n",
       "      <td>310.343472</td>\n",
       "      <td>4527.744415</td>\n",
       "      <td>4579.666655</td>\n",
       "    </tr>\n",
       "    <tr>\n",
       "      <th>1</th>\n",
       "      <td>train_Client_1</td>\n",
       "      <td>11</td>\n",
       "      <td>0</td>\n",
       "      <td>0.0</td>\n",
       "      <td>7.216216</td>\n",
       "      <td>4.324324</td>\n",
       "      <td>557.540541</td>\n",
       "      <td>14330.756757</td>\n",
       "      <td>14888.297297</td>\n",
       "      <td>0.0</td>\n",
       "      <td>...</td>\n",
       "      <td>1.891892</td>\n",
       "      <td>39178.644144</td>\n",
       "      <td>3.750492e+07</td>\n",
       "      <td>3.745102e+07</td>\n",
       "      <td>0.0</td>\n",
       "      <td>1.377097</td>\n",
       "      <td>1.375461</td>\n",
       "      <td>197.935960</td>\n",
       "      <td>6124.126094</td>\n",
       "      <td>6119.723768</td>\n",
       "    </tr>\n",
       "    <tr>\n",
       "      <th>2</th>\n",
       "      <td>train_Client_10</td>\n",
       "      <td>11</td>\n",
       "      <td>0</td>\n",
       "      <td>0.0</td>\n",
       "      <td>7.055556</td>\n",
       "      <td>6.444444</td>\n",
       "      <td>798.611111</td>\n",
       "      <td>32873.000000</td>\n",
       "      <td>33709.500000</td>\n",
       "      <td>0.0</td>\n",
       "      <td>...</td>\n",
       "      <td>11.555556</td>\n",
       "      <td>264032.957516</td>\n",
       "      <td>2.827241e+07</td>\n",
       "      <td>3.072740e+07</td>\n",
       "      <td>0.0</td>\n",
       "      <td>1.258955</td>\n",
       "      <td>3.399346</td>\n",
       "      <td>513.841374</td>\n",
       "      <td>5317.180865</td>\n",
       "      <td>5543.230331</td>\n",
       "    </tr>\n",
       "    <tr>\n",
       "      <th>3</th>\n",
       "      <td>train_Client_100</td>\n",
       "      <td>11</td>\n",
       "      <td>0</td>\n",
       "      <td>0.0</td>\n",
       "      <td>6.150000</td>\n",
       "      <td>4.200000</td>\n",
       "      <td>1.200000</td>\n",
       "      <td>94.150000</td>\n",
       "      <td>95.350000</td>\n",
       "      <td>0.0</td>\n",
       "      <td>...</td>\n",
       "      <td>0.378947</td>\n",
       "      <td>13.010526</td>\n",
       "      <td>1.697632e+01</td>\n",
       "      <td>3.529211e+01</td>\n",
       "      <td>0.0</td>\n",
       "      <td>0.670820</td>\n",
       "      <td>0.615587</td>\n",
       "      <td>3.607011</td>\n",
       "      <td>4.120232</td>\n",
       "      <td>5.940716</td>\n",
       "    </tr>\n",
       "    <tr>\n",
       "      <th>4</th>\n",
       "      <td>train_Client_1000</td>\n",
       "      <td>11</td>\n",
       "      <td>0</td>\n",
       "      <td>0.0</td>\n",
       "      <td>8.857143</td>\n",
       "      <td>3.714286</td>\n",
       "      <td>663.714286</td>\n",
       "      <td>6900.428571</td>\n",
       "      <td>7823.071429</td>\n",
       "      <td>0.0</td>\n",
       "      <td>...</td>\n",
       "      <td>0.527473</td>\n",
       "      <td>50549.142857</td>\n",
       "      <td>2.239288e+07</td>\n",
       "      <td>2.069039e+07</td>\n",
       "      <td>0.0</td>\n",
       "      <td>0.363137</td>\n",
       "      <td>0.726273</td>\n",
       "      <td>224.831365</td>\n",
       "      <td>4732.111217</td>\n",
       "      <td>4548.668807</td>\n",
       "    </tr>\n",
       "  </tbody>\n",
       "</table>\n",
       "<p>5 rows × 21 columns</p>\n",
       "</div>"
      ],
      "text/plain": [
       "           client_id  client_catg  fraud  mean_meter_state   \n",
       "0     train_Client_0           11      0               0.0  \\\n",
       "1     train_Client_1           11      0               0.0   \n",
       "2    train_Client_10           11      0               0.0   \n",
       "3   train_Client_100           11      0               0.0   \n",
       "4  train_Client_1000           11      0               0.0   \n",
       "\n",
       "   mean_reading_remark  mean_months_since_last_reading  mean_consum_band_1   \n",
       "0             6.971429                        4.628571          352.400000  \\\n",
       "1             7.216216                        4.324324          557.540541   \n",
       "2             7.055556                        6.444444          798.611111   \n",
       "3             6.150000                        4.200000            1.200000   \n",
       "4             8.857143                        3.714286          663.714286   \n",
       "\n",
       "   mean_old_index  mean_new_index  var_meter_state  ...   \n",
       "0     9444.542857     9807.514286              0.0  ...  \\\n",
       "1    14330.756757    14888.297297              0.0  ...   \n",
       "2    32873.000000    33709.500000              0.0  ...   \n",
       "3       94.150000       95.350000              0.0  ...   \n",
       "4     6900.428571     7823.071429              0.0  ...   \n",
       "\n",
       "   var_months_since_last_reading  var_consum_band_1  var_old_index   \n",
       "0                       4.416807       96313.070588   2.050047e+07  \\\n",
       "1                       1.891892       39178.644144   3.750492e+07   \n",
       "2                      11.555556      264032.957516   2.827241e+07   \n",
       "3                       0.378947          13.010526   1.697632e+01   \n",
       "4                       0.527473       50549.142857   2.239288e+07   \n",
       "\n",
       "   var_new_index  std_meter_state  std_reading_remark   \n",
       "0   2.097335e+07              0.0            1.248192  \\\n",
       "1   3.745102e+07              0.0            1.377097   \n",
       "2   3.072740e+07              0.0            1.258955   \n",
       "3   3.529211e+01              0.0            0.670820   \n",
       "4   2.069039e+07              0.0            0.363137   \n",
       "\n",
       "   std_months_since_last_reading  std_consum_band_1  std_old_index   \n",
       "0                       2.101620         310.343472    4527.744415  \\\n",
       "1                       1.375461         197.935960    6124.126094   \n",
       "2                       3.399346         513.841374    5317.180865   \n",
       "3                       0.615587           3.607011       4.120232   \n",
       "4                       0.726273         224.831365    4732.111217   \n",
       "\n",
       "   std_new_index  \n",
       "0    4579.666655  \n",
       "1    6119.723768  \n",
       "2    5543.230331  \n",
       "3       5.940716  \n",
       "4    4548.668807  \n",
       "\n",
       "[5 rows x 21 columns]"
      ]
     },
     "execution_count": 144,
     "metadata": {},
     "output_type": "execute_result"
    }
   ],
   "source": [
    "invoice_client_elec_stats = pd.concat([invoice_client_elec_stats, \n",
    "                                       invoice_client_merge_df[invoice_client_merge_df['meter_type'] == 0].groupby(['client_id', \n",
    "                                                                                                   'client_catg',  \n",
    "                                                                                                   'fraud'], as_index = False)[feats_stats].std()], axis = 1)\n",
    "invoice_client_elec_stats = invoice_client_elec_stats.loc[:,~invoice_client_elec_stats.columns.duplicated()]\n",
    "invoice_client_elec_stats.rename(columns = {'meter_state' : 'std_meter_state', \n",
    "                                            'reading_remark' : 'std_reading_remark', \n",
    "                                            'months_since_last_reading' : 'std_months_since_last_reading', \n",
    "                                            'consum_band_1' : 'std_consum_band_1', \n",
    "                                            'old_index' : 'std_old_index', \n",
    "                                            'new_index' : 'std_new_index'}, inplace = True)\n",
    "invoice_client_elec_stats.head()"
   ]
  },
  {
   "cell_type": "code",
   "execution_count": 145,
   "metadata": {
    "tags": []
   },
   "outputs": [
    {
     "data": {
      "text/html": [
       "<div>\n",
       "<style scoped>\n",
       "    .dataframe tbody tr th:only-of-type {\n",
       "        vertical-align: middle;\n",
       "    }\n",
       "\n",
       "    .dataframe tbody tr th {\n",
       "        vertical-align: top;\n",
       "    }\n",
       "\n",
       "    .dataframe thead th {\n",
       "        text-align: right;\n",
       "    }\n",
       "</style>\n",
       "<table border=\"1\" class=\"dataframe\">\n",
       "  <thead>\n",
       "    <tr style=\"text-align: right;\">\n",
       "      <th></th>\n",
       "      <th>client_id</th>\n",
       "      <th>client_catg</th>\n",
       "      <th>fraud</th>\n",
       "      <th>mean_meter_state</th>\n",
       "      <th>mean_reading_remark</th>\n",
       "      <th>mean_months_since_last_reading</th>\n",
       "      <th>mean_consum_band_1</th>\n",
       "      <th>mean_old_index</th>\n",
       "      <th>mean_new_index</th>\n",
       "      <th>var_meter_state</th>\n",
       "      <th>...</th>\n",
       "      <th>std_months_since_last_reading</th>\n",
       "      <th>std_consum_band_1</th>\n",
       "      <th>std_old_index</th>\n",
       "      <th>std_new_index</th>\n",
       "      <th>median_meter_state</th>\n",
       "      <th>median_reading_remark</th>\n",
       "      <th>median_months_since_last_reading</th>\n",
       "      <th>median_consum_band_1</th>\n",
       "      <th>median_old_index</th>\n",
       "      <th>median_new_index</th>\n",
       "    </tr>\n",
       "  </thead>\n",
       "  <tbody>\n",
       "    <tr>\n",
       "      <th>0</th>\n",
       "      <td>train_Client_0</td>\n",
       "      <td>11</td>\n",
       "      <td>0</td>\n",
       "      <td>0.0</td>\n",
       "      <td>6.971429</td>\n",
       "      <td>4.628571</td>\n",
       "      <td>352.400000</td>\n",
       "      <td>9444.542857</td>\n",
       "      <td>9807.514286</td>\n",
       "      <td>0.0</td>\n",
       "      <td>...</td>\n",
       "      <td>2.101620</td>\n",
       "      <td>310.343472</td>\n",
       "      <td>4527.744415</td>\n",
       "      <td>4579.666655</td>\n",
       "      <td>0.0</td>\n",
       "      <td>6.0</td>\n",
       "      <td>4.0</td>\n",
       "      <td>267.0</td>\n",
       "      <td>7770.0</td>\n",
       "      <td>9156.0</td>\n",
       "    </tr>\n",
       "    <tr>\n",
       "      <th>1</th>\n",
       "      <td>train_Client_1</td>\n",
       "      <td>11</td>\n",
       "      <td>0</td>\n",
       "      <td>0.0</td>\n",
       "      <td>7.216216</td>\n",
       "      <td>4.324324</td>\n",
       "      <td>557.540541</td>\n",
       "      <td>14330.756757</td>\n",
       "      <td>14888.297297</td>\n",
       "      <td>0.0</td>\n",
       "      <td>...</td>\n",
       "      <td>1.375461</td>\n",
       "      <td>197.935960</td>\n",
       "      <td>6124.126094</td>\n",
       "      <td>6119.723768</td>\n",
       "      <td>0.0</td>\n",
       "      <td>6.0</td>\n",
       "      <td>4.0</td>\n",
       "      <td>520.0</td>\n",
       "      <td>14232.0</td>\n",
       "      <td>14680.0</td>\n",
       "    </tr>\n",
       "    <tr>\n",
       "      <th>2</th>\n",
       "      <td>train_Client_10</td>\n",
       "      <td>11</td>\n",
       "      <td>0</td>\n",
       "      <td>0.0</td>\n",
       "      <td>7.055556</td>\n",
       "      <td>6.444444</td>\n",
       "      <td>798.611111</td>\n",
       "      <td>32873.000000</td>\n",
       "      <td>33709.500000</td>\n",
       "      <td>0.0</td>\n",
       "      <td>...</td>\n",
       "      <td>3.399346</td>\n",
       "      <td>513.841374</td>\n",
       "      <td>5317.180865</td>\n",
       "      <td>5543.230331</td>\n",
       "      <td>0.0</td>\n",
       "      <td>6.0</td>\n",
       "      <td>4.0</td>\n",
       "      <td>655.5</td>\n",
       "      <td>31469.0</td>\n",
       "      <td>32158.5</td>\n",
       "    </tr>\n",
       "    <tr>\n",
       "      <th>3</th>\n",
       "      <td>train_Client_100</td>\n",
       "      <td>11</td>\n",
       "      <td>0</td>\n",
       "      <td>0.0</td>\n",
       "      <td>6.150000</td>\n",
       "      <td>4.200000</td>\n",
       "      <td>1.200000</td>\n",
       "      <td>94.150000</td>\n",
       "      <td>95.350000</td>\n",
       "      <td>0.0</td>\n",
       "      <td>...</td>\n",
       "      <td>0.615587</td>\n",
       "      <td>3.607011</td>\n",
       "      <td>4.120232</td>\n",
       "      <td>5.940716</td>\n",
       "      <td>0.0</td>\n",
       "      <td>6.0</td>\n",
       "      <td>4.0</td>\n",
       "      <td>0.0</td>\n",
       "      <td>91.0</td>\n",
       "      <td>94.5</td>\n",
       "    </tr>\n",
       "    <tr>\n",
       "      <th>4</th>\n",
       "      <td>train_Client_1000</td>\n",
       "      <td>11</td>\n",
       "      <td>0</td>\n",
       "      <td>0.0</td>\n",
       "      <td>8.857143</td>\n",
       "      <td>3.714286</td>\n",
       "      <td>663.714286</td>\n",
       "      <td>6900.428571</td>\n",
       "      <td>7823.071429</td>\n",
       "      <td>0.0</td>\n",
       "      <td>...</td>\n",
       "      <td>0.726273</td>\n",
       "      <td>224.831365</td>\n",
       "      <td>4732.111217</td>\n",
       "      <td>4548.668807</td>\n",
       "      <td>0.0</td>\n",
       "      <td>9.0</td>\n",
       "      <td>4.0</td>\n",
       "      <td>770.0</td>\n",
       "      <td>6989.5</td>\n",
       "      <td>7829.5</td>\n",
       "    </tr>\n",
       "  </tbody>\n",
       "</table>\n",
       "<p>5 rows × 27 columns</p>\n",
       "</div>"
      ],
      "text/plain": [
       "           client_id  client_catg  fraud  mean_meter_state   \n",
       "0     train_Client_0           11      0               0.0  \\\n",
       "1     train_Client_1           11      0               0.0   \n",
       "2    train_Client_10           11      0               0.0   \n",
       "3   train_Client_100           11      0               0.0   \n",
       "4  train_Client_1000           11      0               0.0   \n",
       "\n",
       "   mean_reading_remark  mean_months_since_last_reading  mean_consum_band_1   \n",
       "0             6.971429                        4.628571          352.400000  \\\n",
       "1             7.216216                        4.324324          557.540541   \n",
       "2             7.055556                        6.444444          798.611111   \n",
       "3             6.150000                        4.200000            1.200000   \n",
       "4             8.857143                        3.714286          663.714286   \n",
       "\n",
       "   mean_old_index  mean_new_index  var_meter_state  ...   \n",
       "0     9444.542857     9807.514286              0.0  ...  \\\n",
       "1    14330.756757    14888.297297              0.0  ...   \n",
       "2    32873.000000    33709.500000              0.0  ...   \n",
       "3       94.150000       95.350000              0.0  ...   \n",
       "4     6900.428571     7823.071429              0.0  ...   \n",
       "\n",
       "   std_months_since_last_reading  std_consum_band_1  std_old_index   \n",
       "0                       2.101620         310.343472    4527.744415  \\\n",
       "1                       1.375461         197.935960    6124.126094   \n",
       "2                       3.399346         513.841374    5317.180865   \n",
       "3                       0.615587           3.607011       4.120232   \n",
       "4                       0.726273         224.831365    4732.111217   \n",
       "\n",
       "   std_new_index  median_meter_state  median_reading_remark   \n",
       "0    4579.666655                 0.0                    6.0  \\\n",
       "1    6119.723768                 0.0                    6.0   \n",
       "2    5543.230331                 0.0                    6.0   \n",
       "3       5.940716                 0.0                    6.0   \n",
       "4    4548.668807                 0.0                    9.0   \n",
       "\n",
       "   median_months_since_last_reading  median_consum_band_1  median_old_index   \n",
       "0                               4.0                 267.0            7770.0  \\\n",
       "1                               4.0                 520.0           14232.0   \n",
       "2                               4.0                 655.5           31469.0   \n",
       "3                               4.0                   0.0              91.0   \n",
       "4                               4.0                 770.0            6989.5   \n",
       "\n",
       "   median_new_index  \n",
       "0            9156.0  \n",
       "1           14680.0  \n",
       "2           32158.5  \n",
       "3              94.5  \n",
       "4            7829.5  \n",
       "\n",
       "[5 rows x 27 columns]"
      ]
     },
     "execution_count": 145,
     "metadata": {},
     "output_type": "execute_result"
    }
   ],
   "source": [
    "invoice_client_elec_stats = pd.concat([invoice_client_elec_stats, \n",
    "                                       invoice_client_merge_df[invoice_client_merge_df['meter_type'] == 0].groupby(['client_id', \n",
    "                                                                                                   'client_catg',  \n",
    "                                                                                                   'fraud'], as_index = False)[feats_stats].median()], axis = 1)\n",
    "invoice_client_elec_stats = invoice_client_elec_stats.loc[:,~invoice_client_elec_stats.columns.duplicated()]\n",
    "invoice_client_elec_stats.rename(columns = {'meter_state' : 'median_meter_state', \n",
    "                                            'reading_remark' : 'median_reading_remark', \n",
    "                                            'months_since_last_reading' : 'median_months_since_last_reading', \n",
    "                                            'consum_band_1' : 'median_consum_band_1', \n",
    "                                            'old_index' : 'median_old_index', \n",
    "                                            'new_index' : 'median_new_index'}, inplace = True)\n",
    "invoice_client_elec_stats.head()"
   ]
  },
  {
   "cell_type": "code",
   "execution_count": 146,
   "metadata": {
    "tags": []
   },
   "outputs": [
    {
     "data": {
      "text/html": [
       "<div>\n",
       "<style scoped>\n",
       "    .dataframe tbody tr th:only-of-type {\n",
       "        vertical-align: middle;\n",
       "    }\n",
       "\n",
       "    .dataframe tbody tr th {\n",
       "        vertical-align: top;\n",
       "    }\n",
       "\n",
       "    .dataframe thead th {\n",
       "        text-align: right;\n",
       "    }\n",
       "</style>\n",
       "<table border=\"1\" class=\"dataframe\">\n",
       "  <thead>\n",
       "    <tr style=\"text-align: right;\">\n",
       "      <th></th>\n",
       "      <th>client_id</th>\n",
       "      <th>client_catg</th>\n",
       "      <th>fraud</th>\n",
       "      <th>mean_meter_state</th>\n",
       "      <th>mean_reading_remark</th>\n",
       "      <th>mean_months_since_last_reading</th>\n",
       "      <th>mean_consum_band_1</th>\n",
       "      <th>mean_old_index</th>\n",
       "      <th>mean_new_index</th>\n",
       "      <th>var_meter_state</th>\n",
       "      <th>...</th>\n",
       "      <th>median_months_since_last_reading</th>\n",
       "      <th>median_consum_band_1</th>\n",
       "      <th>median_old_index</th>\n",
       "      <th>median_new_index</th>\n",
       "      <th>min_meter_state</th>\n",
       "      <th>min_reading_remark</th>\n",
       "      <th>min_months_since_last_reading</th>\n",
       "      <th>min_consum_band_1</th>\n",
       "      <th>min_old_index</th>\n",
       "      <th>min_new_index</th>\n",
       "    </tr>\n",
       "  </thead>\n",
       "  <tbody>\n",
       "    <tr>\n",
       "      <th>0</th>\n",
       "      <td>train_Client_0</td>\n",
       "      <td>11</td>\n",
       "      <td>0</td>\n",
       "      <td>0.0</td>\n",
       "      <td>6.971429</td>\n",
       "      <td>4.628571</td>\n",
       "      <td>352.400000</td>\n",
       "      <td>9444.542857</td>\n",
       "      <td>9807.514286</td>\n",
       "      <td>0.0</td>\n",
       "      <td>...</td>\n",
       "      <td>4.0</td>\n",
       "      <td>267.0</td>\n",
       "      <td>7770.0</td>\n",
       "      <td>9156.0</td>\n",
       "      <td>0</td>\n",
       "      <td>6</td>\n",
       "      <td>2</td>\n",
       "      <td>38</td>\n",
       "      <td>3685</td>\n",
       "      <td>3809</td>\n",
       "    </tr>\n",
       "    <tr>\n",
       "      <th>1</th>\n",
       "      <td>train_Client_1</td>\n",
       "      <td>11</td>\n",
       "      <td>0</td>\n",
       "      <td>0.0</td>\n",
       "      <td>7.216216</td>\n",
       "      <td>4.324324</td>\n",
       "      <td>557.540541</td>\n",
       "      <td>14330.756757</td>\n",
       "      <td>14888.297297</td>\n",
       "      <td>0.0</td>\n",
       "      <td>...</td>\n",
       "      <td>4.0</td>\n",
       "      <td>520.0</td>\n",
       "      <td>14232.0</td>\n",
       "      <td>14680.0</td>\n",
       "      <td>0</td>\n",
       "      <td>6</td>\n",
       "      <td>2</td>\n",
       "      <td>190</td>\n",
       "      <td>4110</td>\n",
       "      <td>4661</td>\n",
       "    </tr>\n",
       "    <tr>\n",
       "      <th>2</th>\n",
       "      <td>train_Client_10</td>\n",
       "      <td>11</td>\n",
       "      <td>0</td>\n",
       "      <td>0.0</td>\n",
       "      <td>7.055556</td>\n",
       "      <td>6.444444</td>\n",
       "      <td>798.611111</td>\n",
       "      <td>32873.000000</td>\n",
       "      <td>33709.500000</td>\n",
       "      <td>0.0</td>\n",
       "      <td>...</td>\n",
       "      <td>4.0</td>\n",
       "      <td>655.5</td>\n",
       "      <td>31469.0</td>\n",
       "      <td>32158.5</td>\n",
       "      <td>0</td>\n",
       "      <td>6</td>\n",
       "      <td>4</td>\n",
       "      <td>188</td>\n",
       "      <td>25515</td>\n",
       "      <td>25974</td>\n",
       "    </tr>\n",
       "    <tr>\n",
       "      <th>3</th>\n",
       "      <td>train_Client_100</td>\n",
       "      <td>11</td>\n",
       "      <td>0</td>\n",
       "      <td>0.0</td>\n",
       "      <td>6.150000</td>\n",
       "      <td>4.200000</td>\n",
       "      <td>1.200000</td>\n",
       "      <td>94.150000</td>\n",
       "      <td>95.350000</td>\n",
       "      <td>0.0</td>\n",
       "      <td>...</td>\n",
       "      <td>4.0</td>\n",
       "      <td>0.0</td>\n",
       "      <td>91.0</td>\n",
       "      <td>94.5</td>\n",
       "      <td>0</td>\n",
       "      <td>6</td>\n",
       "      <td>4</td>\n",
       "      <td>0</td>\n",
       "      <td>90</td>\n",
       "      <td>90</td>\n",
       "    </tr>\n",
       "    <tr>\n",
       "      <th>4</th>\n",
       "      <td>train_Client_1000</td>\n",
       "      <td>11</td>\n",
       "      <td>0</td>\n",
       "      <td>0.0</td>\n",
       "      <td>8.857143</td>\n",
       "      <td>3.714286</td>\n",
       "      <td>663.714286</td>\n",
       "      <td>6900.428571</td>\n",
       "      <td>7823.071429</td>\n",
       "      <td>0.0</td>\n",
       "      <td>...</td>\n",
       "      <td>4.0</td>\n",
       "      <td>770.0</td>\n",
       "      <td>6989.5</td>\n",
       "      <td>7829.5</td>\n",
       "      <td>0</td>\n",
       "      <td>8</td>\n",
       "      <td>2</td>\n",
       "      <td>124</td>\n",
       "      <td>0</td>\n",
       "      <td>959</td>\n",
       "    </tr>\n",
       "  </tbody>\n",
       "</table>\n",
       "<p>5 rows × 33 columns</p>\n",
       "</div>"
      ],
      "text/plain": [
       "           client_id  client_catg  fraud  mean_meter_state   \n",
       "0     train_Client_0           11      0               0.0  \\\n",
       "1     train_Client_1           11      0               0.0   \n",
       "2    train_Client_10           11      0               0.0   \n",
       "3   train_Client_100           11      0               0.0   \n",
       "4  train_Client_1000           11      0               0.0   \n",
       "\n",
       "   mean_reading_remark  mean_months_since_last_reading  mean_consum_band_1   \n",
       "0             6.971429                        4.628571          352.400000  \\\n",
       "1             7.216216                        4.324324          557.540541   \n",
       "2             7.055556                        6.444444          798.611111   \n",
       "3             6.150000                        4.200000            1.200000   \n",
       "4             8.857143                        3.714286          663.714286   \n",
       "\n",
       "   mean_old_index  mean_new_index  var_meter_state  ...   \n",
       "0     9444.542857     9807.514286              0.0  ...  \\\n",
       "1    14330.756757    14888.297297              0.0  ...   \n",
       "2    32873.000000    33709.500000              0.0  ...   \n",
       "3       94.150000       95.350000              0.0  ...   \n",
       "4     6900.428571     7823.071429              0.0  ...   \n",
       "\n",
       "   median_months_since_last_reading  median_consum_band_1  median_old_index   \n",
       "0                               4.0                 267.0            7770.0  \\\n",
       "1                               4.0                 520.0           14232.0   \n",
       "2                               4.0                 655.5           31469.0   \n",
       "3                               4.0                   0.0              91.0   \n",
       "4                               4.0                 770.0            6989.5   \n",
       "\n",
       "   median_new_index  min_meter_state  min_reading_remark   \n",
       "0            9156.0                0                   6  \\\n",
       "1           14680.0                0                   6   \n",
       "2           32158.5                0                   6   \n",
       "3              94.5                0                   6   \n",
       "4            7829.5                0                   8   \n",
       "\n",
       "   min_months_since_last_reading  min_consum_band_1  min_old_index   \n",
       "0                              2                 38           3685  \\\n",
       "1                              2                190           4110   \n",
       "2                              4                188          25515   \n",
       "3                              4                  0             90   \n",
       "4                              2                124              0   \n",
       "\n",
       "   min_new_index  \n",
       "0           3809  \n",
       "1           4661  \n",
       "2          25974  \n",
       "3             90  \n",
       "4            959  \n",
       "\n",
       "[5 rows x 33 columns]"
      ]
     },
     "execution_count": 146,
     "metadata": {},
     "output_type": "execute_result"
    }
   ],
   "source": [
    "invoice_client_elec_stats = pd.concat([invoice_client_elec_stats, \n",
    "                                       invoice_client_merge_df[invoice_client_merge_df['meter_type'] == 0].groupby(['client_id', \n",
    "                                                                                                   'client_catg',  \n",
    "                                                                                                   'fraud'], as_index = False)[feats_stats].min()], axis = 1)\n",
    "invoice_client_elec_stats = invoice_client_elec_stats.loc[:,~invoice_client_elec_stats.columns.duplicated()]\n",
    "invoice_client_elec_stats.rename(columns = {'meter_state' : 'min_meter_state', \n",
    "                                            'reading_remark' : 'min_reading_remark', \n",
    "                                            'months_since_last_reading' : 'min_months_since_last_reading', \n",
    "                                            'consum_band_1' : 'min_consum_band_1', \n",
    "                                            'old_index' : 'min_old_index', \n",
    "                                            'new_index' : 'min_new_index'}, inplace = True)\n",
    "invoice_client_elec_stats.head()"
   ]
  },
  {
   "cell_type": "code",
   "execution_count": 147,
   "metadata": {
    "tags": []
   },
   "outputs": [
    {
     "data": {
      "text/html": [
       "<div>\n",
       "<style scoped>\n",
       "    .dataframe tbody tr th:only-of-type {\n",
       "        vertical-align: middle;\n",
       "    }\n",
       "\n",
       "    .dataframe tbody tr th {\n",
       "        vertical-align: top;\n",
       "    }\n",
       "\n",
       "    .dataframe thead th {\n",
       "        text-align: right;\n",
       "    }\n",
       "</style>\n",
       "<table border=\"1\" class=\"dataframe\">\n",
       "  <thead>\n",
       "    <tr style=\"text-align: right;\">\n",
       "      <th></th>\n",
       "      <th>client_id</th>\n",
       "      <th>client_catg</th>\n",
       "      <th>fraud</th>\n",
       "      <th>mean_meter_state</th>\n",
       "      <th>mean_reading_remark</th>\n",
       "      <th>mean_months_since_last_reading</th>\n",
       "      <th>mean_consum_band_1</th>\n",
       "      <th>mean_old_index</th>\n",
       "      <th>mean_new_index</th>\n",
       "      <th>var_meter_state</th>\n",
       "      <th>...</th>\n",
       "      <th>min_months_since_last_reading</th>\n",
       "      <th>min_consum_band_1</th>\n",
       "      <th>min_old_index</th>\n",
       "      <th>min_new_index</th>\n",
       "      <th>max_meter_state</th>\n",
       "      <th>max_reading_remark</th>\n",
       "      <th>max_months_since_last_reading</th>\n",
       "      <th>max_consum_band_1</th>\n",
       "      <th>max_old_index</th>\n",
       "      <th>max_new_index</th>\n",
       "    </tr>\n",
       "  </thead>\n",
       "  <tbody>\n",
       "    <tr>\n",
       "      <th>0</th>\n",
       "      <td>train_Client_0</td>\n",
       "      <td>11</td>\n",
       "      <td>0</td>\n",
       "      <td>0.0</td>\n",
       "      <td>6.971429</td>\n",
       "      <td>4.628571</td>\n",
       "      <td>352.400000</td>\n",
       "      <td>9444.542857</td>\n",
       "      <td>9807.514286</td>\n",
       "      <td>0.0</td>\n",
       "      <td>...</td>\n",
       "      <td>2</td>\n",
       "      <td>38</td>\n",
       "      <td>3685</td>\n",
       "      <td>3809</td>\n",
       "      <td>0</td>\n",
       "      <td>9</td>\n",
       "      <td>12</td>\n",
       "      <td>1200</td>\n",
       "      <td>16493</td>\n",
       "      <td>17078</td>\n",
       "    </tr>\n",
       "    <tr>\n",
       "      <th>1</th>\n",
       "      <td>train_Client_1</td>\n",
       "      <td>11</td>\n",
       "      <td>0</td>\n",
       "      <td>0.0</td>\n",
       "      <td>7.216216</td>\n",
       "      <td>4.324324</td>\n",
       "      <td>557.540541</td>\n",
       "      <td>14330.756757</td>\n",
       "      <td>14888.297297</td>\n",
       "      <td>0.0</td>\n",
       "      <td>...</td>\n",
       "      <td>2</td>\n",
       "      <td>190</td>\n",
       "      <td>4110</td>\n",
       "      <td>4661</td>\n",
       "      <td>0</td>\n",
       "      <td>9</td>\n",
       "      <td>8</td>\n",
       "      <td>1207</td>\n",
       "      <td>23940</td>\n",
       "      <td>25022</td>\n",
       "    </tr>\n",
       "    <tr>\n",
       "      <th>2</th>\n",
       "      <td>train_Client_10</td>\n",
       "      <td>11</td>\n",
       "      <td>0</td>\n",
       "      <td>0.0</td>\n",
       "      <td>7.055556</td>\n",
       "      <td>6.444444</td>\n",
       "      <td>798.611111</td>\n",
       "      <td>32873.000000</td>\n",
       "      <td>33709.500000</td>\n",
       "      <td>0.0</td>\n",
       "      <td>...</td>\n",
       "      <td>4</td>\n",
       "      <td>188</td>\n",
       "      <td>25515</td>\n",
       "      <td>25974</td>\n",
       "      <td>0</td>\n",
       "      <td>9</td>\n",
       "      <td>12</td>\n",
       "      <td>2400</td>\n",
       "      <td>41532</td>\n",
       "      <td>44614</td>\n",
       "    </tr>\n",
       "    <tr>\n",
       "      <th>3</th>\n",
       "      <td>train_Client_100</td>\n",
       "      <td>11</td>\n",
       "      <td>0</td>\n",
       "      <td>0.0</td>\n",
       "      <td>6.150000</td>\n",
       "      <td>4.200000</td>\n",
       "      <td>1.200000</td>\n",
       "      <td>94.150000</td>\n",
       "      <td>95.350000</td>\n",
       "      <td>0.0</td>\n",
       "      <td>...</td>\n",
       "      <td>4</td>\n",
       "      <td>0</td>\n",
       "      <td>90</td>\n",
       "      <td>90</td>\n",
       "      <td>0</td>\n",
       "      <td>9</td>\n",
       "      <td>6</td>\n",
       "      <td>15</td>\n",
       "      <td>99</td>\n",
       "      <td>114</td>\n",
       "    </tr>\n",
       "    <tr>\n",
       "      <th>4</th>\n",
       "      <td>train_Client_1000</td>\n",
       "      <td>11</td>\n",
       "      <td>0</td>\n",
       "      <td>0.0</td>\n",
       "      <td>8.857143</td>\n",
       "      <td>3.714286</td>\n",
       "      <td>663.714286</td>\n",
       "      <td>6900.428571</td>\n",
       "      <td>7823.071429</td>\n",
       "      <td>0.0</td>\n",
       "      <td>...</td>\n",
       "      <td>2</td>\n",
       "      <td>124</td>\n",
       "      <td>0</td>\n",
       "      <td>959</td>\n",
       "      <td>0</td>\n",
       "      <td>9</td>\n",
       "      <td>4</td>\n",
       "      <td>800</td>\n",
       "      <td>13337</td>\n",
       "      <td>13729</td>\n",
       "    </tr>\n",
       "  </tbody>\n",
       "</table>\n",
       "<p>5 rows × 39 columns</p>\n",
       "</div>"
      ],
      "text/plain": [
       "           client_id  client_catg  fraud  mean_meter_state   \n",
       "0     train_Client_0           11      0               0.0  \\\n",
       "1     train_Client_1           11      0               0.0   \n",
       "2    train_Client_10           11      0               0.0   \n",
       "3   train_Client_100           11      0               0.0   \n",
       "4  train_Client_1000           11      0               0.0   \n",
       "\n",
       "   mean_reading_remark  mean_months_since_last_reading  mean_consum_band_1   \n",
       "0             6.971429                        4.628571          352.400000  \\\n",
       "1             7.216216                        4.324324          557.540541   \n",
       "2             7.055556                        6.444444          798.611111   \n",
       "3             6.150000                        4.200000            1.200000   \n",
       "4             8.857143                        3.714286          663.714286   \n",
       "\n",
       "   mean_old_index  mean_new_index  var_meter_state  ...   \n",
       "0     9444.542857     9807.514286              0.0  ...  \\\n",
       "1    14330.756757    14888.297297              0.0  ...   \n",
       "2    32873.000000    33709.500000              0.0  ...   \n",
       "3       94.150000       95.350000              0.0  ...   \n",
       "4     6900.428571     7823.071429              0.0  ...   \n",
       "\n",
       "   min_months_since_last_reading  min_consum_band_1  min_old_index   \n",
       "0                              2                 38           3685  \\\n",
       "1                              2                190           4110   \n",
       "2                              4                188          25515   \n",
       "3                              4                  0             90   \n",
       "4                              2                124              0   \n",
       "\n",
       "   min_new_index  max_meter_state  max_reading_remark   \n",
       "0           3809                0                   9  \\\n",
       "1           4661                0                   9   \n",
       "2          25974                0                   9   \n",
       "3             90                0                   9   \n",
       "4            959                0                   9   \n",
       "\n",
       "   max_months_since_last_reading  max_consum_band_1  max_old_index   \n",
       "0                             12               1200          16493  \\\n",
       "1                              8               1207          23940   \n",
       "2                             12               2400          41532   \n",
       "3                              6                 15             99   \n",
       "4                              4                800          13337   \n",
       "\n",
       "   max_new_index  \n",
       "0          17078  \n",
       "1          25022  \n",
       "2          44614  \n",
       "3            114  \n",
       "4          13729  \n",
       "\n",
       "[5 rows x 39 columns]"
      ]
     },
     "execution_count": 147,
     "metadata": {},
     "output_type": "execute_result"
    }
   ],
   "source": [
    "invoice_client_elec_stats = pd.concat([invoice_client_elec_stats, \n",
    "                                       invoice_client_merge_df[invoice_client_merge_df['meter_type'] == 0].groupby(['client_id', \n",
    "                                                                                                   'client_catg',  \n",
    "                                                                                                   'fraud'], as_index = False)[feats_stats].max()], axis = 1)\n",
    "invoice_client_elec_stats = invoice_client_elec_stats.loc[:,~invoice_client_elec_stats.columns.duplicated()]\n",
    "invoice_client_elec_stats.rename(columns = {'meter_state' : 'max_meter_state', \n",
    "                                            'reading_remark' : 'max_reading_remark', \n",
    "                                            'months_since_last_reading' : 'max_months_since_last_reading', \n",
    "                                            'consum_band_1' : 'max_consum_band_1', \n",
    "                                            'old_index' : 'max_old_index', \n",
    "                                            'new_index' : 'max_new_index'}, inplace = True)\n",
    "invoice_client_elec_stats.head()"
   ]
  },
  {
   "cell_type": "code",
   "execution_count": 148,
   "metadata": {
    "tags": []
   },
   "outputs": [],
   "source": [
    "invoice_client_elec_stats.to_csv('data/invoice_client_elec_stats.csv', index = False)"
   ]
  },
  {
   "cell_type": "markdown",
   "metadata": {
    "tags": []
   },
   "source": [
    "## Base-line model"
   ]
  },
  {
   "cell_type": "markdown",
   "metadata": {
    "tags": []
   },
   "source": [
    "**Raw data**"
   ]
  },
  {
   "cell_type": "code",
   "execution_count": 325,
   "metadata": {
    "tags": []
   },
   "outputs": [],
   "source": [
    "cols = invoice_client_merge_df.columns.tolist()\n",
    "target = cols.pop(-3)\n",
    "remove_cols = ['client_id', 'invoice_month', 'invoice_year', 'creation_month', 'creation_year']\n",
    "for elem in remove_cols:\n",
    "    cols.remove(elem)\n",
    "feats = cols"
   ]
  },
  {
   "cell_type": "code",
   "execution_count": 326,
   "metadata": {
    "tags": []
   },
   "outputs": [],
   "source": [
    "X = invoice_client_merge_df[feats]\n",
    "y = invoice_client_merge_df[target]"
   ]
  },
  {
   "cell_type": "code",
   "execution_count": 327,
   "metadata": {
    "tags": []
   },
   "outputs": [],
   "source": [
    "X_train, X_test, y_train, y_test = train_test_split(X, y, test_size = 0.20, random_state = RSEED, stratify=y)"
   ]
  },
  {
   "cell_type": "code",
   "execution_count": 330,
   "metadata": {
    "tags": []
   },
   "outputs": [
    {
     "name": "stdout",
     "output_type": "stream",
     "text": [
      "              precision    recall  f1-score   support\n",
      "\n",
      "           0       0.98      0.98      0.98    824719\n",
      "           1       0.79      0.78      0.78     70622\n",
      "\n",
      "    accuracy                           0.97    895341\n",
      "   macro avg       0.88      0.88      0.88    895341\n",
      "weighted avg       0.97      0.97      0.97    895341\n",
      "\n"
     ]
    },
    {
     "data": {
      "image/png": "[encoded data removed]",
      "text/plain": [
       "<Figure size 640x480 with 2 Axes>"
      ]
     },
     "metadata": {},
     "output_type": "display_data"
    }
   ],
   "source": [
    "fraud_detect_dec_tree = DecisionTreeClassifier(max_depth=50, random_state = RSEED)\n",
    "fraud_detect_dec_tree.fit(X_train,y_train)\n",
    "y_pred = fraud_detect_dec_tree.predict(X_test)\n",
    "print(classification_report(y_test,y_pred))\n",
    "conf_matrix = ConfusionMatrixDisplay(confusion_matrix(y_test,y_pred))\n",
    "conf_matrix.plot()\n",
    "plt.show()"
   ]
  },
  {
   "cell_type": "code",
   "execution_count": 329,
   "metadata": {
    "tags": []
   },
   "outputs": [
    {
     "data": {
      "text/html": [
       "<div>\n",
       "<style scoped>\n",
       "    .dataframe tbody tr th:only-of-type {\n",
       "        vertical-align: middle;\n",
       "    }\n",
       "\n",
       "    .dataframe tbody tr th {\n",
       "        vertical-align: top;\n",
       "    }\n",
       "\n",
       "    .dataframe thead th {\n",
       "        text-align: right;\n",
       "    }\n",
       "</style>\n",
       "<table border=\"1\" class=\"dataframe\">\n",
       "  <thead>\n",
       "    <tr style=\"text-align: right;\">\n",
       "      <th></th>\n",
       "      <th>features</th>\n",
       "      <th>importances</th>\n",
       "    </tr>\n",
       "  </thead>\n",
       "  <tbody>\n",
       "    <tr>\n",
       "      <th>0</th>\n",
       "      <td>meter_id</td>\n",
       "      <td>67.02</td>\n",
       "    </tr>\n",
       "    <tr>\n",
       "      <th>1</th>\n",
       "      <td>new_index</td>\n",
       "      <td>7.07</td>\n",
       "    </tr>\n",
       "    <tr>\n",
       "      <th>2</th>\n",
       "      <td>old_index</td>\n",
       "      <td>6.59</td>\n",
       "    </tr>\n",
       "    <tr>\n",
       "      <th>3</th>\n",
       "      <td>consum_band_1</td>\n",
       "      <td>5.47</td>\n",
       "    </tr>\n",
       "    <tr>\n",
       "      <th>4</th>\n",
       "      <td>region</td>\n",
       "      <td>4.18</td>\n",
       "    </tr>\n",
       "    <tr>\n",
       "      <th>5</th>\n",
       "      <td>meter_code</td>\n",
       "      <td>2.33</td>\n",
       "    </tr>\n",
       "    <tr>\n",
       "      <th>6</th>\n",
       "      <td>consum_band_2</td>\n",
       "      <td>1.52</td>\n",
       "    </tr>\n",
       "    <tr>\n",
       "      <th>7</th>\n",
       "      <td>months_since_last_reading</td>\n",
       "      <td>1.16</td>\n",
       "    </tr>\n",
       "    <tr>\n",
       "      <th>8</th>\n",
       "      <td>reading_remark</td>\n",
       "      <td>1.12</td>\n",
       "    </tr>\n",
       "    <tr>\n",
       "      <th>9</th>\n",
       "      <td>client_catg</td>\n",
       "      <td>0.92</td>\n",
       "    </tr>\n",
       "    <tr>\n",
       "      <th>10</th>\n",
       "      <td>tarif_type</td>\n",
       "      <td>0.70</td>\n",
       "    </tr>\n",
       "    <tr>\n",
       "      <th>11</th>\n",
       "      <td>district</td>\n",
       "      <td>0.69</td>\n",
       "    </tr>\n",
       "    <tr>\n",
       "      <th>12</th>\n",
       "      <td>consum_band_4</td>\n",
       "      <td>0.40</td>\n",
       "    </tr>\n",
       "    <tr>\n",
       "      <th>13</th>\n",
       "      <td>consum_band_3</td>\n",
       "      <td>0.39</td>\n",
       "    </tr>\n",
       "    <tr>\n",
       "      <th>14</th>\n",
       "      <td>meter_state</td>\n",
       "      <td>0.33</td>\n",
       "    </tr>\n",
       "    <tr>\n",
       "      <th>15</th>\n",
       "      <td>meter_type</td>\n",
       "      <td>0.10</td>\n",
       "    </tr>\n",
       "    <tr>\n",
       "      <th>16</th>\n",
       "      <td>meter_coeff</td>\n",
       "      <td>0.00</td>\n",
       "    </tr>\n",
       "  </tbody>\n",
       "</table>\n",
       "</div>"
      ],
      "text/plain": [
       "                     features  importances\n",
       "0                    meter_id        67.02\n",
       "1                   new_index         7.07\n",
       "2                   old_index         6.59\n",
       "3               consum_band_1         5.47\n",
       "4                      region         4.18\n",
       "5                  meter_code         2.33\n",
       "6               consum_band_2         1.52\n",
       "7   months_since_last_reading         1.16\n",
       "8              reading_remark         1.12\n",
       "9                 client_catg         0.92\n",
       "10                 tarif_type         0.70\n",
       "11                   district         0.69\n",
       "12              consum_band_4         0.40\n",
       "13              consum_band_3         0.39\n",
       "14                meter_state         0.33\n",
       "15                 meter_type         0.10\n",
       "16                meter_coeff         0.00"
      ]
     },
     "execution_count": 329,
     "metadata": {},
     "output_type": "execute_result"
    }
   ],
   "source": [
    "imp_feats_raw = pd.DataFrame(data = {'features': feats, \n",
    "                     'importances': (fraud_detect_dec_tree.feature_importances_*100).round(2)}).sort_values(by = 'importances', \n",
    "                                                                                                            ascending = False).reset_index(drop = True)\n",
    "imp_feats_raw"
   ]
  },
  {
   "cell_type": "markdown",
   "metadata": {},
   "source": [
    "**Raw data, less features**"
   ]
  },
  {
   "cell_type": "code",
   "execution_count": 295,
   "metadata": {
    "tags": []
   },
   "outputs": [],
   "source": [
    "feats = [elem for elem in imp_feats_raw[imp_feats_raw['importances'] > 1.]['features']]\n",
    "target = 'fraud'"
   ]
  },
  {
   "cell_type": "code",
   "execution_count": 296,
   "metadata": {
    "tags": []
   },
   "outputs": [],
   "source": [
    "X = invoice_client_merge_df[feats]\n",
    "y = invoice_client_merge_df[target]"
   ]
  },
  {
   "cell_type": "code",
   "execution_count": 297,
   "metadata": {
    "tags": []
   },
   "outputs": [],
   "source": [
    "X_train, X_test, y_train, y_test = train_test_split(X, y, test_size = 0.20, random_state = RSEED, stratify=y)"
   ]
  },
  {
   "cell_type": "code",
   "execution_count": 298,
   "metadata": {
    "tags": []
   },
   "outputs": [
    {
     "name": "stdout",
     "output_type": "stream",
     "text": [
      "              precision    recall  f1-score   support\n",
      "\n",
      "           0       0.98      0.98      0.98    824719\n",
      "           1       0.77      0.75      0.76     70622\n",
      "\n",
      "    accuracy                           0.96    895341\n",
      "   macro avg       0.87      0.87      0.87    895341\n",
      "weighted avg       0.96      0.96      0.96    895341\n",
      "\n"
     ]
    },
    {
     "data": {
      "image/png": "[encoded data removed]",
      "text/plain": [
       "<Figure size 640x480 with 2 Axes>"
      ]
     },
     "metadata": {},
     "output_type": "display_data"
    }
   ],
   "source": [
    "fraud_detect_dec_tree = DecisionTreeClassifier(max_depth=50)\n",
    "fraud_detect_dec_tree.fit(X_train,y_train)\n",
    "y_pred = fraud_detect_dec_tree.predict(X_test)\n",
    "print(classification_report(y_test,y_pred))\n",
    "conf_matrix = ConfusionMatrixDisplay(confusion_matrix(y_test,y_pred))\n",
    "conf_matrix.plot()\n",
    "plt.show()"
   ]
  },
  {
   "cell_type": "markdown",
   "metadata": {
    "tags": []
   },
   "source": [
    "**Statistics**"
   ]
  },
  {
   "cell_type": "code",
   "execution_count": 264,
   "metadata": {
    "tags": []
   },
   "outputs": [],
   "source": [
    "cols = invoice_client_elec_stats.columns.tolist()\n",
    "target = cols.pop(2)\n",
    "cols.remove('client_id')\n",
    "feats = cols"
   ]
  },
  {
   "cell_type": "code",
   "execution_count": 265,
   "metadata": {
    "tags": []
   },
   "outputs": [],
   "source": [
    "X = invoice_client_elec_stats[feats]\n",
    "y = invoice_client_elec_stats[target]"
   ]
  },
  {
   "cell_type": "code",
   "execution_count": 266,
   "metadata": {
    "tags": []
   },
   "outputs": [],
   "source": [
    "X_train, X_test, y_train, y_test = train_test_split(X, y, test_size = 0.20, random_state = RSEED, stratify=y)"
   ]
  },
  {
   "cell_type": "code",
   "execution_count": 277,
   "metadata": {
    "tags": []
   },
   "outputs": [],
   "source": [
    "cols_to_fill = ['var_meter_state', 'var_reading_remark', 'var_months_since_last_reading',\n",
    "                'var_consum_band_1', 'var_old_index', 'var_new_index',\n",
    "               'std_meter_state', 'std_reading_remark', 'std_months_since_last_reading',\n",
    "                'std_consum_band_1', 'std_old_index', 'std_new_index']\n",
    "for col in cols_to_fill:\n",
    "    X_train[col].fillna(value = X_train[col].mean(), inplace = True)\n",
    "    X_test[col].fillna(value = X_test[col].mean(), inplace = True)"
   ]
  },
  {
   "cell_type": "code",
   "execution_count": 282,
   "metadata": {
    "tags": []
   },
   "outputs": [
    {
     "name": "stdout",
     "output_type": "stream",
     "text": [
      "              precision    recall  f1-score   support\n",
      "\n",
      "           0       0.95      0.94      0.95     25451\n",
      "           1       0.14      0.16      0.15      1512\n",
      "\n",
      "    accuracy                           0.90     26963\n",
      "   macro avg       0.54      0.55      0.55     26963\n",
      "weighted avg       0.90      0.90      0.90     26963\n",
      "\n"
     ]
    },
    {
     "data": {
      "image/png": "[encoded data removed]",
      "text/plain": [
       "<Figure size 640x480 with 2 Axes>"
      ]
     },
     "metadata": {},
     "output_type": "display_data"
    }
   ],
   "source": [
    "fraud_detect_dec_tree = DecisionTreeClassifier(max_depth=50)\n",
    "fraud_detect_dec_tree.fit(X_train,y_train)\n",
    "y_pred = fraud_detect_dec_tree.predict(X_test)\n",
    "print(classification_report(y_test,y_pred))\n",
    "conf_matrix = ConfusionMatrixDisplay(confusion_matrix(y_test,y_pred))\n",
    "conf_matrix.plot()\n",
    "plt.show()"
   ]
  },
  {
   "cell_type": "code",
   "execution_count": 283,
   "metadata": {
    "tags": []
   },
   "outputs": [
    {
     "data": {
      "text/html": [
       "<div>\n",
       "<style scoped>\n",
       "    .dataframe tbody tr th:only-of-type {\n",
       "        vertical-align: middle;\n",
       "    }\n",
       "\n",
       "    .dataframe tbody tr th {\n",
       "        vertical-align: top;\n",
       "    }\n",
       "\n",
       "    .dataframe thead th {\n",
       "        text-align: right;\n",
       "    }\n",
       "</style>\n",
       "<table border=\"1\" class=\"dataframe\">\n",
       "  <thead>\n",
       "    <tr style=\"text-align: right;\">\n",
       "      <th></th>\n",
       "      <th>features</th>\n",
       "      <th>importances</th>\n",
       "    </tr>\n",
       "  </thead>\n",
       "  <tbody>\n",
       "    <tr>\n",
       "      <th>0</th>\n",
       "      <td>mean_consum_band_1</td>\n",
       "      <td>9.23</td>\n",
       "    </tr>\n",
       "    <tr>\n",
       "      <th>1</th>\n",
       "      <td>mean_reading_remark</td>\n",
       "      <td>7.12</td>\n",
       "    </tr>\n",
       "    <tr>\n",
       "      <th>2</th>\n",
       "      <td>median_consum_band_1</td>\n",
       "      <td>6.21</td>\n",
       "    </tr>\n",
       "    <tr>\n",
       "      <th>3</th>\n",
       "      <td>mean_new_index</td>\n",
       "      <td>5.94</td>\n",
       "    </tr>\n",
       "    <tr>\n",
       "      <th>4</th>\n",
       "      <td>median_old_index</td>\n",
       "      <td>5.80</td>\n",
       "    </tr>\n",
       "    <tr>\n",
       "      <th>5</th>\n",
       "      <td>std_old_index</td>\n",
       "      <td>5.76</td>\n",
       "    </tr>\n",
       "    <tr>\n",
       "      <th>6</th>\n",
       "      <td>mean_months_since_last_reading</td>\n",
       "      <td>5.66</td>\n",
       "    </tr>\n",
       "    <tr>\n",
       "      <th>7</th>\n",
       "      <td>mean_old_index</td>\n",
       "      <td>5.54</td>\n",
       "    </tr>\n",
       "    <tr>\n",
       "      <th>8</th>\n",
       "      <td>median_new_index</td>\n",
       "      <td>5.42</td>\n",
       "    </tr>\n",
       "    <tr>\n",
       "      <th>9</th>\n",
       "      <td>std_consum_band_1</td>\n",
       "      <td>4.65</td>\n",
       "    </tr>\n",
       "    <tr>\n",
       "      <th>10</th>\n",
       "      <td>var_consum_band_1</td>\n",
       "      <td>4.42</td>\n",
       "    </tr>\n",
       "    <tr>\n",
       "      <th>11</th>\n",
       "      <td>std_reading_remark</td>\n",
       "      <td>4.40</td>\n",
       "    </tr>\n",
       "    <tr>\n",
       "      <th>12</th>\n",
       "      <td>var_old_index</td>\n",
       "      <td>4.30</td>\n",
       "    </tr>\n",
       "    <tr>\n",
       "      <th>13</th>\n",
       "      <td>var_reading_remark</td>\n",
       "      <td>4.24</td>\n",
       "    </tr>\n",
       "    <tr>\n",
       "      <th>14</th>\n",
       "      <td>std_new_index</td>\n",
       "      <td>4.16</td>\n",
       "    </tr>\n",
       "    <tr>\n",
       "      <th>15</th>\n",
       "      <td>var_new_index</td>\n",
       "      <td>3.81</td>\n",
       "    </tr>\n",
       "    <tr>\n",
       "      <th>16</th>\n",
       "      <td>var_months_since_last_reading</td>\n",
       "      <td>3.73</td>\n",
       "    </tr>\n",
       "    <tr>\n",
       "      <th>17</th>\n",
       "      <td>std_months_since_last_reading</td>\n",
       "      <td>3.65</td>\n",
       "    </tr>\n",
       "    <tr>\n",
       "      <th>18</th>\n",
       "      <td>mean_meter_state</td>\n",
       "      <td>1.59</td>\n",
       "    </tr>\n",
       "    <tr>\n",
       "      <th>19</th>\n",
       "      <td>std_meter_state</td>\n",
       "      <td>1.35</td>\n",
       "    </tr>\n",
       "    <tr>\n",
       "      <th>20</th>\n",
       "      <td>var_meter_state</td>\n",
       "      <td>1.32</td>\n",
       "    </tr>\n",
       "    <tr>\n",
       "      <th>21</th>\n",
       "      <td>median_reading_remark</td>\n",
       "      <td>0.72</td>\n",
       "    </tr>\n",
       "    <tr>\n",
       "      <th>22</th>\n",
       "      <td>median_months_since_last_reading</td>\n",
       "      <td>0.52</td>\n",
       "    </tr>\n",
       "    <tr>\n",
       "      <th>23</th>\n",
       "      <td>client_catg</td>\n",
       "      <td>0.47</td>\n",
       "    </tr>\n",
       "    <tr>\n",
       "      <th>24</th>\n",
       "      <td>median_meter_state</td>\n",
       "      <td>0.00</td>\n",
       "    </tr>\n",
       "  </tbody>\n",
       "</table>\n",
       "</div>"
      ],
      "text/plain": [
       "                            features  importances\n",
       "0                 mean_consum_band_1         9.23\n",
       "1                mean_reading_remark         7.12\n",
       "2               median_consum_band_1         6.21\n",
       "3                     mean_new_index         5.94\n",
       "4                   median_old_index         5.80\n",
       "5                      std_old_index         5.76\n",
       "6     mean_months_since_last_reading         5.66\n",
       "7                     mean_old_index         5.54\n",
       "8                   median_new_index         5.42\n",
       "9                  std_consum_band_1         4.65\n",
       "10                 var_consum_band_1         4.42\n",
       "11                std_reading_remark         4.40\n",
       "12                     var_old_index         4.30\n",
       "13                var_reading_remark         4.24\n",
       "14                     std_new_index         4.16\n",
       "15                     var_new_index         3.81\n",
       "16     var_months_since_last_reading         3.73\n",
       "17     std_months_since_last_reading         3.65\n",
       "18                  mean_meter_state         1.59\n",
       "19                   std_meter_state         1.35\n",
       "20                   var_meter_state         1.32\n",
       "21             median_reading_remark         0.72\n",
       "22  median_months_since_last_reading         0.52\n",
       "23                       client_catg         0.47\n",
       "24                median_meter_state         0.00"
      ]
     },
     "execution_count": 283,
     "metadata": {},
     "output_type": "execute_result"
    }
   ],
   "source": [
    "pd.DataFrame(data = {'features': feats, \n",
    "                     'importances': (fraud_detect_dec_tree.feature_importances_*100).round(2)}).sort_values(by = 'importances', \n",
    "                                                                                                            ascending = False).reset_index(drop = True)"
   ]
  },
  {
   "cell_type": "markdown",
   "metadata": {},
   "source": [
    "## Models"
   ]
  },
  {
   "cell_type": "markdown",
   "metadata": {},
   "source": [
    "**Raw data**"
   ]
  },
  {
   "cell_type": "code",
   "execution_count": 166,
   "metadata": {
    "tags": []
   },
   "outputs": [],
   "source": [
    "cols = invoice_client_merge_df.columns.tolist()\n",
    "target = cols.pop(-3)\n",
    "remove_cols = ['client_id', 'invoice_month', 'invoice_year', 'creation_month', 'creation_year']\n",
    "for elem in remove_cols:\n",
    "    cols.remove(elem)\n",
    "feats = cols"
   ]
  },
  {
   "cell_type": "code",
   "execution_count": 167,
   "metadata": {
    "tags": []
   },
   "outputs": [],
   "source": [
    "X = invoice_client_merge_df[feats].copy()\n",
    "y = invoice_client_merge_df[target].copy()"
   ]
  },
  {
   "cell_type": "code",
   "execution_count": 168,
   "metadata": {
    "tags": []
   },
   "outputs": [],
   "source": [
    "X_train, X_test, y_train, y_test = train_test_split(X, y, test_size = 0.20, random_state = RSEED, stratify=y)"
   ]
  },
  {
   "cell_type": "code",
   "execution_count": 158,
   "metadata": {
    "tags": []
   },
   "outputs": [],
   "source": [
    "num_feats = ['consum_band_1', 'consum_band_2', 'consum_band_3', 'consum_band_4', 'new_index', 'old_index']\n",
    "cat_feats = [elem for elem in feats if elem not in num_cols]"
   ]
  },
  {
   "cell_type": "code",
   "execution_count": 159,
   "metadata": {
    "tags": []
   },
   "outputs": [],
   "source": [
    "my_minmax = MinMaxScaler()\n",
    "X_train[num_feats] = my_minmax.fit_transform(X_train[num_feats])\n",
    "X_test[num_feats] = my_minmax.fit_transform(X_test[num_feats])"
   ]
  },
  {
   "cell_type": "code",
   "execution_count": 160,
   "metadata": {
    "tags": []
   },
   "outputs": [],
   "source": [
    "X_train[cat_feats] = X_train[cat_feats].astype('category')\n",
    "X_test[cat_feats] = X_test[cat_feats].astype('category')"
   ]
  },
  {
   "cell_type": "code",
   "execution_count": 161,
   "metadata": {
    "tags": []
   },
   "outputs": [
    {
     "data": {
      "text/plain": [
       "fraud\n",
       "0    3298871\n",
       "1     282490\n",
       "Name: count, dtype: int64"
      ]
     },
     "execution_count": 161,
     "metadata": {},
     "output_type": "execute_result"
    }
   ],
   "source": [
    "y_train.value_counts()"
   ]
  },
  {
   "cell_type": "code",
   "execution_count": 162,
   "metadata": {
    "tags": []
   },
   "outputs": [],
   "source": [
    "from imblearn.over_sampling import RandomOverSampler \n",
    "\n",
    "ros = RandomOverSampler(random_state=RSEED, sampling_strategy='minority')\n",
    "X_train_resampled, y_train_resampled = ros.fit_resample(X_train, y_train)"
   ]
  },
  {
   "cell_type": "code",
   "execution_count": 169,
   "metadata": {
    "tags": []
   },
   "outputs": [],
   "source": [
    "from imblearn.over_sampling import SMOTE\n",
    "\n",
    "sm = SMOTE(sampling_strategy='minority', random_state=RSEED)\n",
    "X_train_resampled, y_train_resampled = ros.fit_resample(X_train, y_train)"
   ]
  },
  {
   "cell_type": "code",
   "execution_count": 163,
   "metadata": {
    "tags": []
   },
   "outputs": [
    {
     "name": "stdout",
     "output_type": "stream",
     "text": [
      "              precision    recall  f1-score   support\n",
      "\n",
      "           0       0.96      0.99      0.97    824719\n",
      "           1       0.79      0.55      0.65     70622\n",
      "\n",
      "    accuracy                           0.95    895341\n",
      "   macro avg       0.88      0.77      0.81    895341\n",
      "weighted avg       0.95      0.95      0.95    895341\n",
      "\n"
     ]
    },
    {
     "data": {
      "image/png": "[encoded data removed]",
      "text/plain": [
       "<Figure size 640x480 with 2 Axes>"
      ]
     },
     "metadata": {},
     "output_type": "display_data"
    }
   ],
   "source": [
    "fraud_detect_forest = RandomForestClassifier(n_estimators = 10, max_depth=50, random_state=RSEED, max_features = None, n_jobs = -1)\n",
    "fraud_detect_forest.fit(X_train_resampled,y_train_resampled)\n",
    "y_pred = fraud_detect_forest.predict(X_test)\n",
    "print(classification_report(y_test,y_pred))\n",
    "conf_matrix = ConfusionMatrixDisplay(confusion_matrix(y_test,y_pred))\n",
    "conf_matrix.plot()\n",
    "plt.show()"
   ]
  },
  {
   "cell_type": "code",
   "execution_count": 170,
   "metadata": {
    "tags": []
   },
   "outputs": [
    {
     "name": "stdout",
     "output_type": "stream",
     "text": [
      "              precision    recall  f1-score   support\n",
      "\n",
      "           0       0.98      0.98      0.98    824719\n",
      "           1       0.79      0.78      0.78     70622\n",
      "\n",
      "    accuracy                           0.97    895341\n",
      "   macro avg       0.88      0.88      0.88    895341\n",
      "weighted avg       0.97      0.97      0.97    895341\n",
      "\n"
     ]
    },
    {
     "data": {
      "image/png": "[encoded data removed]",
      "text/plain": [
       "<Figure size 640x480 with 2 Axes>"
      ]
     },
     "metadata": {},
     "output_type": "display_data"
    }
   ],
   "source": [
    "fraud_detect_dec_tree = DecisionTreeClassifier(max_depth=50, random_state = RSEED)\n",
    "fraud_detect_dec_tree.fit(X_train,y_train)\n",
    "y_pred = fraud_detect_dec_tree.predict(X_test)\n",
    "print(classification_report(y_test,y_pred))\n",
    "conf_matrix = ConfusionMatrixDisplay(confusion_matrix(y_test,y_pred))\n",
    "conf_matrix.plot()\n",
    "plt.show()"
   ]
  },
  {
   "cell_type": "markdown",
   "metadata": {},
   "source": [
    "**Statistics**"
   ]
  },
  {
   "cell_type": "code",
   "execution_count": 149,
   "metadata": {
    "tags": []
   },
   "outputs": [],
   "source": [
    "cols = invoice_client_elec_stats.columns.tolist()\n",
    "target = cols.pop(2)\n",
    "cols.remove('client_id')\n",
    "feats = cols"
   ]
  },
  {
   "cell_type": "code",
   "execution_count": 150,
   "metadata": {
    "tags": []
   },
   "outputs": [],
   "source": [
    "X = invoice_client_elec_stats[feats]\n",
    "y = invoice_client_elec_stats[target]"
   ]
  },
  {
   "cell_type": "code",
   "execution_count": 151,
   "metadata": {
    "tags": []
   },
   "outputs": [],
   "source": [
    "X_train, X_test, y_train, y_test = train_test_split(X, y, test_size = 0.20, random_state = RSEED, stratify=y)"
   ]
  },
  {
   "cell_type": "code",
   "execution_count": 152,
   "metadata": {
    "tags": []
   },
   "outputs": [],
   "source": [
    "cols_to_fill = ['var_meter_state', 'var_reading_remark', 'var_months_since_last_reading',\n",
    "                'var_consum_band_1', 'var_old_index', 'var_new_index',\n",
    "               'std_meter_state', 'std_reading_remark', 'std_months_since_last_reading',\n",
    "                'std_consum_band_1', 'std_old_index', 'std_new_index']\n",
    "for col in cols_to_fill:\n",
    "    X_train[col].fillna(value = X_train[col].mean(), inplace = True)\n",
    "    X_test[col].fillna(value = X_test[col].mean(), inplace = True)"
   ]
  },
  {
   "cell_type": "code",
   "execution_count": 153,
   "metadata": {
    "tags": []
   },
   "outputs": [
    {
     "name": "stdout",
     "output_type": "stream",
     "text": [
      "              precision    recall  f1-score   support\n",
      "\n",
      "           0       0.95      1.00      0.97     25451\n",
      "           1       0.50      0.07      0.13      1512\n",
      "\n",
      "    accuracy                           0.94     26963\n",
      "   macro avg       0.72      0.53      0.55     26963\n",
      "weighted avg       0.92      0.94      0.92     26963\n",
      "\n"
     ]
    },
    {
     "data": {
      "image/png": "[encoded data removed]",
      "text/plain": [
       "<Figure size 640x480 with 2 Axes>"
      ]
     },
     "metadata": {},
     "output_type": "display_data"
    }
   ],
   "source": [
    "fraud_detect_forest = RandomForestClassifier(n_estimators = 10, max_depth=50, random_state=RSEED, n_jobs = -1)\n",
    "fraud_detect_forest.fit(X_train,y_train)\n",
    "y_pred = fraud_detect_forest.predict(X_test)\n",
    "print(classification_report(y_test,y_pred))\n",
    "conf_matrix = ConfusionMatrixDisplay(confusion_matrix(y_test,y_pred))\n",
    "conf_matrix.plot()\n",
    "plt.show()"
   ]
  },
  {
   "cell_type": "markdown",
   "metadata": {},
   "source": [
    "**grid search**"
   ]
  },
  {
   "cell_type": "code",
   "execution_count": 6,
   "metadata": {
    "tags": []
   },
   "outputs": [],
   "source": [
    "cols = invoice_client_merge_df.columns.tolist()\n",
    "target = cols.pop(-3)\n",
    "remove_cols = ['client_id', 'invoice_month', 'invoice_year', 'creation_month', 'creation_year']\n",
    "for elem in remove_cols:\n",
    "    cols.remove(elem)\n",
    "feats = cols"
   ]
  },
  {
   "cell_type": "code",
   "execution_count": 7,
   "metadata": {
    "tags": []
   },
   "outputs": [],
   "source": [
    "X = invoice_client_merge_df[feats].copy()\n",
    "y = invoice_client_merge_df[target].copy()"
   ]
  },
  {
   "cell_type": "code",
   "execution_count": 8,
   "metadata": {
    "tags": []
   },
   "outputs": [],
   "source": [
    "X_train, X_test, y_train, y_test = train_test_split(X, y, test_size = 0.20, random_state = RSEED, stratify=y)"
   ]
  },
  {
   "cell_type": "code",
   "execution_count": 9,
   "metadata": {
    "tags": []
   },
   "outputs": [
    {
     "data": {
      "text/plain": [
       "dict_keys(['ccp_alpha', 'class_weight', 'criterion', 'max_depth', 'max_features', 'max_leaf_nodes', 'min_impurity_decrease', 'min_samples_leaf', 'min_samples_split', 'min_weight_fraction_leaf', 'random_state', 'splitter'])"
      ]
     },
     "execution_count": 9,
     "metadata": {},
     "output_type": "execute_result"
    }
   ],
   "source": [
    "DecisionTreeClassifier().get_params().keys()"
   ]
  },
  {
   "cell_type": "code",
   "execution_count": 10,
   "metadata": {
    "tags": []
   },
   "outputs": [
    {
     "name": "stdout",
     "output_type": "stream",
     "text": [
      "Fitting 2 folds for each of 24 candidates, totalling 48 fits\n"
     ]
    },
    {
     "data": {
      "text/html": [
       "<style>#sk-container-id-1 {color: black;background-color: white;}#sk-container-id-1 pre{padding: 0;}#sk-container-id-1 div.sk-toggleable {background-color: white;}#sk-container-id-1 label.sk-toggleable__label {cursor: pointer;display: block;width: 100%;margin-bottom: 0;padding: 0.3em;box-sizing: border-box;text-align: center;}#sk-container-id-1 label.sk-toggleable__label-arrow:before {content: \"▸\";float: left;margin-right: 0.25em;color: #696969;}#sk-container-id-1 label.sk-toggleable__label-arrow:hover:before {color: black;}#sk-container-id-1 div.sk-estimator:hover label.sk-toggleable__label-arrow:before {color: black;}#sk-container-id-1 div.sk-toggleable__content {max-height: 0;max-width: 0;overflow: hidden;text-align: left;background-color: #f0f8ff;}#sk-container-id-1 div.sk-toggleable__content pre {margin: 0.2em;color: black;border-radius: 0.25em;background-color: #f0f8ff;}#sk-container-id-1 input.sk-toggleable__control:checked~div.sk-toggleable__content {max-height: 200px;max-width: 100%;overflow: auto;}#sk-container-id-1 input.sk-toggleable__control:checked~label.sk-toggleable__label-arrow:before {content: \"▾\";}#sk-container-id-1 div.sk-estimator input.sk-toggleable__control:checked~label.sk-toggleable__label {background-color: #d4ebff;}#sk-container-id-1 div.sk-label input.sk-toggleable__control:checked~label.sk-toggleable__label {background-color: #d4ebff;}#sk-container-id-1 input.sk-hidden--visually {border: 0;clip: rect(1px 1px 1px 1px);clip: rect(1px, 1px, 1px, 1px);height: 1px;margin: -1px;overflow: hidden;padding: 0;position: absolute;width: 1px;}#sk-container-id-1 div.sk-estimator {font-family: monospace;background-color: #f0f8ff;border: 1px dotted black;border-radius: 0.25em;box-sizing: border-box;margin-bottom: 0.5em;}#sk-container-id-1 div.sk-estimator:hover {background-color: #d4ebff;}#sk-container-id-1 div.sk-parallel-item::after {content: \"\";width: 100%;border-bottom: 1px solid gray;flex-grow: 1;}#sk-container-id-1 div.sk-label:hover label.sk-toggleable__label {background-color: #d4ebff;}#sk-container-id-1 div.sk-serial::before {content: \"\";position: absolute;border-left: 1px solid gray;box-sizing: border-box;top: 0;bottom: 0;left: 50%;z-index: 0;}#sk-container-id-1 div.sk-serial {display: flex;flex-direction: column;align-items: center;background-color: white;padding-right: 0.2em;padding-left: 0.2em;position: relative;}#sk-container-id-1 div.sk-item {position: relative;z-index: 1;}#sk-container-id-1 div.sk-parallel {display: flex;align-items: stretch;justify-content: center;background-color: white;position: relative;}#sk-container-id-1 div.sk-item::before, #sk-container-id-1 div.sk-parallel-item::before {content: \"\";position: absolute;border-left: 1px solid gray;box-sizing: border-box;top: 0;bottom: 0;left: 50%;z-index: -1;}#sk-container-id-1 div.sk-parallel-item {display: flex;flex-direction: column;z-index: 1;position: relative;background-color: white;}#sk-container-id-1 div.sk-parallel-item:first-child::after {align-self: flex-end;width: 50%;}#sk-container-id-1 div.sk-parallel-item:last-child::after {align-self: flex-start;width: 50%;}#sk-container-id-1 div.sk-parallel-item:only-child::after {width: 0;}#sk-container-id-1 div.sk-dashed-wrapped {border: 1px dashed gray;margin: 0 0.4em 0.5em 0.4em;box-sizing: border-box;padding-bottom: 0.4em;background-color: white;}#sk-container-id-1 div.sk-label label {font-family: monospace;font-weight: bold;display: inline-block;line-height: 1.2em;}#sk-container-id-1 div.sk-label-container {text-align: center;}#sk-container-id-1 div.sk-container {/* jupyter's `normalize.less` sets `[hidden] { display: none; }` but bootstrap.min.css set `[hidden] { display: none !important; }` so we also need the `!important` here to be able to override the default hidden behavior on the sphinx rendered scikit-learn.org. See: https://github.com/scikit-learn/scikit-learn/issues/21755 */display: inline-block !important;position: relative;}#sk-container-id-1 div.sk-text-repr-fallback {display: none;}</style><div id=\"sk-container-id-1\" class=\"sk-top-container\"><div class=\"sk-text-repr-fallback\"><pre>GridSearchCV(cv=2, estimator=DecisionTreeClassifier(random_state=42), n_jobs=-1,\n",
       "             param_grid={&#x27;class_weight&#x27;: [&#x27;None&#x27;, &#x27;balanced&#x27;],\n",
       "                         &#x27;max_depth&#x27;: [10, 50, 100, 200],\n",
       "                         &#x27;min_samples_split&#x27;: [10, 50, 100]},\n",
       "             scoring=&#x27;precision&#x27;, verbose=5)</pre><b>In a Jupyter environment, please rerun this cell to show the HTML representation or trust the notebook. <br />On GitHub, the HTML representation is unable to render, please try loading this page with nbviewer.org.</b></div><div class=\"sk-container\" hidden><div class=\"sk-item sk-dashed-wrapped\"><div class=\"sk-label-container\"><div class=\"sk-label sk-toggleable\"><input class=\"sk-toggleable__control sk-hidden--visually\" id=\"sk-estimator-id-1\" type=\"checkbox\" ><label for=\"sk-estimator-id-1\" class=\"sk-toggleable__label sk-toggleable__label-arrow\">GridSearchCV</label><div class=\"sk-toggleable__content\"><pre>GridSearchCV(cv=2, estimator=DecisionTreeClassifier(random_state=42), n_jobs=-1,\n",
       "             param_grid={&#x27;class_weight&#x27;: [&#x27;None&#x27;, &#x27;balanced&#x27;],\n",
       "                         &#x27;max_depth&#x27;: [10, 50, 100, 200],\n",
       "                         &#x27;min_samples_split&#x27;: [10, 50, 100]},\n",
       "             scoring=&#x27;precision&#x27;, verbose=5)</pre></div></div></div><div class=\"sk-parallel\"><div class=\"sk-parallel-item\"><div class=\"sk-item\"><div class=\"sk-label-container\"><div class=\"sk-label sk-toggleable\"><input class=\"sk-toggleable__control sk-hidden--visually\" id=\"sk-estimator-id-2\" type=\"checkbox\" ><label for=\"sk-estimator-id-2\" class=\"sk-toggleable__label sk-toggleable__label-arrow\">estimator: DecisionTreeClassifier</label><div class=\"sk-toggleable__content\"><pre>DecisionTreeClassifier(random_state=42)</pre></div></div></div><div class=\"sk-serial\"><div class=\"sk-item\"><div class=\"sk-estimator sk-toggleable\"><input class=\"sk-toggleable__control sk-hidden--visually\" id=\"sk-estimator-id-3\" type=\"checkbox\" ><label for=\"sk-estimator-id-3\" class=\"sk-toggleable__label sk-toggleable__label-arrow\">DecisionTreeClassifier</label><div class=\"sk-toggleable__content\"><pre>DecisionTreeClassifier(random_state=42)</pre></div></div></div></div></div></div></div></div></div></div>"
      ],
      "text/plain": [
       "GridSearchCV(cv=2, estimator=DecisionTreeClassifier(random_state=42), n_jobs=-1,\n",
       "             param_grid={'class_weight': ['None', 'balanced'],\n",
       "                         'max_depth': [10, 50, 100, 200],\n",
       "                         'min_samples_split': [10, 50, 100]},\n",
       "             scoring='precision', verbose=5)"
      ]
     },
     "execution_count": 10,
     "metadata": {},
     "output_type": "execute_result"
    }
   ],
   "source": [
    "# Defining parameter grid (as dictionary)\n",
    "param_grid = {'max_depth' : [10, 50, 100, 200],\n",
    "              'min_samples_split' : [10, 50, 100],\n",
    "              'class_weight' : ['None', 'balanced']\n",
    "             }\n",
    "\n",
    "# Instantiate gridsearch and define the metric to optimize \n",
    "gs = GridSearchCV(DecisionTreeClassifier(random_state = RSEED), param_grid, scoring='precision',\n",
    "                  cv=2, verbose=5, n_jobs=-1)\n",
    "gs.fit(X_train, y_train)"
   ]
  },
  {
   "cell_type": "code",
   "execution_count": 11,
   "metadata": {},
   "outputs": [
    {
     "name": "stdout",
     "output_type": "stream",
     "text": [
      "Best score: 0.524\n",
      "Best parameters: {'class_weight': 'balanced', 'max_depth': 100, 'min_samples_split': 10}\n"
     ]
    }
   ],
   "source": [
    "# Best score\n",
    "print('Best score:', round(gs.best_score_, 3))\n",
    "\n",
    "# Best parameters\n",
    "print('Best parameters:', gs.best_params_)"
   ]
  },
  {
   "cell_type": "code",
   "execution_count": 13,
   "metadata": {
    "tags": []
   },
   "outputs": [
    {
     "name": "stdout",
     "output_type": "stream",
     "text": [
      "              precision    recall  f1-score   support\n",
      "\n",
      "           0       0.99      0.97      0.98    824719\n",
      "           1       0.69      0.83      0.75     70622\n",
      "\n",
      "    accuracy                           0.96    895341\n",
      "   macro avg       0.84      0.90      0.86    895341\n",
      "weighted avg       0.96      0.96      0.96    895341\n",
      "\n"
     ]
    },
    {
     "data": {
      "image/png": "[encoded data removed]",
      "text/plain": [
       "<Figure size 640x480 with 2 Axes>"
      ]
     },
     "metadata": {},
     "output_type": "display_data"
    }
   ],
   "source": [
    "dc_best = gs.best_estimator_\n",
    "y_pred = dc_best.predict(X_test)\n",
    "print(classification_report(y_test,y_pred))\n",
    "conf_matrix = ConfusionMatrixDisplay(confusion_matrix(y_test,y_pred))\n",
    "conf_matrix.plot()\n",
    "plt.show()"
   ]
  },
  {
   "cell_type": "markdown",
   "metadata": {
    "id": "d1qXp8jYY30X"
   },
   "source": [
    "## Train LGBM *Classifier*"
   ]
  },
  {
   "cell_type": "code",
   "execution_count": null,
   "metadata": {
    "id": "QTr8Wbu1ZKTM"
   },
   "outputs": [],
   "source": [
    "x_train = train.drop(columns=['target'])\n",
    "y_train = train['target']"
   ]
  },
  {
   "cell_type": "code",
   "execution_count": null,
   "metadata": {
    "colab": {
     "base_uri": "https://localhost:8080/"
    },
    "id": "iXjUC4PZYMgF",
    "outputId": "3f132cea-1ef5-45ce-bdf0-45c76a62c84c"
   },
   "outputs": [],
   "source": [
    "model = LGBMClassifier(boosting_type='gbdt', num_iterationss=500)\n",
    "model.fit(x_train, y_train)"
   ]
  },
  {
   "cell_type": "code",
   "execution_count": null,
   "metadata": {
    "colab": {
     "base_uri": "https://localhost:8080/"
    },
    "id": "ddn7FuuCZHqr",
    "outputId": "e6d5735b-9abf-4e99-e83d-b04b7e63ac44"
   },
   "outputs": [],
   "source": [
    "x_train.disrict.unique()"
   ]
  },
  {
   "cell_type": "markdown",
   "metadata": {
    "id": "CKsrOiePadZ7"
   },
   "source": [
    "## Make Predictions on test set"
   ]
  },
  {
   "cell_type": "code",
   "execution_count": null,
   "metadata": {
    "colab": {
     "base_uri": "https://localhost:8080/"
    },
    "id": "nBww16tEajXs",
    "outputId": "a963cd4a-4aaf-4d1b-8524-0d7e67be1c48"
   },
   "outputs": [],
   "source": [
    "test.columns"
   ]
  },
  {
   "cell_type": "code",
   "execution_count": null,
   "metadata": {
    "colab": {
     "base_uri": "https://localhost:8080/",
     "height": 206
    },
    "id": "SGIjyZfmaf7C",
    "outputId": "b4bdd7a5-a496-405c-9651-ba482afd1046"
   },
   "outputs": [],
   "source": [
    "preds = model.predict(test)\n",
    "preds = pd.DataFrame(preds, columns=['target'])\n",
    "preds.head()"
   ]
  },
  {
   "cell_type": "code",
   "execution_count": null,
   "metadata": {
    "colab": {
     "base_uri": "https://localhost:8080/",
     "height": 206
    },
    "id": "mX3rv6dwaw3-",
    "outputId": "6db1fc21-c545-4b99-a6f1-9357b2ef405d"
   },
   "outputs": [],
   "source": [
    "submission = pd.DataFrame(\n",
    "    {\n",
    "        'client_id': sub_client_id,\n",
    "        'target': preds['target']\n",
    "    }\n",
    ")\n",
    "\n",
    "submission.head()"
   ]
  },
  {
   "cell_type": "code",
   "execution_count": null,
   "metadata": {
    "id": "O7_ANcWUboUB"
   },
   "outputs": [],
   "source": [
    "submission.to_csv(f'{OUTPUT_DIR}/submission.csv', index=False)"
   ]
  },
  {
   "cell_type": "markdown",
   "metadata": {
    "id": "Msm0u0WXdQ2l"
   },
   "source": [
    "## Tips \n",
    "- Thorough EDA and incorporating domain knowledge\n",
    "- Re-grouping categorical features\n",
    "- More feature engineering(try utilizing some date-time features)\n",
    "- Target balancing - oversampling, undersampling, SMOTE, scale_pos_weight\n",
    "- Model ensembling\n",
    "- Train-test split or cross-validation\n"
   ]
  },
  {
   "cell_type": "markdown",
   "metadata": {
    "id": "fgvYxyLXeEuU"
   },
   "source": [
    "# ******************* GOOD LUCK!!! ***************************"
   ]
  }
 ],
 "metadata": {
  "colab": {
   "provenance": []
  },
  "kernelspec": {
   "display_name": "Python 3 (ipykernel)",
   "language": "python",
   "name": "python3"
  },
  "language_info": {
   "codemirror_mode": {
    "name": "ipython",
    "version": 3
   },
   "file_extension": ".py",
   "mimetype": "text/x-python",
   "name": "python",
   "nbconvert_exporter": "python",
   "pygments_lexer": "ipython3",
   "version": "3.11.3"
  }
 },
 "nbformat": 4,
 "nbformat_minor": 4
}
